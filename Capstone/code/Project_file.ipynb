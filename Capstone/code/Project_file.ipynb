{
 "cells": [
  {
   "cell_type": "code",
   "execution_count": 156,
   "metadata": {},
   "outputs": [],
   "source": [
    "import plotly.graph_objs as go"
   ]
  },
  {
   "cell_type": "code",
   "execution_count": 157,
   "metadata": {},
   "outputs": [],
   "source": [
    "import pandas as pd\n",
    "import numpy as np\n",
    "import matplotlib.pyplot as plt\n",
    "%matplotlib inline\n",
    "import seaborn as sns\n",
    "import scipy.stats as stats\n",
    "pd.options.display.max_columns=None\n",
    "pd.options.display.max_rows=None\n",
    "pd.options.display.float_format = '{:.6f}'.format\n",
    "from sklearn.model_selection import cross_val_score,train_test_split\n",
    "from sklearn.ensemble import RandomForestClassifier\n",
    "from sklearn.metrics import roc_auc_score,auc,confusion_matrix,classification_report\n",
    "from sklearn.tree import DecisionTreeClassifier\n",
    "from sklearn.neighbors import KNeighborsClassifier"
   ]
  },
  {
   "cell_type": "markdown",
   "metadata": {},
   "source": [
    "# Train data"
   ]
  },
  {
   "cell_type": "code",
   "execution_count": 158,
   "metadata": {},
   "outputs": [
    {
     "data": {
      "text/html": [
       "<div>\n",
       "<style scoped>\n",
       "    .dataframe tbody tr th:only-of-type {\n",
       "        vertical-align: middle;\n",
       "    }\n",
       "\n",
       "    .dataframe tbody tr th {\n",
       "        vertical-align: top;\n",
       "    }\n",
       "\n",
       "    .dataframe thead th {\n",
       "        text-align: right;\n",
       "    }\n",
       "</style>\n",
       "<table border=\"1\" class=\"dataframe\">\n",
       "  <thead>\n",
       "    <tr style=\"text-align: right;\">\n",
       "      <th></th>\n",
       "      <th>id</th>\n",
       "      <th>campaign_id</th>\n",
       "      <th>coupon_id</th>\n",
       "      <th>customer_id</th>\n",
       "      <th>redemption_status</th>\n",
       "    </tr>\n",
       "  </thead>\n",
       "  <tbody>\n",
       "    <tr>\n",
       "      <td>0</td>\n",
       "      <td>1</td>\n",
       "      <td>13</td>\n",
       "      <td>27</td>\n",
       "      <td>1053</td>\n",
       "      <td>0</td>\n",
       "    </tr>\n",
       "    <tr>\n",
       "      <td>1</td>\n",
       "      <td>2</td>\n",
       "      <td>13</td>\n",
       "      <td>116</td>\n",
       "      <td>48</td>\n",
       "      <td>0</td>\n",
       "    </tr>\n",
       "    <tr>\n",
       "      <td>2</td>\n",
       "      <td>6</td>\n",
       "      <td>9</td>\n",
       "      <td>635</td>\n",
       "      <td>205</td>\n",
       "      <td>0</td>\n",
       "    </tr>\n",
       "    <tr>\n",
       "      <td>3</td>\n",
       "      <td>7</td>\n",
       "      <td>13</td>\n",
       "      <td>644</td>\n",
       "      <td>1050</td>\n",
       "      <td>0</td>\n",
       "    </tr>\n",
       "    <tr>\n",
       "      <td>4</td>\n",
       "      <td>9</td>\n",
       "      <td>8</td>\n",
       "      <td>1017</td>\n",
       "      <td>1489</td>\n",
       "      <td>0</td>\n",
       "    </tr>\n",
       "  </tbody>\n",
       "</table>\n",
       "</div>"
      ],
      "text/plain": [
       "   id  campaign_id  coupon_id  customer_id  redemption_status\n",
       "0   1           13         27         1053                  0\n",
       "1   2           13        116           48                  0\n",
       "2   6            9        635          205                  0\n",
       "3   7           13        644         1050                  0\n",
       "4   9            8       1017         1489                  0"
      ]
     },
     "execution_count": 158,
     "metadata": {},
     "output_type": "execute_result"
    }
   ],
   "source": [
    "train=pd.read_csv(\"train.csv\")\n",
    "train.head()"
   ]
  },
  {
   "cell_type": "code",
   "execution_count": 159,
   "metadata": {},
   "outputs": [
    {
     "name": "stdout",
     "output_type": "stream",
     "text": [
      "<class 'pandas.core.frame.DataFrame'>\n",
      "RangeIndex: 78369 entries, 0 to 78368\n",
      "Data columns (total 5 columns):\n",
      "id                   78369 non-null int64\n",
      "campaign_id          78369 non-null int64\n",
      "coupon_id            78369 non-null int64\n",
      "customer_id          78369 non-null int64\n",
      "redemption_status    78369 non-null int64\n",
      "dtypes: int64(5)\n",
      "memory usage: 3.0 MB\n"
     ]
    }
   ],
   "source": [
    "train.info()"
   ]
  },
  {
   "cell_type": "code",
   "execution_count": 160,
   "metadata": {},
   "outputs": [
    {
     "data": {
      "text/plain": [
       "(78369, 5)"
      ]
     },
     "execution_count": 160,
     "metadata": {},
     "output_type": "execute_result"
    }
   ],
   "source": [
    "train.shape"
   ]
  },
  {
   "cell_type": "code",
   "execution_count": 161,
   "metadata": {},
   "outputs": [
    {
     "data": {
      "text/plain": [
       "id                   0\n",
       "campaign_id          0\n",
       "coupon_id            0\n",
       "customer_id          0\n",
       "redemption_status    0\n",
       "dtype: int64"
      ]
     },
     "execution_count": 161,
     "metadata": {},
     "output_type": "execute_result"
    }
   ],
   "source": [
    "train.isnull().sum()"
   ]
  },
  {
   "cell_type": "code",
   "execution_count": 162,
   "metadata": {},
   "outputs": [
    {
     "data": {
      "text/plain": [
       "id                   78369\n",
       "campaign_id             18\n",
       "coupon_id              866\n",
       "customer_id           1428\n",
       "redemption_status        2\n",
       "dtype: int64"
      ]
     },
     "execution_count": 162,
     "metadata": {},
     "output_type": "execute_result"
    }
   ],
   "source": [
    "train.nunique()"
   ]
  },
  {
   "cell_type": "markdown",
   "metadata": {},
   "source": [
    "#### Train_data features"
   ]
  },
  {
   "cell_type": "markdown",
   "metadata": {},
   "source": [
    " 1. Campaign"
   ]
  },
  {
   "cell_type": "code",
   "execution_count": 163,
   "metadata": {},
   "outputs": [
    {
     "data": {
      "text/plain": [
       "[1, 2, 3, 4, 5, 6, 7, 8, 9, 10, 11, 12, 13, 26, 27, 28, 29, 30]"
      ]
     },
     "execution_count": 163,
     "metadata": {},
     "output_type": "execute_result"
    }
   ],
   "source": [
    "# Unique campaign\n",
    "sorted(train.campaign_id.unique())"
   ]
  },
  {
   "cell_type": "code",
   "execution_count": 164,
   "metadata": {},
   "outputs": [
    {
     "data": {
      "text/plain": [
       "18"
      ]
     },
     "execution_count": 164,
     "metadata": {},
     "output_type": "execute_result"
    }
   ],
   "source": [
    "#Total unique campaign\n",
    "train.campaign_id.nunique()"
   ]
  },
  {
   "cell_type": "code",
   "execution_count": 165,
   "metadata": {
    "scrolled": true
   },
   "outputs": [
    {
     "data": {
      "image/png": "[encoded data removed]",
      "text/plain": [
       "<Figure size 432x288 with 1 Axes>"
      ]
     },
     "metadata": {
      "needs_background": "light"
     },
     "output_type": "display_data"
    }
   ],
   "source": [
    "train.campaign_id.value_counts().plot(kind=\"bar\")\n",
    "plt.title(\"Campaign wise Distribution of Train Data\",c='r')\n",
    "plt.xlabel(\"campaign id\")\n",
    "plt.ylabel(\"Count\")\n",
    "plt.show()"
   ]
  },
  {
   "cell_type": "code",
   "execution_count": 166,
   "metadata": {},
   "outputs": [],
   "source": [
    "# Campaign count in train data"
   ]
  },
  {
   "cell_type": "markdown",
   "metadata": {},
   "source": [
    "2. coupon_id"
   ]
  },
  {
   "cell_type": "code",
   "execution_count": 167,
   "metadata": {},
   "outputs": [
    {
     "data": {
      "text/plain": [
       "866"
      ]
     },
     "execution_count": 167,
     "metadata": {},
     "output_type": "execute_result"
    }
   ],
   "source": [
    "# Total unique coupon id\n",
    "train.coupon_id.nunique()"
   ]
  },
  {
   "cell_type": "code",
   "execution_count": 168,
   "metadata": {},
   "outputs": [
    {
     "data": {
      "image/png": "[encoded data removed]",
      "text/plain": [
       "<Figure size 432x288 with 1 Axes>"
      ]
     },
     "metadata": {
      "needs_background": "light"
     },
     "output_type": "display_data"
    }
   ],
   "source": [
    "# Coupon_id 705 has the highest count in the train data (Top 5)\n",
    "train.coupon_id.value_counts().head().plot(kind='bar')\n",
    "plt.title(\"Top 5 used Coupon id's\",c='r')\n",
    "plt.xlabel('Coupon id')\n",
    "plt.ylabel('No. of times used in train data')\n",
    "plt.show()"
   ]
  },
  {
   "cell_type": "markdown",
   "metadata": {},
   "source": [
    "3. customer_id "
   ]
  },
  {
   "cell_type": "code",
   "execution_count": 169,
   "metadata": {},
   "outputs": [
    {
     "data": {
      "text/plain": [
       "1428"
      ]
     },
     "execution_count": 169,
     "metadata": {},
     "output_type": "execute_result"
    }
   ],
   "source": [
    "# Total unique customers\n",
    "train.customer_id.nunique()"
   ]
  },
  {
   "cell_type": "code",
   "execution_count": 170,
   "metadata": {},
   "outputs": [
    {
     "data": {
      "text/plain": [
       "1463    199\n",
       "590     193\n",
       "189     175\n",
       "1192    173\n",
       "464     171\n",
       "Name: customer_id, dtype: int64"
      ]
     },
     "execution_count": 170,
     "metadata": {},
     "output_type": "execute_result"
    }
   ],
   "source": [
    "# Top 5 customers with maximum coupons (Top 5)\n",
    "train.customer_id.value_counts().head()"
   ]
  },
  {
   "cell_type": "markdown",
   "metadata": {},
   "source": [
    "4. redemption_status "
   ]
  },
  {
   "cell_type": "code",
   "execution_count": 171,
   "metadata": {},
   "outputs": [
    {
     "data": {
      "text/plain": [
       "0    77640\n",
       "1      729\n",
       "Name: redemption_status, dtype: int64"
      ]
     },
     "execution_count": 171,
     "metadata": {},
     "output_type": "execute_result"
    }
   ],
   "source": [
    "train.redemption_status.value_counts()"
   ]
  },
  {
   "cell_type": "code",
   "execution_count": 172,
   "metadata": {},
   "outputs": [
    {
     "data": {
      "text/plain": [
       "0   99.069785\n",
       "1    0.930215\n",
       "Name: redemption_status, dtype: float64"
      ]
     },
     "execution_count": 172,
     "metadata": {},
     "output_type": "execute_result"
    }
   ],
   "source": [
    "train.redemption_status.value_counts(normalize=True)*100"
   ]
  },
  {
   "cell_type": "code",
   "execution_count": 173,
   "metadata": {},
   "outputs": [
    {
     "data": {
      "image/png": "[encoded data removed]",
      "text/plain": [
       "<Figure size 432x288 with 1 Axes>"
      ]
     },
     "metadata": {
      "needs_background": "light"
     },
     "output_type": "display_data"
    }
   ],
   "source": [
    "sns.countplot(train['redemption_status'])\n",
    "#train.redemption_status.value_counts().plot(kind='bar')\n",
    "plt.title(\"Coupon redemption status\",c='r')\n",
    "plt.yticks([train.redemption_status.value_counts()[0],train.redemption_status.value_counts()[1]],['99.06%','0.94%'],c='g')\n",
    "plt.xticks([0,1],['Coupon not redeemed','Coupon redeemed'])\n",
    "plt.ylabel('% Distribution in Train data')\n",
    "plt.show()"
   ]
  },
  {
   "cell_type": "code",
   "execution_count": 174,
   "metadata": {},
   "outputs": [
    {
     "data": {
      "image/png": "[encoded data removed]",
      "text/plain": [
       "<Figure size 432x288 with 1 Axes>"
      ]
     },
     "metadata": {
      "needs_background": "light"
     },
     "output_type": "display_data"
    }
   ],
   "source": [
    "# Coupon_id with maximum redemption (Top 5)\n",
    "train[train.redemption_status==1][\"coupon_id\"].value_counts().head().plot(kind='bar')\n",
    "plt.title('Coupon id with maximum redemptions',c='r')\n",
    "plt.xlabel(\"Coupon id\")\n",
    "plt.ylabel('No. of times redeemed')\n",
    "plt.show()"
   ]
  },
  {
   "cell_type": "code",
   "execution_count": 175,
   "metadata": {},
   "outputs": [
    {
     "data": {
      "image/png": "[encoded data removed]",
      "text/plain": [
       "<Figure size 432x288 with 1 Axes>"
      ]
     },
     "metadata": {
      "needs_background": "light"
     },
     "output_type": "display_data"
    }
   ],
   "source": [
    "# Campaign_id with maximum redemption (Top 5)\n",
    "train[train.redemption_status==1][\"campaign_id\"].value_counts().head().plot(kind='bar')\n",
    "plt.title('Campaign id with maximum redemptions',c='r')\n",
    "# campaign_id 13 is most successful campaign with 346 coupon redemption\n",
    "plt.xlabel('Coupon id')\n",
    "plt.ylabel('No. of times redeemed')\n",
    "plt.show()"
   ]
  },
  {
   "cell_type": "code",
   "execution_count": 176,
   "metadata": {},
   "outputs": [
    {
     "data": {
      "text/plain": [
       "18"
      ]
     },
     "execution_count": 176,
     "metadata": {},
     "output_type": "execute_result"
    }
   ],
   "source": [
    "# All campaign are having some coupon redemtion\n",
    "train[train.redemption_status==1][\"campaign_id\"].value_counts().count()"
   ]
  },
  {
   "cell_type": "code",
   "execution_count": 177,
   "metadata": {},
   "outputs": [
    {
     "data": {
      "image/png": "[encoded data removed]",
      "text/plain": [
       "<Figure size 576x360 with 1 Axes>"
      ]
     },
     "metadata": {
      "needs_background": "light"
     },
     "output_type": "display_data"
    }
   ],
   "source": [
    "plt.figure(figsize=(8,5))\n",
    "train[train.redemption_status==1][\"campaign_id\"].value_counts().plot(kind=\"bar\")\n",
    "plt.title(\"Campaign wise distribution in Coupon redeemed case\",c='r')\n",
    "plt.xlabel('Campaign id')\n",
    "plt.ylabel(\"Customers who redeemed coupon\")\n",
    "plt.show()"
   ]
  },
  {
   "cell_type": "code",
   "execution_count": 178,
   "metadata": {},
   "outputs": [],
   "source": [
    "# Customer with maximum redemption (Top 5)"
   ]
  },
  {
   "cell_type": "code",
   "execution_count": 179,
   "metadata": {},
   "outputs": [
    {
     "data": {
      "image/png": "[encoded data removed]",
      "text/plain": [
       "<Figure size 432x288 with 1 Axes>"
      ]
     },
     "metadata": {
      "needs_background": "light"
     },
     "output_type": "display_data"
    }
   ],
   "source": [
    "train[train.redemption_status==1][\"customer_id\"].value_counts().head().plot(kind='bar')\n",
    "plt.title('Customers with maximum redemptions',c='r')\n",
    "plt.xlabel('Customer Id')\n",
    "plt.ylabel('No. of times redeemed')\n",
    "plt.show()"
   ]
  },
  {
   "cell_type": "code",
   "execution_count": 180,
   "metadata": {},
   "outputs": [
    {
     "data": {
      "text/plain": [
       "247"
      ]
     },
     "execution_count": 180,
     "metadata": {},
     "output_type": "execute_result"
    }
   ],
   "source": [
    "# Total unique customers who redeemed coupon\n",
    "train[train.redemption_status==1][\"customer_id\"].value_counts().count()"
   ]
  },
  {
   "cell_type": "markdown",
   "metadata": {},
   "source": [
    "# Campaign data"
   ]
  },
  {
   "cell_type": "code",
   "execution_count": 181,
   "metadata": {},
   "outputs": [
    {
     "data": {
      "text/html": [
       "<div>\n",
       "<style scoped>\n",
       "    .dataframe tbody tr th:only-of-type {\n",
       "        vertical-align: middle;\n",
       "    }\n",
       "\n",
       "    .dataframe tbody tr th {\n",
       "        vertical-align: top;\n",
       "    }\n",
       "\n",
       "    .dataframe thead th {\n",
       "        text-align: right;\n",
       "    }\n",
       "</style>\n",
       "<table border=\"1\" class=\"dataframe\">\n",
       "  <thead>\n",
       "    <tr style=\"text-align: right;\">\n",
       "      <th></th>\n",
       "      <th>campaign_id</th>\n",
       "      <th>campaign_type</th>\n",
       "      <th>start_date</th>\n",
       "      <th>end_date</th>\n",
       "    </tr>\n",
       "  </thead>\n",
       "  <tbody>\n",
       "    <tr>\n",
       "      <td>0</td>\n",
       "      <td>24</td>\n",
       "      <td>Y</td>\n",
       "      <td>21/10/13</td>\n",
       "      <td>20/12/13</td>\n",
       "    </tr>\n",
       "    <tr>\n",
       "      <td>1</td>\n",
       "      <td>25</td>\n",
       "      <td>Y</td>\n",
       "      <td>21/10/13</td>\n",
       "      <td>22/11/13</td>\n",
       "    </tr>\n",
       "    <tr>\n",
       "      <td>2</td>\n",
       "      <td>20</td>\n",
       "      <td>Y</td>\n",
       "      <td>07/09/13</td>\n",
       "      <td>16/11/13</td>\n",
       "    </tr>\n",
       "    <tr>\n",
       "      <td>3</td>\n",
       "      <td>23</td>\n",
       "      <td>Y</td>\n",
       "      <td>08/10/13</td>\n",
       "      <td>15/11/13</td>\n",
       "    </tr>\n",
       "    <tr>\n",
       "      <td>4</td>\n",
       "      <td>21</td>\n",
       "      <td>Y</td>\n",
       "      <td>16/09/13</td>\n",
       "      <td>18/10/13</td>\n",
       "    </tr>\n",
       "  </tbody>\n",
       "</table>\n",
       "</div>"
      ],
      "text/plain": [
       "   campaign_id campaign_type start_date  end_date\n",
       "0           24             Y   21/10/13  20/12/13\n",
       "1           25             Y   21/10/13  22/11/13\n",
       "2           20             Y   07/09/13  16/11/13\n",
       "3           23             Y   08/10/13  15/11/13\n",
       "4           21             Y   16/09/13  18/10/13"
      ]
     },
     "execution_count": 181,
     "metadata": {},
     "output_type": "execute_result"
    }
   ],
   "source": [
    "campaign=pd.read_csv(\"campaign_data.csv\")\n",
    "campaign.head()"
   ]
  },
  {
   "cell_type": "code",
   "execution_count": 182,
   "metadata": {
    "scrolled": true
   },
   "outputs": [
    {
     "name": "stdout",
     "output_type": "stream",
     "text": [
      "<class 'pandas.core.frame.DataFrame'>\n",
      "RangeIndex: 28 entries, 0 to 27\n",
      "Data columns (total 4 columns):\n",
      "campaign_id      28 non-null int64\n",
      "campaign_type    28 non-null object\n",
      "start_date       28 non-null object\n",
      "end_date         28 non-null object\n",
      "dtypes: int64(1), object(3)\n",
      "memory usage: 1.0+ KB\n"
     ]
    }
   ],
   "source": [
    "campaign.info()"
   ]
  },
  {
   "cell_type": "code",
   "execution_count": 183,
   "metadata": {},
   "outputs": [],
   "source": [
    "# Converting start_date & end_date columns to datetime datatype\n",
    "campaign.start_date=pd.to_datetime(campaign.start_date)\n",
    "campaign.end_date=pd.to_datetime(campaign.end_date)"
   ]
  },
  {
   "cell_type": "code",
   "execution_count": 184,
   "metadata": {},
   "outputs": [],
   "source": [
    "campaign[\"campaign_period\"]=(campaign.end_date-campaign.start_date).dt.days\n",
    "campaign[\"campaign_Year\"]=campaign.start_date.dt.year\n",
    "campaign[\"campaign_month\"]=campaign.start_date.dt.month"
   ]
  },
  {
   "cell_type": "code",
   "execution_count": 185,
   "metadata": {},
   "outputs": [],
   "source": [
    "def quarter(month,year):\n",
    "    if (month in [1,2,3]) and (year == 2012):\n",
    "        return 1\n",
    "    elif (month in [4,5,6]) and (year == 2012):\n",
    "        return 2\n",
    "    elif (month in [7,8,9]) and (year == 2012):\n",
    "        return 3\n",
    "    elif (month in [10,11,12]) and (year == 2012):\n",
    "        return 4\n",
    "    elif (month in [1,2,3]) and (year == 2013):\n",
    "        return 5\n",
    "    elif (month in [4,5,6]) and (year == 2013):\n",
    "        return 6\n",
    "    elif (month in [7,8,9]) and (year == 2013):\n",
    "        return 7\n",
    "    elif (month in [10,11,12]) and (year == 2013):\n",
    "        return 8"
   ]
  },
  {
   "cell_type": "code",
   "execution_count": 186,
   "metadata": {},
   "outputs": [],
   "source": [
    "# Adding campaign_quarter feature\n",
    "campaign[\"campaign_quarter\"]=list(map(lambda x,y: quarter(x,y),campaign.campaign_month,campaign.campaign_Year))"
   ]
  },
  {
   "cell_type": "code",
   "execution_count": 187,
   "metadata": {},
   "outputs": [
    {
     "data": {
      "text/html": [
       "<div>\n",
       "<style scoped>\n",
       "    .dataframe tbody tr th:only-of-type {\n",
       "        vertical-align: middle;\n",
       "    }\n",
       "\n",
       "    .dataframe tbody tr th {\n",
       "        vertical-align: top;\n",
       "    }\n",
       "\n",
       "    .dataframe thead th {\n",
       "        text-align: right;\n",
       "    }\n",
       "</style>\n",
       "<table border=\"1\" class=\"dataframe\">\n",
       "  <thead>\n",
       "    <tr style=\"text-align: right;\">\n",
       "      <th></th>\n",
       "      <th>campaign_id</th>\n",
       "      <th>campaign_type</th>\n",
       "      <th>start_date</th>\n",
       "      <th>end_date</th>\n",
       "      <th>campaign_period</th>\n",
       "      <th>campaign_Year</th>\n",
       "      <th>campaign_month</th>\n",
       "      <th>campaign_quarter</th>\n",
       "    </tr>\n",
       "  </thead>\n",
       "  <tbody>\n",
       "    <tr>\n",
       "      <td>0</td>\n",
       "      <td>24</td>\n",
       "      <td>Y</td>\n",
       "      <td>2013-10-21</td>\n",
       "      <td>2013-12-20</td>\n",
       "      <td>60</td>\n",
       "      <td>2013</td>\n",
       "      <td>10</td>\n",
       "      <td>8</td>\n",
       "    </tr>\n",
       "    <tr>\n",
       "      <td>1</td>\n",
       "      <td>25</td>\n",
       "      <td>Y</td>\n",
       "      <td>2013-10-21</td>\n",
       "      <td>2013-11-22</td>\n",
       "      <td>32</td>\n",
       "      <td>2013</td>\n",
       "      <td>10</td>\n",
       "      <td>8</td>\n",
       "    </tr>\n",
       "    <tr>\n",
       "      <td>2</td>\n",
       "      <td>20</td>\n",
       "      <td>Y</td>\n",
       "      <td>2013-07-09</td>\n",
       "      <td>2013-11-16</td>\n",
       "      <td>130</td>\n",
       "      <td>2013</td>\n",
       "      <td>7</td>\n",
       "      <td>7</td>\n",
       "    </tr>\n",
       "    <tr>\n",
       "      <td>3</td>\n",
       "      <td>23</td>\n",
       "      <td>Y</td>\n",
       "      <td>2013-08-10</td>\n",
       "      <td>2013-11-15</td>\n",
       "      <td>97</td>\n",
       "      <td>2013</td>\n",
       "      <td>8</td>\n",
       "      <td>7</td>\n",
       "    </tr>\n",
       "    <tr>\n",
       "      <td>4</td>\n",
       "      <td>21</td>\n",
       "      <td>Y</td>\n",
       "      <td>2013-09-16</td>\n",
       "      <td>2013-10-18</td>\n",
       "      <td>32</td>\n",
       "      <td>2013</td>\n",
       "      <td>9</td>\n",
       "      <td>7</td>\n",
       "    </tr>\n",
       "  </tbody>\n",
       "</table>\n",
       "</div>"
      ],
      "text/plain": [
       "   campaign_id campaign_type start_date   end_date  campaign_period  \\\n",
       "0           24             Y 2013-10-21 2013-12-20               60   \n",
       "1           25             Y 2013-10-21 2013-11-22               32   \n",
       "2           20             Y 2013-07-09 2013-11-16              130   \n",
       "3           23             Y 2013-08-10 2013-11-15               97   \n",
       "4           21             Y 2013-09-16 2013-10-18               32   \n",
       "\n",
       "   campaign_Year  campaign_month  campaign_quarter  \n",
       "0           2013              10                 8  \n",
       "1           2013              10                 8  \n",
       "2           2013               7                 7  \n",
       "3           2013               8                 7  \n",
       "4           2013               9                 7  "
      ]
     },
     "execution_count": 187,
     "metadata": {},
     "output_type": "execute_result"
    }
   ],
   "source": [
    "campaign.head()"
   ]
  },
  {
   "cell_type": "code",
   "execution_count": 188,
   "metadata": {},
   "outputs": [],
   "source": [
    "# Converting columns to object datatype\n",
    "campaign[\"campaign_Year\"]=campaign[\"campaign_Year\"].astype(\"object\")\n",
    "campaign[\"campaign_month\"]=campaign[\"campaign_month\"].astype(\"object\")"
   ]
  },
  {
   "cell_type": "code",
   "execution_count": 189,
   "metadata": {},
   "outputs": [],
   "source": [
    "#campaign.drop([\"start_date\",\"end_date\"],axis=1,inplace=True)"
   ]
  },
  {
   "cell_type": "code",
   "execution_count": 190,
   "metadata": {},
   "outputs": [
    {
     "data": {
      "text/plain": [
       "campaign_id                  int64\n",
       "campaign_type               object\n",
       "start_date          datetime64[ns]\n",
       "end_date            datetime64[ns]\n",
       "campaign_period              int64\n",
       "campaign_Year               object\n",
       "campaign_month              object\n",
       "campaign_quarter             int64\n",
       "dtype: object"
      ]
     },
     "execution_count": 190,
     "metadata": {},
     "output_type": "execute_result"
    }
   ],
   "source": [
    "campaign.dtypes"
   ]
  },
  {
   "cell_type": "code",
   "execution_count": 191,
   "metadata": {},
   "outputs": [
    {
     "data": {
      "text/plain": [
       "campaign_id         0\n",
       "campaign_type       0\n",
       "start_date          0\n",
       "end_date            0\n",
       "campaign_period     0\n",
       "campaign_Year       0\n",
       "campaign_month      0\n",
       "campaign_quarter    0\n",
       "dtype: int64"
      ]
     },
     "execution_count": 191,
     "metadata": {},
     "output_type": "execute_result"
    }
   ],
   "source": [
    "campaign.isnull().sum()"
   ]
  },
  {
   "cell_type": "code",
   "execution_count": 192,
   "metadata": {},
   "outputs": [
    {
     "data": {
      "text/plain": [
       "(28, 8)"
      ]
     },
     "execution_count": 192,
     "metadata": {},
     "output_type": "execute_result"
    }
   ],
   "source": [
    "campaign.shape"
   ]
  },
  {
   "cell_type": "markdown",
   "metadata": {},
   "source": [
    "#### Campaign features"
   ]
  },
  {
   "cell_type": "markdown",
   "metadata": {},
   "source": [
    "1. Campaign_id"
   ]
  },
  {
   "cell_type": "code",
   "execution_count": 193,
   "metadata": {},
   "outputs": [
    {
     "data": {
      "text/plain": [
       "28"
      ]
     },
     "execution_count": 193,
     "metadata": {},
     "output_type": "execute_result"
    }
   ],
   "source": [
    "# Number of campaign - 28\n",
    "campaign.campaign_id.count()"
   ]
  },
  {
   "cell_type": "code",
   "execution_count": 194,
   "metadata": {},
   "outputs": [],
   "source": [
    "A=set(train.campaign_id)\n",
    "B=set(campaign.campaign_id)"
   ]
  },
  {
   "cell_type": "code",
   "execution_count": 195,
   "metadata": {},
   "outputs": [
    {
     "data": {
      "text/plain": [
       "{1, 2, 3, 4, 5, 6, 7, 8, 9, 10, 11, 12, 13, 26, 27, 28, 29, 30}"
      ]
     },
     "execution_count": 195,
     "metadata": {},
     "output_type": "execute_result"
    }
   ],
   "source": [
    "A "
   ]
  },
  {
   "cell_type": "code",
   "execution_count": 196,
   "metadata": {},
   "outputs": [
    {
     "data": {
      "text/plain": [
       "[16, 17, 18, 19, 20, 21, 22, 23, 24, 25]"
      ]
     },
     "execution_count": 196,
     "metadata": {},
     "output_type": "execute_result"
    }
   ],
   "source": [
    "D=list(B-A)\n",
    "D"
   ]
  },
  {
   "cell_type": "markdown",
   "metadata": {},
   "source": [
    "2. Campaign_type"
   ]
  },
  {
   "cell_type": "code",
   "execution_count": 197,
   "metadata": {},
   "outputs": [
    {
     "data": {
      "text/plain": [
       "Y    22\n",
       "X     6\n",
       "Name: campaign_type, dtype: int64"
      ]
     },
     "execution_count": 197,
     "metadata": {},
     "output_type": "execute_result"
    }
   ],
   "source": [
    "campaign.campaign_type.value_counts()"
   ]
  },
  {
   "cell_type": "code",
   "execution_count": 198,
   "metadata": {},
   "outputs": [
    {
     "data": {
      "image/png": "[encoded data removed]",
      "text/plain": [
       "<Figure size 432x288 with 1 Axes>"
      ]
     },
     "metadata": {
      "needs_background": "light"
     },
     "output_type": "display_data"
    }
   ],
   "source": [
    "# Types of campaign\n",
    "campaign.campaign_type.value_counts().plot(kind=\"bar\")\n",
    "plt.title('Campaign type count',c='r')\n",
    "plt.yticks([22,6],c='g')\n",
    "plt.ylabel('No. of campaigns')\n",
    "plt.xlabel('Campaign type')\n",
    "plt.xticks(rotation = 0)\n",
    "plt.show()"
   ]
  },
  {
   "cell_type": "markdown",
   "metadata": {},
   "source": [
    "3. Campaign_period"
   ]
  },
  {
   "cell_type": "code",
   "execution_count": 199,
   "metadata": {},
   "outputs": [
    {
     "data": {
      "text/plain": [
       "20"
      ]
     },
     "execution_count": 199,
     "metadata": {},
     "output_type": "execute_result"
    }
   ],
   "source": [
    "campaign.campaign_period.nunique()"
   ]
  },
  {
   "cell_type": "code",
   "execution_count": 200,
   "metadata": {
    "scrolled": true
   },
   "outputs": [
    {
     "data": {
      "text/plain": [
       "array([  60,   32,  130,   97, -181,  -12,   75,   62,   31,   77,  182,\n",
       "        -25,   56, -289,   37,  133,  112,   61,   63,  -78], dtype=int64)"
      ]
     },
     "execution_count": 200,
     "metadata": {},
     "output_type": "execute_result"
    }
   ],
   "source": [
    "campaign.campaign_period.unique()"
   ]
  },
  {
   "cell_type": "code",
   "execution_count": 201,
   "metadata": {},
   "outputs": [
    {
     "data": {
      "text/html": [
       "<div>\n",
       "<style scoped>\n",
       "    .dataframe tbody tr th:only-of-type {\n",
       "        vertical-align: middle;\n",
       "    }\n",
       "\n",
       "    .dataframe tbody tr th {\n",
       "        vertical-align: top;\n",
       "    }\n",
       "\n",
       "    .dataframe thead th {\n",
       "        text-align: right;\n",
       "    }\n",
       "</style>\n",
       "<table border=\"1\" class=\"dataframe\">\n",
       "  <thead>\n",
       "    <tr style=\"text-align: right;\">\n",
       "      <th></th>\n",
       "      <th>campaign_id</th>\n",
       "      <th>campaign_type</th>\n",
       "      <th>start_date</th>\n",
       "      <th>end_date</th>\n",
       "      <th>campaign_period</th>\n",
       "      <th>campaign_Year</th>\n",
       "      <th>campaign_month</th>\n",
       "      <th>campaign_quarter</th>\n",
       "    </tr>\n",
       "  </thead>\n",
       "  <tbody>\n",
       "    <tr>\n",
       "      <td>6</td>\n",
       "      <td>18</td>\n",
       "      <td>X</td>\n",
       "      <td>2013-10-08</td>\n",
       "      <td>2013-04-10</td>\n",
       "      <td>-181</td>\n",
       "      <td>2013</td>\n",
       "      <td>10</td>\n",
       "      <td>8</td>\n",
       "    </tr>\n",
       "    <tr>\n",
       "      <td>10</td>\n",
       "      <td>13</td>\n",
       "      <td>X</td>\n",
       "      <td>2013-05-19</td>\n",
       "      <td>2013-05-07</td>\n",
       "      <td>-12</td>\n",
       "      <td>2013</td>\n",
       "      <td>5</td>\n",
       "      <td>6</td>\n",
       "    </tr>\n",
       "    <tr>\n",
       "      <td>17</td>\n",
       "      <td>6</td>\n",
       "      <td>Y</td>\n",
       "      <td>2013-01-28</td>\n",
       "      <td>2013-01-03</td>\n",
       "      <td>-25</td>\n",
       "      <td>2013</td>\n",
       "      <td>1</td>\n",
       "      <td>5</td>\n",
       "    </tr>\n",
       "    <tr>\n",
       "      <td>19</td>\n",
       "      <td>5</td>\n",
       "      <td>Y</td>\n",
       "      <td>2013-12-01</td>\n",
       "      <td>2013-02-15</td>\n",
       "      <td>-289</td>\n",
       "      <td>2013</td>\n",
       "      <td>12</td>\n",
       "      <td>8</td>\n",
       "    </tr>\n",
       "    <tr>\n",
       "      <td>27</td>\n",
       "      <td>26</td>\n",
       "      <td>X</td>\n",
       "      <td>2012-12-08</td>\n",
       "      <td>2012-09-21</td>\n",
       "      <td>-78</td>\n",
       "      <td>2012</td>\n",
       "      <td>12</td>\n",
       "      <td>4</td>\n",
       "    </tr>\n",
       "  </tbody>\n",
       "</table>\n",
       "</div>"
      ],
      "text/plain": [
       "    campaign_id campaign_type start_date   end_date  campaign_period  \\\n",
       "6            18             X 2013-10-08 2013-04-10             -181   \n",
       "10           13             X 2013-05-19 2013-05-07              -12   \n",
       "17            6             Y 2013-01-28 2013-01-03              -25   \n",
       "19            5             Y 2013-12-01 2013-02-15             -289   \n",
       "27           26             X 2012-12-08 2012-09-21              -78   \n",
       "\n",
       "   campaign_Year campaign_month  campaign_quarter  \n",
       "6           2013             10                 8  \n",
       "10          2013              5                 6  \n",
       "17          2013              1                 5  \n",
       "19          2013             12                 8  \n",
       "27          2012             12                 4  "
      ]
     },
     "execution_count": 201,
     "metadata": {},
     "output_type": "execute_result"
    }
   ],
   "source": [
    "# We can observe there are some error in data, as campaign period can't be negative\n",
    "\n",
    "campaign[campaign.campaign_period<0]"
   ]
  },
  {
   "cell_type": "code",
   "execution_count": 202,
   "metadata": {},
   "outputs": [
    {
     "data": {
      "text/html": [
       "<div>\n",
       "<style scoped>\n",
       "    .dataframe tbody tr th:only-of-type {\n",
       "        vertical-align: middle;\n",
       "    }\n",
       "\n",
       "    .dataframe tbody tr th {\n",
       "        vertical-align: top;\n",
       "    }\n",
       "\n",
       "    .dataframe thead th {\n",
       "        text-align: right;\n",
       "    }\n",
       "</style>\n",
       "<table border=\"1\" class=\"dataframe\">\n",
       "  <thead>\n",
       "    <tr style=\"text-align: right;\">\n",
       "      <th></th>\n",
       "      <th>campaign_id</th>\n",
       "      <th>campaign_type</th>\n",
       "      <th>start_date</th>\n",
       "      <th>end_date</th>\n",
       "      <th>campaign_period</th>\n",
       "      <th>campaign_Year</th>\n",
       "      <th>campaign_month</th>\n",
       "      <th>campaign_quarter</th>\n",
       "    </tr>\n",
       "  </thead>\n",
       "  <tbody>\n",
       "    <tr>\n",
       "      <td>24</td>\n",
       "      <td>29</td>\n",
       "      <td>Y</td>\n",
       "      <td>2012-08-10</td>\n",
       "      <td>2012-11-30</td>\n",
       "      <td>112</td>\n",
       "      <td>2012</td>\n",
       "      <td>8</td>\n",
       "      <td>3</td>\n",
       "    </tr>\n",
       "    <tr>\n",
       "      <td>26</td>\n",
       "      <td>27</td>\n",
       "      <td>Y</td>\n",
       "      <td>2012-08-25</td>\n",
       "      <td>2012-10-27</td>\n",
       "      <td>63</td>\n",
       "      <td>2012</td>\n",
       "      <td>8</td>\n",
       "      <td>3</td>\n",
       "    </tr>\n",
       "    <tr>\n",
       "      <td>25</td>\n",
       "      <td>28</td>\n",
       "      <td>Y</td>\n",
       "      <td>2012-09-16</td>\n",
       "      <td>2012-11-16</td>\n",
       "      <td>61</td>\n",
       "      <td>2012</td>\n",
       "      <td>9</td>\n",
       "      <td>3</td>\n",
       "    </tr>\n",
       "    <tr>\n",
       "      <td>23</td>\n",
       "      <td>30</td>\n",
       "      <td>X</td>\n",
       "      <td>2012-11-19</td>\n",
       "      <td>2013-04-01</td>\n",
       "      <td>133</td>\n",
       "      <td>2012</td>\n",
       "      <td>11</td>\n",
       "      <td>4</td>\n",
       "    </tr>\n",
       "    <tr>\n",
       "      <td>27</td>\n",
       "      <td>26</td>\n",
       "      <td>X</td>\n",
       "      <td>2012-12-08</td>\n",
       "      <td>2012-09-21</td>\n",
       "      <td>-78</td>\n",
       "      <td>2012</td>\n",
       "      <td>12</td>\n",
       "      <td>4</td>\n",
       "    </tr>\n",
       "    <tr>\n",
       "      <td>21</td>\n",
       "      <td>1</td>\n",
       "      <td>Y</td>\n",
       "      <td>2012-12-12</td>\n",
       "      <td>2013-01-18</td>\n",
       "      <td>37</td>\n",
       "      <td>2012</td>\n",
       "      <td>12</td>\n",
       "      <td>4</td>\n",
       "    </tr>\n",
       "    <tr>\n",
       "      <td>22</td>\n",
       "      <td>2</td>\n",
       "      <td>Y</td>\n",
       "      <td>2012-12-17</td>\n",
       "      <td>2013-01-18</td>\n",
       "      <td>32</td>\n",
       "      <td>2012</td>\n",
       "      <td>12</td>\n",
       "      <td>4</td>\n",
       "    </tr>\n",
       "    <tr>\n",
       "      <td>18</td>\n",
       "      <td>3</td>\n",
       "      <td>Y</td>\n",
       "      <td>2012-12-22</td>\n",
       "      <td>2013-02-16</td>\n",
       "      <td>56</td>\n",
       "      <td>2012</td>\n",
       "      <td>12</td>\n",
       "      <td>4</td>\n",
       "    </tr>\n",
       "    <tr>\n",
       "      <td>17</td>\n",
       "      <td>6</td>\n",
       "      <td>Y</td>\n",
       "      <td>2013-01-28</td>\n",
       "      <td>2013-01-03</td>\n",
       "      <td>-25</td>\n",
       "      <td>2013</td>\n",
       "      <td>1</td>\n",
       "      <td>5</td>\n",
       "    </tr>\n",
       "    <tr>\n",
       "      <td>16</td>\n",
       "      <td>7</td>\n",
       "      <td>Y</td>\n",
       "      <td>2013-02-02</td>\n",
       "      <td>2013-08-03</td>\n",
       "      <td>182</td>\n",
       "      <td>2013</td>\n",
       "      <td>2</td>\n",
       "      <td>5</td>\n",
       "    </tr>\n",
       "    <tr>\n",
       "      <td>15</td>\n",
       "      <td>8</td>\n",
       "      <td>X</td>\n",
       "      <td>2013-02-16</td>\n",
       "      <td>2013-05-04</td>\n",
       "      <td>77</td>\n",
       "      <td>2013</td>\n",
       "      <td>2</td>\n",
       "      <td>5</td>\n",
       "    </tr>\n",
       "    <tr>\n",
       "      <td>12</td>\n",
       "      <td>12</td>\n",
       "      <td>Y</td>\n",
       "      <td>2013-04-22</td>\n",
       "      <td>2013-05-24</td>\n",
       "      <td>32</td>\n",
       "      <td>2013</td>\n",
       "      <td>4</td>\n",
       "      <td>6</td>\n",
       "    </tr>\n",
       "    <tr>\n",
       "      <td>11</td>\n",
       "      <td>11</td>\n",
       "      <td>Y</td>\n",
       "      <td>2013-04-22</td>\n",
       "      <td>2013-07-06</td>\n",
       "      <td>75</td>\n",
       "      <td>2013</td>\n",
       "      <td>4</td>\n",
       "      <td>6</td>\n",
       "    </tr>\n",
       "    <tr>\n",
       "      <td>10</td>\n",
       "      <td>13</td>\n",
       "      <td>X</td>\n",
       "      <td>2013-05-19</td>\n",
       "      <td>2013-05-07</td>\n",
       "      <td>-12</td>\n",
       "      <td>2013</td>\n",
       "      <td>5</td>\n",
       "      <td>6</td>\n",
       "    </tr>\n",
       "    <tr>\n",
       "      <td>20</td>\n",
       "      <td>4</td>\n",
       "      <td>Y</td>\n",
       "      <td>2013-07-01</td>\n",
       "      <td>2013-08-02</td>\n",
       "      <td>32</td>\n",
       "      <td>2013</td>\n",
       "      <td>7</td>\n",
       "      <td>7</td>\n",
       "    </tr>\n",
       "    <tr>\n",
       "      <td>13</td>\n",
       "      <td>10</td>\n",
       "      <td>Y</td>\n",
       "      <td>2013-08-04</td>\n",
       "      <td>2013-10-05</td>\n",
       "      <td>62</td>\n",
       "      <td>2013</td>\n",
       "      <td>8</td>\n",
       "      <td>7</td>\n",
       "    </tr>\n",
       "    <tr>\n",
       "      <td>14</td>\n",
       "      <td>9</td>\n",
       "      <td>Y</td>\n",
       "      <td>2013-11-03</td>\n",
       "      <td>2013-12-04</td>\n",
       "      <td>31</td>\n",
       "      <td>2013</td>\n",
       "      <td>11</td>\n",
       "      <td>8</td>\n",
       "    </tr>\n",
       "    <tr>\n",
       "      <td>19</td>\n",
       "      <td>5</td>\n",
       "      <td>Y</td>\n",
       "      <td>2013-12-01</td>\n",
       "      <td>2013-02-15</td>\n",
       "      <td>-289</td>\n",
       "      <td>2013</td>\n",
       "      <td>12</td>\n",
       "      <td>8</td>\n",
       "    </tr>\n",
       "  </tbody>\n",
       "</table>\n",
       "</div>"
      ],
      "text/plain": [
       "    campaign_id campaign_type start_date   end_date  campaign_period  \\\n",
       "24           29             Y 2012-08-10 2012-11-30              112   \n",
       "26           27             Y 2012-08-25 2012-10-27               63   \n",
       "25           28             Y 2012-09-16 2012-11-16               61   \n",
       "23           30             X 2012-11-19 2013-04-01              133   \n",
       "27           26             X 2012-12-08 2012-09-21              -78   \n",
       "21            1             Y 2012-12-12 2013-01-18               37   \n",
       "22            2             Y 2012-12-17 2013-01-18               32   \n",
       "18            3             Y 2012-12-22 2013-02-16               56   \n",
       "17            6             Y 2013-01-28 2013-01-03              -25   \n",
       "16            7             Y 2013-02-02 2013-08-03              182   \n",
       "15            8             X 2013-02-16 2013-05-04               77   \n",
       "12           12             Y 2013-04-22 2013-05-24               32   \n",
       "11           11             Y 2013-04-22 2013-07-06               75   \n",
       "10           13             X 2013-05-19 2013-05-07              -12   \n",
       "20            4             Y 2013-07-01 2013-08-02               32   \n",
       "13           10             Y 2013-08-04 2013-10-05               62   \n",
       "14            9             Y 2013-11-03 2013-12-04               31   \n",
       "19            5             Y 2013-12-01 2013-02-15             -289   \n",
       "\n",
       "   campaign_Year campaign_month  campaign_quarter  \n",
       "24          2012              8                 3  \n",
       "26          2012              8                 3  \n",
       "25          2012              9                 3  \n",
       "23          2012             11                 4  \n",
       "27          2012             12                 4  \n",
       "21          2012             12                 4  \n",
       "22          2012             12                 4  \n",
       "18          2012             12                 4  \n",
       "17          2013              1                 5  \n",
       "16          2013              2                 5  \n",
       "15          2013              2                 5  \n",
       "12          2013              4                 6  \n",
       "11          2013              4                 6  \n",
       "10          2013              5                 6  \n",
       "20          2013              7                 7  \n",
       "13          2013              8                 7  \n",
       "14          2013             11                 8  \n",
       "19          2013             12                 8  "
      ]
     },
     "execution_count": 202,
     "metadata": {},
     "output_type": "execute_result"
    }
   ],
   "source": [
    "# Campaign details related to train data (sorted wrt start_date)\n",
    "campaign[(campaign.campaign_id.isin(A))].sort_values(\"start_date\")"
   ]
  },
  {
   "cell_type": "markdown",
   "metadata": {},
   "source": [
    "4. Campaign_year"
   ]
  },
  {
   "cell_type": "code",
   "execution_count": 203,
   "metadata": {},
   "outputs": [
    {
     "data": {
      "image/png": "[encoded data removed]",
      "text/plain": [
       "<Figure size 432x288 with 1 Axes>"
      ]
     },
     "metadata": {
      "needs_background": "light"
     },
     "output_type": "display_data"
    }
   ],
   "source": [
    "# No. of campaign per year\n",
    "campaign.campaign_Year.value_counts().plot(kind=\"bar\")\n",
    "plt.show()"
   ]
  },
  {
   "cell_type": "markdown",
   "metadata": {},
   "source": [
    "5. Campaign_month"
   ]
  },
  {
   "cell_type": "code",
   "execution_count": 204,
   "metadata": {},
   "outputs": [
    {
     "data": {
      "image/png": "[encoded data removed]",
      "text/plain": [
       "<Figure size 432x288 with 1 Axes>"
      ]
     },
     "metadata": {
      "needs_background": "light"
     },
     "output_type": "display_data"
    }
   ],
   "source": [
    "# No. of campaign in different months\n",
    "campaign.campaign_month.value_counts().plot(kind=\"bar\")\n",
    "plt.show()"
   ]
  },
  {
   "cell_type": "markdown",
   "metadata": {},
   "source": [
    "6. campaign_quarter"
   ]
  },
  {
   "cell_type": "code",
   "execution_count": 205,
   "metadata": {},
   "outputs": [
    {
     "data": {
      "image/png": "[encoded data removed]",
      "text/plain": [
       "<Figure size 432x288 with 1 Axes>"
      ]
     },
     "metadata": {
      "needs_background": "light"
     },
     "output_type": "display_data"
    }
   ],
   "source": [
    "# Campaign in different quarters\n",
    "campaign.campaign_quarter.value_counts().plot(kind=\"bar\")\n",
    "plt.show()"
   ]
  },
  {
   "cell_type": "markdown",
   "metadata": {},
   "source": [
    "# Coupon_item_mapping data"
   ]
  },
  {
   "cell_type": "code",
   "execution_count": 206,
   "metadata": {},
   "outputs": [
    {
     "data": {
      "text/html": [
       "<div>\n",
       "<style scoped>\n",
       "    .dataframe tbody tr th:only-of-type {\n",
       "        vertical-align: middle;\n",
       "    }\n",
       "\n",
       "    .dataframe tbody tr th {\n",
       "        vertical-align: top;\n",
       "    }\n",
       "\n",
       "    .dataframe thead th {\n",
       "        text-align: right;\n",
       "    }\n",
       "</style>\n",
       "<table border=\"1\" class=\"dataframe\">\n",
       "  <thead>\n",
       "    <tr style=\"text-align: right;\">\n",
       "      <th></th>\n",
       "      <th>coupon_id</th>\n",
       "      <th>item_id</th>\n",
       "    </tr>\n",
       "  </thead>\n",
       "  <tbody>\n",
       "    <tr>\n",
       "      <td>0</td>\n",
       "      <td>105</td>\n",
       "      <td>37</td>\n",
       "    </tr>\n",
       "    <tr>\n",
       "      <td>1</td>\n",
       "      <td>107</td>\n",
       "      <td>75</td>\n",
       "    </tr>\n",
       "    <tr>\n",
       "      <td>2</td>\n",
       "      <td>494</td>\n",
       "      <td>76</td>\n",
       "    </tr>\n",
       "    <tr>\n",
       "      <td>3</td>\n",
       "      <td>522</td>\n",
       "      <td>77</td>\n",
       "    </tr>\n",
       "    <tr>\n",
       "      <td>4</td>\n",
       "      <td>518</td>\n",
       "      <td>77</td>\n",
       "    </tr>\n",
       "  </tbody>\n",
       "</table>\n",
       "</div>"
      ],
      "text/plain": [
       "   coupon_id  item_id\n",
       "0        105       37\n",
       "1        107       75\n",
       "2        494       76\n",
       "3        522       77\n",
       "4        518       77"
      ]
     },
     "execution_count": 206,
     "metadata": {},
     "output_type": "execute_result"
    }
   ],
   "source": [
    "coupon_item_mapping=pd.read_csv(\"coupon_item_mapping.csv\")\n",
    "coupon_item_mapping.head()"
   ]
  },
  {
   "cell_type": "code",
   "execution_count": 207,
   "metadata": {},
   "outputs": [
    {
     "data": {
      "text/plain": [
       "(92663, 2)"
      ]
     },
     "execution_count": 207,
     "metadata": {},
     "output_type": "execute_result"
    }
   ],
   "source": [
    "coupon_item_mapping.shape"
   ]
  },
  {
   "cell_type": "code",
   "execution_count": 208,
   "metadata": {},
   "outputs": [
    {
     "data": {
      "text/plain": [
       "coupon_id    0\n",
       "item_id      0\n",
       "dtype: int64"
      ]
     },
     "execution_count": 208,
     "metadata": {},
     "output_type": "execute_result"
    }
   ],
   "source": [
    "coupon_item_mapping.isnull().sum()"
   ]
  },
  {
   "cell_type": "code",
   "execution_count": 209,
   "metadata": {},
   "outputs": [
    {
     "data": {
      "text/plain": [
       "coupon_id     1116\n",
       "item_id      36289\n",
       "dtype: int64"
      ]
     },
     "execution_count": 209,
     "metadata": {},
     "output_type": "execute_result"
    }
   ],
   "source": [
    "coupon_item_mapping.nunique()"
   ]
  },
  {
   "cell_type": "code",
   "execution_count": 210,
   "metadata": {},
   "outputs": [
    {
     "data": {
      "image/png": "[encoded data removed]",
      "text/plain": [
       "<Figure size 432x288 with 1 Axes>"
      ]
     },
     "metadata": {
      "needs_background": "light"
     },
     "output_type": "display_data"
    }
   ],
   "source": [
    "# No. of unique coupon_id and items\n",
    "coupon_item_mapping.nunique().plot(kind='bar')\n",
    "plt.title('Count of unique coupons & items',c='r')\n",
    "plt.ylabel('Count')\n",
    "plt.yticks([1116,36289])\n",
    "plt.xticks(rotation=0)\n",
    "plt.show()"
   ]
  },
  {
   "cell_type": "code",
   "execution_count": 211,
   "metadata": {},
   "outputs": [
    {
     "data": {
      "image/png": "[encoded data removed]",
      "text/plain": [
       "<Figure size 432x288 with 1 Axes>"
      ]
     },
     "metadata": {
      "needs_background": "light"
     },
     "output_type": "display_data"
    }
   ],
   "source": [
    "# Top 5 coupon_id with max items\n",
    "coupon_item_mapping.groupby(\"coupon_id\").item_id.agg(\"count\").sort_values(ascending=False).head().plot(kind='bar')\n",
    "plt.title('Top 5 coupon id with maximum items',c='r')\n",
    "plt.xlabel('Coupon id')\n",
    "plt.ylabel('No. of Items')\n",
    "plt.xticks(rotation=0)\n",
    "plt.show()"
   ]
  },
  {
   "cell_type": "code",
   "execution_count": 212,
   "metadata": {},
   "outputs": [
    {
     "name": "stdout",
     "output_type": "stream",
     "text": [
      "Coupon_id which have same items as id no. 32 [635, 517, 893, 689, 268, 278, 911, 663, 1114, 271, 256, 828, 24, 839, 658, 473, 627, 667, 1056, 279, 687, 275, 544, 490, 836, 996, 1044, 694, 968, 283, 734, 1057, 1018, 257, 641, 1045, 265, 912, 682, 733, 951, 293, 281, 280, 285, 284, 504, 986, 296, 26, 737, 954, 261, 740, 260, 249, 732, 852, 934, 937, 422, 1000, 502, 588, 979, 513, 23, 457, 25, 1108, 964, 1102, 292, 248, 579, 731, 516, 1099, 287, 474, 392, 276, 389, 455, 741, 735, 269, 1098, 273, 634, 691, 431, 666, 850, 738, 321, 244, 1105, 277, 1019, 692, 660, 967, 851, 15, 472, 662, 1090, 243, 406, 253, 471, 250, 550, 862, 998, 987, 5, 1092, 399, 391, 830, 829, 1101, 827, 665, 395, 1089, 400, 398, 626, 729, 739, 1082, 1093, 421, 838, 859, 965, 858, 963, 401, 282, 402, 831, 1095, 394, 1091, 263, 1088, 1097, 835, 291, 1096, 832, 393, 826, 264, 397, 837, 728]\n"
     ]
    }
   ],
   "source": [
    "#checking each coupon have unique item or not\n",
    "l1=list(coupon_item_mapping[coupon_item_mapping.coupon_id==32][\"item_id\"].unique())\n",
    "l3=[]\n",
    "for i in train.coupon_id.unique():\n",
    "    l2=list(coupon_item_mapping[coupon_item_mapping.coupon_id==i][\"item_id\"].unique())\n",
    "    c=0\n",
    "    for  j in l2:\n",
    "        if j in l1:\n",
    "            c=c+1\n",
    "    if c>0:\n",
    "        l3.append(i)\n",
    "print(\"Coupon_id which have same items as id no. 32\",l3)\n"
   ]
  },
  {
   "cell_type": "code",
   "execution_count": 213,
   "metadata": {},
   "outputs": [],
   "source": [
    "x=set(coupon_item_mapping[coupon_item_mapping.coupon_id==635][\"item_id\"].unique())\n",
    "y =set(coupon_item_mapping[coupon_item_mapping.coupon_id==32][\"item_id\"].unique())\n",
    "\n",
    "inter=x.intersection(y)\n",
    "\n",
    "# inter have items which is common between 32 and 635 coupon_id"
   ]
  },
  {
   "cell_type": "code",
   "execution_count": 214,
   "metadata": {},
   "outputs": [
    {
     "data": {
      "image/png": "[encoded data removed]",
      "text/plain": [
       "<Figure size 432x288 with 1 Axes>"
      ]
     },
     "metadata": {
      "needs_background": "light"
     },
     "output_type": "display_data"
    }
   ],
   "source": [
    "coupon_item_mapping.groupby(\"item_id\")[\"coupon_id\"].count().sort_values(ascending=False).head().plot(kind='bar')\n",
    "plt.title('Coupon associated with each item',c='r')\n",
    "plt.xticks(rotation=0)\n",
    "plt.xlabel('Item id')\n",
    "plt.ylabel('No. of Coupons')\n",
    "plt.show()"
   ]
  },
  {
   "cell_type": "code",
   "execution_count": 215,
   "metadata": {},
   "outputs": [],
   "source": [
    "# We can observe that each coupon_id doesn't have unique items"
   ]
  },
  {
   "cell_type": "markdown",
   "metadata": {},
   "source": [
    "# customer_demographics data"
   ]
  },
  {
   "cell_type": "code",
   "execution_count": 216,
   "metadata": {},
   "outputs": [
    {
     "data": {
      "text/html": [
       "<div>\n",
       "<style scoped>\n",
       "    .dataframe tbody tr th:only-of-type {\n",
       "        vertical-align: middle;\n",
       "    }\n",
       "\n",
       "    .dataframe tbody tr th {\n",
       "        vertical-align: top;\n",
       "    }\n",
       "\n",
       "    .dataframe thead th {\n",
       "        text-align: right;\n",
       "    }\n",
       "</style>\n",
       "<table border=\"1\" class=\"dataframe\">\n",
       "  <thead>\n",
       "    <tr style=\"text-align: right;\">\n",
       "      <th></th>\n",
       "      <th>customer_id</th>\n",
       "      <th>age_range</th>\n",
       "      <th>marital_status</th>\n",
       "      <th>rented</th>\n",
       "      <th>family_size</th>\n",
       "      <th>no_of_children</th>\n",
       "      <th>income_bracket</th>\n",
       "    </tr>\n",
       "  </thead>\n",
       "  <tbody>\n",
       "    <tr>\n",
       "      <td>0</td>\n",
       "      <td>1</td>\n",
       "      <td>70+</td>\n",
       "      <td>Married</td>\n",
       "      <td>0</td>\n",
       "      <td>2</td>\n",
       "      <td>NaN</td>\n",
       "      <td>4</td>\n",
       "    </tr>\n",
       "    <tr>\n",
       "      <td>1</td>\n",
       "      <td>6</td>\n",
       "      <td>46-55</td>\n",
       "      <td>Married</td>\n",
       "      <td>0</td>\n",
       "      <td>2</td>\n",
       "      <td>NaN</td>\n",
       "      <td>5</td>\n",
       "    </tr>\n",
       "    <tr>\n",
       "      <td>2</td>\n",
       "      <td>7</td>\n",
       "      <td>26-35</td>\n",
       "      <td>NaN</td>\n",
       "      <td>0</td>\n",
       "      <td>3</td>\n",
       "      <td>1</td>\n",
       "      <td>3</td>\n",
       "    </tr>\n",
       "    <tr>\n",
       "      <td>3</td>\n",
       "      <td>8</td>\n",
       "      <td>26-35</td>\n",
       "      <td>NaN</td>\n",
       "      <td>0</td>\n",
       "      <td>4</td>\n",
       "      <td>2</td>\n",
       "      <td>6</td>\n",
       "    </tr>\n",
       "    <tr>\n",
       "      <td>4</td>\n",
       "      <td>10</td>\n",
       "      <td>46-55</td>\n",
       "      <td>Single</td>\n",
       "      <td>0</td>\n",
       "      <td>1</td>\n",
       "      <td>NaN</td>\n",
       "      <td>5</td>\n",
       "    </tr>\n",
       "  </tbody>\n",
       "</table>\n",
       "</div>"
      ],
      "text/plain": [
       "   customer_id age_range marital_status  rented family_size no_of_children  \\\n",
       "0            1       70+        Married       0           2            NaN   \n",
       "1            6     46-55        Married       0           2            NaN   \n",
       "2            7     26-35            NaN       0           3              1   \n",
       "3            8     26-35            NaN       0           4              2   \n",
       "4           10     46-55         Single       0           1            NaN   \n",
       "\n",
       "   income_bracket  \n",
       "0               4  \n",
       "1               5  \n",
       "2               3  \n",
       "3               6  \n",
       "4               5  "
      ]
     },
     "execution_count": 216,
     "metadata": {},
     "output_type": "execute_result"
    }
   ],
   "source": [
    "customer_demographics=pd.read_csv(\"customer_demographics.csv\")\n",
    "customer_demographics.head()"
   ]
  },
  {
   "cell_type": "code",
   "execution_count": 217,
   "metadata": {},
   "outputs": [
    {
     "data": {
      "text/plain": [
       "(760, 7)"
      ]
     },
     "execution_count": 217,
     "metadata": {},
     "output_type": "execute_result"
    }
   ],
   "source": [
    "customer_demographics.shape"
   ]
  },
  {
   "cell_type": "code",
   "execution_count": 218,
   "metadata": {},
   "outputs": [
    {
     "data": {
      "text/plain": [
       "customer_id       760\n",
       "age_range           6\n",
       "marital_status      2\n",
       "rented              2\n",
       "family_size         5\n",
       "no_of_children      3\n",
       "income_bracket     12\n",
       "dtype: int64"
      ]
     },
     "execution_count": 218,
     "metadata": {},
     "output_type": "execute_result"
    }
   ],
   "source": [
    "customer_demographics.nunique()"
   ]
  },
  {
   "cell_type": "code",
   "execution_count": 219,
   "metadata": {},
   "outputs": [
    {
     "data": {
      "text/plain": [
       "customer_id         0\n",
       "age_range           0\n",
       "marital_status    329\n",
       "rented              0\n",
       "family_size         0\n",
       "no_of_children    538\n",
       "income_bracket      0\n",
       "dtype: int64"
      ]
     },
     "execution_count": 219,
     "metadata": {},
     "output_type": "execute_result"
    }
   ],
   "source": [
    "customer_demographics.isnull().sum()"
   ]
  },
  {
   "cell_type": "code",
   "execution_count": 220,
   "metadata": {},
   "outputs": [
    {
     "data": {
      "image/png": "[encoded data removed]",
      "text/plain": [
       "<Figure size 432x288 with 1 Axes>"
      ]
     },
     "metadata": {
      "needs_background": "light"
     },
     "output_type": "display_data"
    },
    {
     "data": {
      "image/png": "[encoded data removed]",
      "text/plain": [
       "<Figure size 432x288 with 1 Axes>"
      ]
     },
     "metadata": {
      "needs_background": "light"
     },
     "output_type": "display_data"
    },
    {
     "data": {
      "image/png": "[encoded data removed]",
      "text/plain": [
       "<Figure size 432x288 with 1 Axes>"
      ]
     },
     "metadata": {
      "needs_background": "light"
     },
     "output_type": "display_data"
    },
    {
     "data": {
      "image/png": "[encoded data removed]",
      "text/plain": [
       "<Figure size 432x288 with 1 Axes>"
      ]
     },
     "metadata": {
      "needs_background": "light"
     },
     "output_type": "display_data"
    },
    {
     "data": {
      "image/png": "[encoded data removed]",
      "text/plain": [
       "<Figure size 432x288 with 1 Axes>"
      ]
     },
     "metadata": {
      "needs_background": "light"
     },
     "output_type": "display_data"
    },
    {
     "data": {
      "image/png": "[encoded data removed]",
      "text/plain": [
       "<Figure size 432x288 with 1 Axes>"
      ]
     },
     "metadata": {
      "needs_background": "light"
     },
     "output_type": "display_data"
    }
   ],
   "source": [
    "for i in customer_demographics.columns[1:]:\n",
    "    sns.countplot(customer_demographics[i])\n",
    "    plt.show()"
   ]
  },
  {
   "cell_type": "code",
   "execution_count": 221,
   "metadata": {},
   "outputs": [
    {
     "data": {
      "text/plain": [
       "1428"
      ]
     },
     "execution_count": 221,
     "metadata": {},
     "output_type": "execute_result"
    }
   ],
   "source": [
    "train.customer_id.nunique()"
   ]
  },
  {
   "cell_type": "code",
   "execution_count": 222,
   "metadata": {},
   "outputs": [],
   "source": [
    "# There are total 1428 customers in train data but we only have dempgraphic details of 760 customers only."
   ]
  },
  {
   "cell_type": "markdown",
   "metadata": {},
   "source": [
    "# Item data"
   ]
  },
  {
   "cell_type": "code",
   "execution_count": 223,
   "metadata": {
    "scrolled": true
   },
   "outputs": [
    {
     "data": {
      "text/html": [
       "<div>\n",
       "<style scoped>\n",
       "    .dataframe tbody tr th:only-of-type {\n",
       "        vertical-align: middle;\n",
       "    }\n",
       "\n",
       "    .dataframe tbody tr th {\n",
       "        vertical-align: top;\n",
       "    }\n",
       "\n",
       "    .dataframe thead th {\n",
       "        text-align: right;\n",
       "    }\n",
       "</style>\n",
       "<table border=\"1\" class=\"dataframe\">\n",
       "  <thead>\n",
       "    <tr style=\"text-align: right;\">\n",
       "      <th></th>\n",
       "      <th>item_id</th>\n",
       "      <th>brand</th>\n",
       "      <th>brand_type</th>\n",
       "      <th>category</th>\n",
       "    </tr>\n",
       "  </thead>\n",
       "  <tbody>\n",
       "    <tr>\n",
       "      <td>0</td>\n",
       "      <td>1</td>\n",
       "      <td>1</td>\n",
       "      <td>Established</td>\n",
       "      <td>Grocery</td>\n",
       "    </tr>\n",
       "    <tr>\n",
       "      <td>1</td>\n",
       "      <td>2</td>\n",
       "      <td>1</td>\n",
       "      <td>Established</td>\n",
       "      <td>Miscellaneous</td>\n",
       "    </tr>\n",
       "    <tr>\n",
       "      <td>2</td>\n",
       "      <td>3</td>\n",
       "      <td>56</td>\n",
       "      <td>Local</td>\n",
       "      <td>Bakery</td>\n",
       "    </tr>\n",
       "    <tr>\n",
       "      <td>3</td>\n",
       "      <td>4</td>\n",
       "      <td>56</td>\n",
       "      <td>Local</td>\n",
       "      <td>Grocery</td>\n",
       "    </tr>\n",
       "    <tr>\n",
       "      <td>4</td>\n",
       "      <td>5</td>\n",
       "      <td>56</td>\n",
       "      <td>Local</td>\n",
       "      <td>Grocery</td>\n",
       "    </tr>\n",
       "  </tbody>\n",
       "</table>\n",
       "</div>"
      ],
      "text/plain": [
       "   item_id  brand   brand_type       category\n",
       "0        1      1  Established        Grocery\n",
       "1        2      1  Established  Miscellaneous\n",
       "2        3     56        Local         Bakery\n",
       "3        4     56        Local        Grocery\n",
       "4        5     56        Local        Grocery"
      ]
     },
     "execution_count": 223,
     "metadata": {},
     "output_type": "execute_result"
    }
   ],
   "source": [
    "item=pd.read_csv(\"item_data.csv\")\n",
    "item.head()"
   ]
  },
  {
   "cell_type": "code",
   "execution_count": 224,
   "metadata": {},
   "outputs": [
    {
     "data": {
      "text/plain": [
       "(74066, 4)"
      ]
     },
     "execution_count": 224,
     "metadata": {},
     "output_type": "execute_result"
    }
   ],
   "source": [
    "item.shape"
   ]
  },
  {
   "cell_type": "code",
   "execution_count": 225,
   "metadata": {},
   "outputs": [
    {
     "data": {
      "text/plain": [
       "item_id       74066\n",
       "brand          5528\n",
       "brand_type        2\n",
       "category         19\n",
       "dtype: int64"
      ]
     },
     "execution_count": 225,
     "metadata": {},
     "output_type": "execute_result"
    }
   ],
   "source": [
    "item.nunique()"
   ]
  },
  {
   "cell_type": "code",
   "execution_count": 226,
   "metadata": {},
   "outputs": [
    {
     "data": {
      "text/plain": [
       "item_id       0\n",
       "brand         0\n",
       "brand_type    0\n",
       "category      0\n",
       "dtype: int64"
      ]
     },
     "execution_count": 226,
     "metadata": {},
     "output_type": "execute_result"
    }
   ],
   "source": [
    "item.isnull().sum()"
   ]
  },
  {
   "cell_type": "markdown",
   "metadata": {},
   "source": [
    "#### Item Features"
   ]
  },
  {
   "cell_type": "markdown",
   "metadata": {},
   "source": [
    "1. item_id"
   ]
  },
  {
   "cell_type": "code",
   "execution_count": 227,
   "metadata": {},
   "outputs": [
    {
     "data": {
      "text/plain": [
       "74066"
      ]
     },
     "execution_count": 227,
     "metadata": {},
     "output_type": "execute_result"
    }
   ],
   "source": [
    "# There are total 74066 items\n",
    "item.item_id.count()"
   ]
  },
  {
   "cell_type": "markdown",
   "metadata": {},
   "source": [
    "2. brand "
   ]
  },
  {
   "cell_type": "code",
   "execution_count": 228,
   "metadata": {},
   "outputs": [
    {
     "data": {
      "text/plain": [
       "5528"
      ]
     },
     "execution_count": 228,
     "metadata": {},
     "output_type": "execute_result"
    }
   ],
   "source": [
    "# There are total 5528 unique brand\n",
    "item.brand.nunique()"
   ]
  },
  {
   "cell_type": "code",
   "execution_count": 229,
   "metadata": {},
   "outputs": [
    {
     "data": {
      "image/png": "[encoded data removed]",
      "text/plain": [
       "<Figure size 432x288 with 1 Axes>"
      ]
     },
     "metadata": {
      "needs_background": "light"
     },
     "output_type": "display_data"
    }
   ],
   "source": [
    "item['brand'].value_counts().head().plot(kind='bar')\n",
    "plt.title('Top 5 brands with maximum items',c='r')\n",
    "plt.ylabel('Item Count')\n",
    "plt.xlabel('Brand id')\n",
    "plt.xticks(rotation=0)\n",
    "plt.show()"
   ]
  },
  {
   "cell_type": "markdown",
   "metadata": {},
   "source": [
    "3. brand_type"
   ]
  },
  {
   "cell_type": "code",
   "execution_count": 230,
   "metadata": {},
   "outputs": [
    {
     "data": {
      "image/png": "[encoded data removed]",
      "text/plain": [
       "<Figure size 432x288 with 1 Axes>"
      ]
     },
     "metadata": {},
     "output_type": "display_data"
    }
   ],
   "source": [
    "item.brand_type.value_counts().plot(kind=\"pie\",autopct='%1.1f%%',explode=[0,0.1],shadow=True)\n",
    "plt.title('Brand Type distribution',c='r')\n",
    "plt.ylabel('')\n",
    "plt.show()"
   ]
  },
  {
   "cell_type": "markdown",
   "metadata": {},
   "source": [
    "4. Category"
   ]
  },
  {
   "cell_type": "code",
   "execution_count": 231,
   "metadata": {},
   "outputs": [
    {
     "data": {
      "text/plain": [
       "Grocery                   32448\n",
       "Pharmaceutical            24471\n",
       "Natural Products           2533\n",
       "Dairy, Juices & Snacks     2425\n",
       "Skin & Hair Care           2244\n",
       "Meat                       2080\n",
       "Packaged Meat              1966\n",
       "Prepared Food              1880\n",
       "Bakery                     1679\n",
       "Seafood                     728\n",
       "Flowers & Plants            664\n",
       "Miscellaneous               385\n",
       "Alcohol                     303\n",
       "Garden                      102\n",
       "Restauarant                  78\n",
       "Salads                       40\n",
       "Travel                       19\n",
       "Fuel                         14\n",
       "Vegetables (cut)              7\n",
       "Name: category, dtype: int64"
      ]
     },
     "execution_count": 231,
     "metadata": {},
     "output_type": "execute_result"
    }
   ],
   "source": [
    "item.category.value_counts()"
   ]
  },
  {
   "cell_type": "code",
   "execution_count": 232,
   "metadata": {},
   "outputs": [
    {
     "data": {
      "image/png": "[encoded data removed]",
      "text/plain": [
       "<Figure size 432x288 with 1 Axes>"
      ]
     },
     "metadata": {
      "needs_background": "light"
     },
     "output_type": "display_data"
    }
   ],
   "source": [
    "item.category.value_counts().plot(kind=\"bar\")\n",
    "plt.title('Count of category type',c='r')\n",
    "plt.ylabel('Count')\n",
    "plt.show()"
   ]
  },
  {
   "cell_type": "code",
   "execution_count": 233,
   "metadata": {},
   "outputs": [],
   "source": [
    "# Clubbing differnt category "
   ]
  },
  {
   "cell_type": "code",
   "execution_count": 234,
   "metadata": {},
   "outputs": [],
   "source": [
    "fish_meat=[\"Meat\",\"Packaged Meat\",\"Seafood\"]\n",
    "dairy=[\"Dairy, Juices & Snacks\",\"Prepared Food\",\"Bakery\",\"Salads\",\"Vegetables (cut)\"]\n",
    "health=[\"Skin & Hair Care\",\"Pharmaceutical\",\"Natural Products\"]\n",
    "garden=[\"Flowers & Plants\",\"Garden\"]\n",
    "misc=[\"Travel\",\"Fuel\",\"Restauarant\",\"Alcohol\"]"
   ]
  },
  {
   "cell_type": "code",
   "execution_count": 235,
   "metadata": {},
   "outputs": [],
   "source": [
    "item[\"category\"]=item[\"category\"].apply(lambda x: \"Meat & Fish\" if x in fish_meat else x)\n",
    "item[\"category\"]=item[\"category\"].apply(lambda x: \"Food & Dairy\" if x in dairy else x)\n",
    "item[\"category\"]=item[\"category\"].apply(lambda x: \"Health & Personal care\" if x in health else x)\n",
    "item[\"category\"]=item[\"category\"].apply(lambda x: \"Garden\" if x in garden else x)\n",
    "item[\"category\"]=item[\"category\"].apply(lambda x: \"Miscellaneous\" if x in misc else x)"
   ]
  },
  {
   "cell_type": "code",
   "execution_count": 236,
   "metadata": {},
   "outputs": [
    {
     "data": {
      "text/plain": [
       "Grocery                   32448\n",
       "Health & Personal care    29248\n",
       "Food & Dairy               6031\n",
       "Meat & Fish                4774\n",
       "Miscellaneous               799\n",
       "Garden                      766\n",
       "Name: category, dtype: int64"
      ]
     },
     "execution_count": 236,
     "metadata": {},
     "output_type": "execute_result"
    }
   ],
   "source": [
    "item[\"category\"].value_counts()"
   ]
  },
  {
   "cell_type": "code",
   "execution_count": 237,
   "metadata": {},
   "outputs": [
    {
     "data": {
      "image/png": "[encoded data removed]",
      "text/plain": [
       "<Figure size 720x432 with 1 Axes>"
      ]
     },
     "metadata": {
      "needs_background": "light"
     },
     "output_type": "display_data"
    }
   ],
   "source": [
    "plt.figure(figsize=(10,6))\n",
    "sns.countplot(item[\"category\"])\n",
    "plt.show()"
   ]
  },
  {
   "cell_type": "markdown",
   "metadata": {},
   "source": [
    "# Customer Transaction data"
   ]
  },
  {
   "cell_type": "code",
   "execution_count": 238,
   "metadata": {},
   "outputs": [
    {
     "data": {
      "text/html": [
       "<div>\n",
       "<style scoped>\n",
       "    .dataframe tbody tr th:only-of-type {\n",
       "        vertical-align: middle;\n",
       "    }\n",
       "\n",
       "    .dataframe tbody tr th {\n",
       "        vertical-align: top;\n",
       "    }\n",
       "\n",
       "    .dataframe thead th {\n",
       "        text-align: right;\n",
       "    }\n",
       "</style>\n",
       "<table border=\"1\" class=\"dataframe\">\n",
       "  <thead>\n",
       "    <tr style=\"text-align: right;\">\n",
       "      <th></th>\n",
       "      <th>date</th>\n",
       "      <th>customer_id</th>\n",
       "      <th>item_id</th>\n",
       "      <th>quantity</th>\n",
       "      <th>selling_price</th>\n",
       "      <th>other_discount</th>\n",
       "      <th>coupon_discount</th>\n",
       "    </tr>\n",
       "  </thead>\n",
       "  <tbody>\n",
       "    <tr>\n",
       "      <td>0</td>\n",
       "      <td>2012-01-02</td>\n",
       "      <td>1501</td>\n",
       "      <td>26830</td>\n",
       "      <td>1</td>\n",
       "      <td>35.260000</td>\n",
       "      <td>-10.690000</td>\n",
       "      <td>0.000000</td>\n",
       "    </tr>\n",
       "    <tr>\n",
       "      <td>1</td>\n",
       "      <td>2012-01-02</td>\n",
       "      <td>1501</td>\n",
       "      <td>54253</td>\n",
       "      <td>1</td>\n",
       "      <td>53.430000</td>\n",
       "      <td>-13.890000</td>\n",
       "      <td>0.000000</td>\n",
       "    </tr>\n",
       "    <tr>\n",
       "      <td>2</td>\n",
       "      <td>2012-01-02</td>\n",
       "      <td>1501</td>\n",
       "      <td>31962</td>\n",
       "      <td>1</td>\n",
       "      <td>106.500000</td>\n",
       "      <td>-14.250000</td>\n",
       "      <td>0.000000</td>\n",
       "    </tr>\n",
       "    <tr>\n",
       "      <td>3</td>\n",
       "      <td>2012-01-02</td>\n",
       "      <td>1501</td>\n",
       "      <td>33647</td>\n",
       "      <td>1</td>\n",
       "      <td>67.320000</td>\n",
       "      <td>0.000000</td>\n",
       "      <td>0.000000</td>\n",
       "    </tr>\n",
       "    <tr>\n",
       "      <td>4</td>\n",
       "      <td>2012-01-02</td>\n",
       "      <td>1501</td>\n",
       "      <td>48199</td>\n",
       "      <td>1</td>\n",
       "      <td>71.240000</td>\n",
       "      <td>-28.140000</td>\n",
       "      <td>0.000000</td>\n",
       "    </tr>\n",
       "  </tbody>\n",
       "</table>\n",
       "</div>"
      ],
      "text/plain": [
       "         date  customer_id  item_id  quantity  selling_price  other_discount  \\\n",
       "0  2012-01-02         1501    26830         1      35.260000      -10.690000   \n",
       "1  2012-01-02         1501    54253         1      53.430000      -13.890000   \n",
       "2  2012-01-02         1501    31962         1     106.500000      -14.250000   \n",
       "3  2012-01-02         1501    33647         1      67.320000        0.000000   \n",
       "4  2012-01-02         1501    48199         1      71.240000      -28.140000   \n",
       "\n",
       "   coupon_discount  \n",
       "0         0.000000  \n",
       "1         0.000000  \n",
       "2         0.000000  \n",
       "3         0.000000  \n",
       "4         0.000000  "
      ]
     },
     "execution_count": 238,
     "metadata": {},
     "output_type": "execute_result"
    }
   ],
   "source": [
    "cust_tran=pd.read_csv(\"customer_transaction_data.csv\")\n",
    "cust_tran.head()"
   ]
  },
  {
   "cell_type": "code",
   "execution_count": 239,
   "metadata": {},
   "outputs": [
    {
     "data": {
      "text/plain": [
       "(1324566, 7)"
      ]
     },
     "execution_count": 239,
     "metadata": {},
     "output_type": "execute_result"
    }
   ],
   "source": [
    "cust_tran.shape"
   ]
  },
  {
   "cell_type": "code",
   "execution_count": 240,
   "metadata": {},
   "outputs": [
    {
     "name": "stdout",
     "output_type": "stream",
     "text": [
      "<class 'pandas.core.frame.DataFrame'>\n",
      "RangeIndex: 1324566 entries, 0 to 1324565\n",
      "Data columns (total 7 columns):\n",
      "date               1324566 non-null object\n",
      "customer_id        1324566 non-null int64\n",
      "item_id            1324566 non-null int64\n",
      "quantity           1324566 non-null int64\n",
      "selling_price      1324566 non-null float64\n",
      "other_discount     1324566 non-null float64\n",
      "coupon_discount    1324566 non-null float64\n",
      "dtypes: float64(3), int64(3), object(1)\n",
      "memory usage: 70.7+ MB\n"
     ]
    }
   ],
   "source": [
    "cust_tran.info()"
   ]
  },
  {
   "cell_type": "code",
   "execution_count": 241,
   "metadata": {},
   "outputs": [
    {
     "data": {
      "text/html": [
       "<div>\n",
       "<style scoped>\n",
       "    .dataframe tbody tr th:only-of-type {\n",
       "        vertical-align: middle;\n",
       "    }\n",
       "\n",
       "    .dataframe tbody tr th {\n",
       "        vertical-align: top;\n",
       "    }\n",
       "\n",
       "    .dataframe thead th {\n",
       "        text-align: right;\n",
       "    }\n",
       "</style>\n",
       "<table border=\"1\" class=\"dataframe\">\n",
       "  <thead>\n",
       "    <tr style=\"text-align: right;\">\n",
       "      <th></th>\n",
       "      <th>customer_id</th>\n",
       "      <th>item_id</th>\n",
       "      <th>quantity</th>\n",
       "      <th>selling_price</th>\n",
       "      <th>other_discount</th>\n",
       "      <th>coupon_discount</th>\n",
       "    </tr>\n",
       "  </thead>\n",
       "  <tbody>\n",
       "    <tr>\n",
       "      <td>count</td>\n",
       "      <td>1324566.000000</td>\n",
       "      <td>1324566.000000</td>\n",
       "      <td>1324566.000000</td>\n",
       "      <td>1324566.000000</td>\n",
       "      <td>1324566.000000</td>\n",
       "      <td>1324566.000000</td>\n",
       "    </tr>\n",
       "    <tr>\n",
       "      <td>mean</td>\n",
       "      <td>804.001972</td>\n",
       "      <td>29519.030160</td>\n",
       "      <td>130.663340</td>\n",
       "      <td>114.603633</td>\n",
       "      <td>-17.768707</td>\n",
       "      <td>-0.594898</td>\n",
       "    </tr>\n",
       "    <tr>\n",
       "      <td>std</td>\n",
       "      <td>457.336313</td>\n",
       "      <td>17908.064406</td>\n",
       "      <td>1311.545447</td>\n",
       "      <td>152.905303</td>\n",
       "      <td>37.888674</td>\n",
       "      <td>7.069367</td>\n",
       "    </tr>\n",
       "    <tr>\n",
       "      <td>min</td>\n",
       "      <td>1.000000</td>\n",
       "      <td>1.000000</td>\n",
       "      <td>1.000000</td>\n",
       "      <td>0.360000</td>\n",
       "      <td>-3120.310000</td>\n",
       "      <td>-1992.230000</td>\n",
       "    </tr>\n",
       "    <tr>\n",
       "      <td>25%</td>\n",
       "      <td>418.000000</td>\n",
       "      <td>14684.000000</td>\n",
       "      <td>1.000000</td>\n",
       "      <td>49.160000</td>\n",
       "      <td>-23.150000</td>\n",
       "      <td>0.000000</td>\n",
       "    </tr>\n",
       "    <tr>\n",
       "      <td>50%</td>\n",
       "      <td>801.000000</td>\n",
       "      <td>26597.000000</td>\n",
       "      <td>1.000000</td>\n",
       "      <td>78.010000</td>\n",
       "      <td>-1.780000</td>\n",
       "      <td>0.000000</td>\n",
       "    </tr>\n",
       "    <tr>\n",
       "      <td>75%</td>\n",
       "      <td>1198.000000</td>\n",
       "      <td>42405.750000</td>\n",
       "      <td>1.000000</td>\n",
       "      <td>124.310000</td>\n",
       "      <td>0.000000</td>\n",
       "      <td>0.000000</td>\n",
       "    </tr>\n",
       "    <tr>\n",
       "      <td>max</td>\n",
       "      <td>1582.000000</td>\n",
       "      <td>74066.000000</td>\n",
       "      <td>89638.000000</td>\n",
       "      <td>17809.640000</td>\n",
       "      <td>0.000000</td>\n",
       "      <td>0.000000</td>\n",
       "    </tr>\n",
       "  </tbody>\n",
       "</table>\n",
       "</div>"
      ],
      "text/plain": [
       "         customer_id        item_id       quantity  selling_price  \\\n",
       "count 1324566.000000 1324566.000000 1324566.000000 1324566.000000   \n",
       "mean      804.001972   29519.030160     130.663340     114.603633   \n",
       "std       457.336313   17908.064406    1311.545447     152.905303   \n",
       "min         1.000000       1.000000       1.000000       0.360000   \n",
       "25%       418.000000   14684.000000       1.000000      49.160000   \n",
       "50%       801.000000   26597.000000       1.000000      78.010000   \n",
       "75%      1198.000000   42405.750000       1.000000     124.310000   \n",
       "max      1582.000000   74066.000000   89638.000000   17809.640000   \n",
       "\n",
       "       other_discount  coupon_discount  \n",
       "count  1324566.000000   1324566.000000  \n",
       "mean       -17.768707        -0.594898  \n",
       "std         37.888674         7.069367  \n",
       "min      -3120.310000     -1992.230000  \n",
       "25%        -23.150000         0.000000  \n",
       "50%         -1.780000         0.000000  \n",
       "75%          0.000000         0.000000  \n",
       "max          0.000000         0.000000  "
      ]
     },
     "execution_count": 241,
     "metadata": {},
     "output_type": "execute_result"
    }
   ],
   "source": [
    "cust_tran.describe()"
   ]
  },
  {
   "cell_type": "code",
   "execution_count": 242,
   "metadata": {},
   "outputs": [
    {
     "data": {
      "text/plain": [
       "date                 549\n",
       "customer_id         1582\n",
       "item_id            74063\n",
       "quantity            9252\n",
       "selling_price       4923\n",
       "other_discount      1418\n",
       "coupon_discount      232\n",
       "dtype: int64"
      ]
     },
     "execution_count": 242,
     "metadata": {},
     "output_type": "execute_result"
    }
   ],
   "source": [
    "cust_tran.nunique()"
   ]
  },
  {
   "cell_type": "code",
   "execution_count": 243,
   "metadata": {},
   "outputs": [],
   "source": [
    "cust_tran[\"date\"]=pd.to_datetime(cust_tran[\"date\"])"
   ]
  },
  {
   "cell_type": "code",
   "execution_count": 244,
   "metadata": {},
   "outputs": [],
   "source": [
    "uniq=coupon_item_mapping.item_id.unique()\n",
    "cust_tran['item_coupon']= list(map(lambda x : 1 if x in uniq else 0,cust_tran.item_id))"
   ]
  },
  {
   "cell_type": "code",
   "execution_count": 245,
   "metadata": {},
   "outputs": [
    {
     "data": {
      "text/plain": [
       "0    1\n",
       "1    1\n",
       "2    1\n",
       "3    0\n",
       "4    1\n",
       "Name: item_coupon, dtype: int64"
      ]
     },
     "execution_count": 245,
     "metadata": {},
     "output_type": "execute_result"
    }
   ],
   "source": [
    "cust_tran['item_coupon'].head()"
   ]
  },
  {
   "cell_type": "code",
   "execution_count": 246,
   "metadata": {},
   "outputs": [],
   "source": [
    "a=set(train.customer_id.unique())\n",
    "b= set(cust_tran.customer_id.unique())"
   ]
  },
  {
   "cell_type": "code",
   "execution_count": 247,
   "metadata": {},
   "outputs": [],
   "source": [
    "c=b-a"
   ]
  },
  {
   "cell_type": "code",
   "execution_count": 248,
   "metadata": {},
   "outputs": [
    {
     "data": {
      "text/plain": [
       "set()"
      ]
     },
     "execution_count": 248,
     "metadata": {},
     "output_type": "execute_result"
    }
   ],
   "source": [
    "a-b"
   ]
  },
  {
   "cell_type": "code",
   "execution_count": 249,
   "metadata": {},
   "outputs": [
    {
     "data": {
      "text/plain": [
       "154"
      ]
     },
     "execution_count": 249,
     "metadata": {},
     "output_type": "execute_result"
    }
   ],
   "source": [
    "len(c)"
   ]
  },
  {
   "cell_type": "markdown",
   "metadata": {},
   "source": [
    "#### Transaction data feature"
   ]
  },
  {
   "cell_type": "markdown",
   "metadata": {},
   "source": [
    "1. date "
   ]
  },
  {
   "cell_type": "code",
   "execution_count": 250,
   "metadata": {},
   "outputs": [
    {
     "data": {
      "text/plain": [
       "Timestamp('2012-01-02 00:00:00')"
      ]
     },
     "execution_count": 250,
     "metadata": {},
     "output_type": "execute_result"
    }
   ],
   "source": [
    "min(cust_tran.date)"
   ]
  },
  {
   "cell_type": "code",
   "execution_count": 251,
   "metadata": {},
   "outputs": [
    {
     "data": {
      "text/plain": [
       "Timestamp('2013-07-03 00:00:00')"
      ]
     },
     "execution_count": 251,
     "metadata": {},
     "output_type": "execute_result"
    }
   ],
   "source": [
    "max(cust_tran.date)"
   ]
  },
  {
   "cell_type": "markdown",
   "metadata": {},
   "source": [
    "2. customer_id "
   ]
  },
  {
   "cell_type": "code",
   "execution_count": 252,
   "metadata": {},
   "outputs": [
    {
     "data": {
      "text/plain": [
       "1582"
      ]
     },
     "execution_count": 252,
     "metadata": {},
     "output_type": "execute_result"
    }
   ],
   "source": [
    "# Total unique customer in transaction data\n",
    "cust_tran.customer_id.nunique()"
   ]
  },
  {
   "cell_type": "code",
   "execution_count": 253,
   "metadata": {},
   "outputs": [
    {
     "data": {
      "text/plain": [
       "1428"
      ]
     },
     "execution_count": 253,
     "metadata": {},
     "output_type": "execute_result"
    }
   ],
   "source": [
    "# Total unique customer in train data\n",
    "train.customer_id.nunique()"
   ]
  },
  {
   "cell_type": "markdown",
   "metadata": {},
   "source": [
    "3. item_id"
   ]
  },
  {
   "cell_type": "code",
   "execution_count": 254,
   "metadata": {},
   "outputs": [
    {
     "data": {
      "text/plain": [
       "49009    13540\n",
       "34047     6308\n",
       "13174     3879\n",
       "45502     3292\n",
       "29847     2276\n",
       "Name: item_id, dtype: int64"
      ]
     },
     "execution_count": 254,
     "metadata": {},
     "output_type": "execute_result"
    }
   ],
   "source": [
    "# Item count (top 5)\n",
    "cust_tran.item_id.value_counts().sort_values(ascending=False).head()"
   ]
  },
  {
   "cell_type": "code",
   "execution_count": 255,
   "metadata": {},
   "outputs": [
    {
     "data": {
      "text/plain": [
       "74063"
      ]
     },
     "execution_count": 255,
     "metadata": {},
     "output_type": "execute_result"
    }
   ],
   "source": [
    "# Total unique item in transaction data\n",
    "cust_tran.item_id.nunique()"
   ]
  },
  {
   "cell_type": "code",
   "execution_count": null,
   "metadata": {},
   "outputs": [],
   "source": []
  },
  {
   "cell_type": "markdown",
   "metadata": {},
   "source": [
    "4. quantity"
   ]
  },
  {
   "cell_type": "code",
   "execution_count": 256,
   "metadata": {},
   "outputs": [
    {
     "data": {
      "text/plain": [
       "array([    1,     3,     2, ..., 15853, 21837, 19364], dtype=int64)"
      ]
     },
     "execution_count": 256,
     "metadata": {},
     "output_type": "execute_result"
    }
   ],
   "source": [
    "cust_tran.quantity.unique()"
   ]
  },
  {
   "cell_type": "code",
   "execution_count": 257,
   "metadata": {},
   "outputs": [
    {
     "data": {
      "text/plain": [
       "9252"
      ]
     },
     "execution_count": 257,
     "metadata": {},
     "output_type": "execute_result"
    }
   ],
   "source": [
    "cust_tran.quantity.nunique()"
   ]
  },
  {
   "cell_type": "code",
   "execution_count": 258,
   "metadata": {},
   "outputs": [
    {
     "data": {
      "image/png": "[encoded data removed]",
      "text/plain": [
       "<Figure size 432x288 with 1 Axes>"
      ]
     },
     "metadata": {
      "needs_background": "light"
     },
     "output_type": "display_data"
    }
   ],
   "source": [
    "# Top 5 customers who brought maximum quantity of items\n",
    "cust_tran.groupby(\"customer_id\")[\"quantity\"].sum().sort_values(ascending=False).head().plot(kind='bar')\n",
    "plt.title('Customers who bought maximun quantity of items',c='r')\n",
    "plt.yticks(style='normal')\n",
    "plt.ticklabel_format(axis=\"y\", style=\"plain\")\n",
    "plt.xticks(rotation=0)\n",
    "plt.xlabel('Customer id')\n",
    "plt.ylabel('Quantity')\n",
    "plt.show()"
   ]
  },
  {
   "cell_type": "code",
   "execution_count": 259,
   "metadata": {},
   "outputs": [
    {
     "data": {
      "text/plain": [
       "item_id\n",
       "49009    147200033\n",
       "48973      9829518\n",
       "49004      9321734\n",
       "49102      1678839\n",
       "39453      1029216\n",
       "Name: quantity, dtype: int64"
      ]
     },
     "execution_count": 259,
     "metadata": {},
     "output_type": "execute_result"
    }
   ],
   "source": [
    "# Top 5 items with maximum quantity \n",
    "cust_tran.groupby(\"item_id\")[\"quantity\"].sum().sort_values(ascending=False).head()"
   ]
  },
  {
   "cell_type": "code",
   "execution_count": null,
   "metadata": {},
   "outputs": [],
   "source": []
  },
  {
   "cell_type": "markdown",
   "metadata": {},
   "source": [
    "5. selling_price"
   ]
  },
  {
   "cell_type": "code",
   "execution_count": 260,
   "metadata": {},
   "outputs": [
    {
     "data": {
      "image/png": "[encoded data removed]",
      "text/plain": [
       "<Figure size 432x288 with 1 Axes>"
      ]
     },
     "metadata": {
      "needs_background": "light"
     },
     "output_type": "display_data"
    }
   ],
   "source": [
    "sns.distplot(cust_tran.selling_price)\n",
    "plt.show()"
   ]
  },
  {
   "cell_type": "code",
   "execution_count": 261,
   "metadata": {},
   "outputs": [
    {
     "data": {
      "text/plain": [
       "17809.64"
      ]
     },
     "execution_count": 261,
     "metadata": {},
     "output_type": "execute_result"
    }
   ],
   "source": [
    "# Maximum selling price\n",
    "max(cust_tran.selling_price)"
   ]
  },
  {
   "cell_type": "code",
   "execution_count": 262,
   "metadata": {},
   "outputs": [
    {
     "data": {
      "text/plain": [
       "0.36"
      ]
     },
     "execution_count": 262,
     "metadata": {},
     "output_type": "execute_result"
    }
   ],
   "source": [
    "# Minimum Selling price\n",
    "min(cust_tran.selling_price)"
   ]
  },
  {
   "cell_type": "code",
   "execution_count": 263,
   "metadata": {},
   "outputs": [
    {
     "data": {
      "image/png": "[encoded data removed]",
      "text/plain": [
       "<Figure size 432x288 with 1 Axes>"
      ]
     },
     "metadata": {
      "needs_background": "light"
     },
     "output_type": "display_data"
    }
   ],
   "source": [
    "sns.boxplot(cust_tran.groupby('customer_id').mean()['quantity'])\n",
    "plt.title('Distribution of average quantity purchased',c='r')\n",
    "plt.xlabel('Quantity')\n",
    "plt.show()"
   ]
  },
  {
   "cell_type": "code",
   "execution_count": 264,
   "metadata": {},
   "outputs": [
    {
     "data": {
      "image/png": "[encoded data removed]",
      "text/plain": [
       "<Figure size 432x288 with 1 Axes>"
      ]
     },
     "metadata": {
      "needs_background": "light"
     },
     "output_type": "display_data"
    }
   ],
   "source": [
    "# Customer who spend highest in transaction data (not considering discount)\n",
    "cust_tran.groupby(\"customer_id\")[\"selling_price\"].sum().sort_values(ascending=False).head().plot(kind='bar')\n",
    "plt.title('Customers who spent the highest',c='r')\n",
    "plt.ylabel('Sum of selling price')\n",
    "plt.xlabel('Customer id')\n",
    "plt.xticks(rotation=0)\n",
    "plt.show()"
   ]
  },
  {
   "cell_type": "markdown",
   "metadata": {},
   "source": [
    "6. other_discount"
   ]
  },
  {
   "cell_type": "code",
   "execution_count": 265,
   "metadata": {},
   "outputs": [
    {
     "data": {
      "text/plain": [
       "671649"
      ]
     },
     "execution_count": 265,
     "metadata": {},
     "output_type": "execute_result"
    }
   ],
   "source": [
    "# No. of transaction with other discount\n",
    "cust_tran[cust_tran.other_discount<0][\"customer_id\"].count()"
   ]
  },
  {
   "cell_type": "code",
   "execution_count": 266,
   "metadata": {},
   "outputs": [
    {
     "data": {
      "text/plain": [
       "1582"
      ]
     },
     "execution_count": 266,
     "metadata": {},
     "output_type": "execute_result"
    }
   ],
   "source": [
    "# No. of Unique Customer's who got other_discount\n",
    "cust_tran[cust_tran.other_discount<0][\"customer_id\"].nunique()"
   ]
  },
  {
   "cell_type": "markdown",
   "metadata": {},
   "source": [
    "7.coupon_discount"
   ]
  },
  {
   "cell_type": "code",
   "execution_count": 267,
   "metadata": {},
   "outputs": [
    {
     "data": {
      "text/plain": [
       "21286"
      ]
     },
     "execution_count": 267,
     "metadata": {},
     "output_type": "execute_result"
    }
   ],
   "source": [
    "# No. of transaction with coupon discount\n",
    "cust_tran[cust_tran.coupon_discount<0][\"customer_id\"].count()"
   ]
  },
  {
   "cell_type": "code",
   "execution_count": 268,
   "metadata": {},
   "outputs": [
    {
     "data": {
      "text/plain": [
       "1249"
      ]
     },
     "execution_count": 268,
     "metadata": {},
     "output_type": "execute_result"
    }
   ],
   "source": [
    "# No. of Unique Customer's who got coupon_discount\n",
    "cust_tran[cust_tran.coupon_discount<0][\"customer_id\"].nunique()"
   ]
  },
  {
   "cell_type": "markdown",
   "metadata": {},
   "source": [
    "8.item_coupon"
   ]
  },
  {
   "cell_type": "code",
   "execution_count": 269,
   "metadata": {},
   "outputs": [
    {
     "data": {
      "text/plain": [
       "1    768432\n",
       "0    556134\n",
       "Name: item_coupon, dtype: int64"
      ]
     },
     "execution_count": 269,
     "metadata": {},
     "output_type": "execute_result"
    }
   ],
   "source": [
    "cust_tran['item_coupon'].value_counts()"
   ]
  },
  {
   "cell_type": "code",
   "execution_count": 270,
   "metadata": {},
   "outputs": [
    {
     "data": {
      "text/plain": [
       "customer_id  date      \n",
       "1            2012-02-21    31\n",
       "             2012-03-08    13\n",
       "             2012-03-29     9\n",
       "             2012-04-04    28\n",
       "             2012-04-11    17\n",
       "Name: quantity, dtype: int64"
      ]
     },
     "execution_count": 270,
     "metadata": {},
     "output_type": "execute_result"
    }
   ],
   "source": [
    "# Quantity brought by customer wrt date\n",
    "cust_tran.groupby([\"customer_id\",\"date\"])[\"quantity\"].sum().head()"
   ]
  },
  {
   "cell_type": "code",
   "execution_count": 271,
   "metadata": {},
   "outputs": [
    {
     "data": {
      "text/plain": [
       "(142445,)"
      ]
     },
     "execution_count": 271,
     "metadata": {},
     "output_type": "execute_result"
    }
   ],
   "source": [
    "cust_tran.groupby([\"customer_id\",\"date\"])[\"quantity\"].sum().shape"
   ]
  },
  {
   "cell_type": "code",
   "execution_count": 272,
   "metadata": {},
   "outputs": [
    {
     "data": {
      "text/plain": [
       "customer_id  date      \n",
       "1            2012-02-21    27\n",
       "             2012-03-08    10\n",
       "             2012-03-29     8\n",
       "             2012-04-04    19\n",
       "             2012-04-11    14\n",
       "Name: item_id, dtype: int64"
      ]
     },
     "execution_count": 272,
     "metadata": {},
     "output_type": "execute_result"
    }
   ],
   "source": [
    "# Unique Item brought by customer wrt date\n",
    "cust_tran.groupby([\"customer_id\",\"date\"])[\"item_id\"].nunique().head()"
   ]
  },
  {
   "cell_type": "code",
   "execution_count": 273,
   "metadata": {},
   "outputs": [],
   "source": [
    "data = cust_tran.groupby([\"customer_id\"]).mean()"
   ]
  },
  {
   "cell_type": "code",
   "execution_count": 274,
   "metadata": {},
   "outputs": [
    {
     "data": {
      "image/png": "[encoded data removed]",
      "text/plain": [
       "<Figure size 432x288 with 1 Axes>"
      ]
     },
     "metadata": {
      "needs_background": "light"
     },
     "output_type": "display_data"
    }
   ],
   "source": [
    "sns.scatterplot(data=data,y='quantity',x='selling_price')\n",
    "plt.title('Distribution of Quantity with selling price',c='r')\n",
    "plt.ylabel('Quantity')\n",
    "plt.xlabel('Selling Price')\n",
    "plt.show()"
   ]
  },
  {
   "cell_type": "markdown",
   "metadata": {},
   "source": [
    "## Merging Data"
   ]
  },
  {
   "cell_type": "code",
   "execution_count": 275,
   "metadata": {},
   "outputs": [],
   "source": [
    "train_campaign=pd.merge(train,campaign,how='left',on='campaign_id')"
   ]
  },
  {
   "cell_type": "code",
   "execution_count": 276,
   "metadata": {
    "scrolled": true
   },
   "outputs": [],
   "source": [
    "item_coupon_map=pd.merge(coupon_item_mapping,item,how=\"left\",on=\"item_id\")\n",
    "item_coupon_map=pd.get_dummies(item_coupon_map,prefix=\"category_count\",columns=[\"category\",\"brand_type\"])"
   ]
  },
  {
   "cell_type": "code",
   "execution_count": 277,
   "metadata": {},
   "outputs": [],
   "source": [
    "brand_unique=item_coupon_map[[\"coupon_id\",\"brand\"]].groupby(\"coupon_id\")[\"brand\"].nunique().reset_index()\n",
    "brand_unique.columns=[\"coupon_id\",'coupon_unique_brand']\n",
    "item_count=item_coupon_map[[\"coupon_id\",\"item_id\"]].groupby(\"coupon_id\").agg(\"count\").reset_index()\n",
    "item_count.columns=[\"coupon_id\",\"coupon_item_count\"]\n",
    "item_coupon_map=item_coupon_map.drop([\"item_id\",\"brand\"],axis=1).groupby(\"coupon_id\").agg(\"sum\").reset_index()"
   ]
  },
  {
   "cell_type": "code",
   "execution_count": 278,
   "metadata": {},
   "outputs": [],
   "source": [
    "item_coupon_map=pd.merge(item_coupon_map,item_count,how=\"inner\",on=\"coupon_id\")\n",
    "item_coupon_map=pd.merge(item_coupon_map,brand_unique,how=\"inner\",on=\"coupon_id\")"
   ]
  },
  {
   "cell_type": "code",
   "execution_count": 279,
   "metadata": {},
   "outputs": [],
   "source": [
    "train_camp_item_coupon_map=pd.merge(train_campaign,item_coupon_map,how=\"left\",on=\"coupon_id\")"
   ]
  },
  {
   "cell_type": "code",
   "execution_count": 280,
   "metadata": {},
   "outputs": [],
   "source": [
    "item_count=cust_tran[[\"customer_id\",\"item_id\"]].groupby(\"customer_id\").agg(\"count\").reset_index()\n",
    "item_count.columns=[\"customer_id\",\"total_item_customer_purchased\"]\n",
    "frequency=cust_tran[[\"date\",\"customer_id\"]].groupby(\"customer_id\")[\"date\"].nunique().reset_index()\n",
    "frequency.columns=[\"customer_id\",\"buying_frequency\"]\n",
    "item_coupon=cust_tran[[\"item_coupon\",\"customer_id\"]].groupby(\"customer_id\")[\"item_coupon\"].sum().reset_index()\n",
    "item_coupon.columns=[\"customer_id\",\"items_with_coupon_count\"]"
   ]
  },
  {
   "cell_type": "code",
   "execution_count": 281,
   "metadata": {},
   "outputs": [],
   "source": [
    "cust_tran=cust_tran.drop([\"date\",\"item_id\",\"item_coupon\"],axis=1).groupby(\"customer_id\").agg(\"mean\").reset_index()\n",
    "cust_tran.columns=['customer_id', 'mean_item_quantity_purchased', 'mean_selling_price', 'mean_other_discount','mean_coupon_discount']"
   ]
  },
  {
   "cell_type": "code",
   "execution_count": 282,
   "metadata": {},
   "outputs": [],
   "source": [
    "cust_tran.mean_item_quantity_purchased=round(cust_tran.mean_item_quantity_purchased)"
   ]
  },
  {
   "cell_type": "code",
   "execution_count": 283,
   "metadata": {},
   "outputs": [],
   "source": [
    "cust_tran=pd.merge(cust_tran,item_count,on=\"customer_id\",how=\"inner\")\n",
    "cust_tran=pd.merge(cust_tran,frequency,on=\"customer_id\",how=\"inner\")\n",
    "cust_tran=pd.merge(cust_tran,item_coupon,on=\"customer_id\",how=\"inner\")"
   ]
  },
  {
   "cell_type": "code",
   "execution_count": 284,
   "metadata": {},
   "outputs": [],
   "source": [
    "df_final=pd.merge(train_camp_item_coupon_map,cust_tran,how=\"left\",on=\"customer_id\")"
   ]
  },
  {
   "cell_type": "code",
   "execution_count": 285,
   "metadata": {},
   "outputs": [
    {
     "data": {
      "text/html": [
       "<div>\n",
       "<style scoped>\n",
       "    .dataframe tbody tr th:only-of-type {\n",
       "        vertical-align: middle;\n",
       "    }\n",
       "\n",
       "    .dataframe tbody tr th {\n",
       "        vertical-align: top;\n",
       "    }\n",
       "\n",
       "    .dataframe thead th {\n",
       "        text-align: right;\n",
       "    }\n",
       "</style>\n",
       "<table border=\"1\" class=\"dataframe\">\n",
       "  <thead>\n",
       "    <tr style=\"text-align: right;\">\n",
       "      <th></th>\n",
       "      <th>id</th>\n",
       "      <th>campaign_id</th>\n",
       "      <th>coupon_id</th>\n",
       "      <th>customer_id</th>\n",
       "      <th>redemption_status</th>\n",
       "      <th>campaign_type</th>\n",
       "      <th>start_date</th>\n",
       "      <th>end_date</th>\n",
       "      <th>campaign_period</th>\n",
       "      <th>campaign_Year</th>\n",
       "      <th>campaign_month</th>\n",
       "      <th>campaign_quarter</th>\n",
       "      <th>category_count_Food &amp; Dairy</th>\n",
       "      <th>category_count_Garden</th>\n",
       "      <th>category_count_Grocery</th>\n",
       "      <th>category_count_Health &amp; Personal care</th>\n",
       "      <th>category_count_Meat &amp; Fish</th>\n",
       "      <th>category_count_Miscellaneous</th>\n",
       "      <th>category_count_Established</th>\n",
       "      <th>category_count_Local</th>\n",
       "      <th>coupon_item_count</th>\n",
       "      <th>coupon_unique_brand</th>\n",
       "      <th>mean_item_quantity_purchased</th>\n",
       "      <th>mean_selling_price</th>\n",
       "      <th>mean_other_discount</th>\n",
       "      <th>mean_coupon_discount</th>\n",
       "      <th>total_item_customer_purchased</th>\n",
       "      <th>buying_frequency</th>\n",
       "      <th>items_with_coupon_count</th>\n",
       "    </tr>\n",
       "  </thead>\n",
       "  <tbody>\n",
       "    <tr>\n",
       "      <td>0</td>\n",
       "      <td>1</td>\n",
       "      <td>13</td>\n",
       "      <td>27</td>\n",
       "      <td>1053</td>\n",
       "      <td>0</td>\n",
       "      <td>X</td>\n",
       "      <td>2013-05-19</td>\n",
       "      <td>2013-05-07</td>\n",
       "      <td>-12</td>\n",
       "      <td>2013</td>\n",
       "      <td>5</td>\n",
       "      <td>6</td>\n",
       "      <td>0.000000</td>\n",
       "      <td>0.000000</td>\n",
       "      <td>125.000000</td>\n",
       "      <td>0.000000</td>\n",
       "      <td>0.000000</td>\n",
       "      <td>0.000000</td>\n",
       "      <td>125.000000</td>\n",
       "      <td>0.000000</td>\n",
       "      <td>125</td>\n",
       "      <td>2</td>\n",
       "      <td>340.000000</td>\n",
       "      <td>184.260484</td>\n",
       "      <td>-33.168935</td>\n",
       "      <td>-0.287258</td>\n",
       "      <td>310</td>\n",
       "      <td>80</td>\n",
       "      <td>139</td>\n",
       "    </tr>\n",
       "    <tr>\n",
       "      <td>1</td>\n",
       "      <td>2</td>\n",
       "      <td>13</td>\n",
       "      <td>116</td>\n",
       "      <td>48</td>\n",
       "      <td>0</td>\n",
       "      <td>X</td>\n",
       "      <td>2013-05-19</td>\n",
       "      <td>2013-05-07</td>\n",
       "      <td>-12</td>\n",
       "      <td>2013</td>\n",
       "      <td>5</td>\n",
       "      <td>6</td>\n",
       "      <td>0.000000</td>\n",
       "      <td>0.000000</td>\n",
       "      <td>3.000000</td>\n",
       "      <td>0.000000</td>\n",
       "      <td>0.000000</td>\n",
       "      <td>0.000000</td>\n",
       "      <td>0.000000</td>\n",
       "      <td>3.000000</td>\n",
       "      <td>3</td>\n",
       "      <td>1</td>\n",
       "      <td>32.000000</td>\n",
       "      <td>234.247013</td>\n",
       "      <td>-27.699169</td>\n",
       "      <td>-3.215039</td>\n",
       "      <td>385</td>\n",
       "      <td>64</td>\n",
       "      <td>210</td>\n",
       "    </tr>\n",
       "    <tr>\n",
       "      <td>2</td>\n",
       "      <td>6</td>\n",
       "      <td>9</td>\n",
       "      <td>635</td>\n",
       "      <td>205</td>\n",
       "      <td>0</td>\n",
       "      <td>Y</td>\n",
       "      <td>2013-11-03</td>\n",
       "      <td>2013-12-04</td>\n",
       "      <td>31</td>\n",
       "      <td>2013</td>\n",
       "      <td>11</td>\n",
       "      <td>8</td>\n",
       "      <td>0.000000</td>\n",
       "      <td>0.000000</td>\n",
       "      <td>0.000000</td>\n",
       "      <td>67.000000</td>\n",
       "      <td>0.000000</td>\n",
       "      <td>0.000000</td>\n",
       "      <td>67.000000</td>\n",
       "      <td>0.000000</td>\n",
       "      <td>67</td>\n",
       "      <td>1</td>\n",
       "      <td>1.000000</td>\n",
       "      <td>121.094495</td>\n",
       "      <td>-17.795660</td>\n",
       "      <td>-2.212082</td>\n",
       "      <td>970</td>\n",
       "      <td>83</td>\n",
       "      <td>652</td>\n",
       "    </tr>\n",
       "    <tr>\n",
       "      <td>3</td>\n",
       "      <td>7</td>\n",
       "      <td>13</td>\n",
       "      <td>644</td>\n",
       "      <td>1050</td>\n",
       "      <td>0</td>\n",
       "      <td>X</td>\n",
       "      <td>2013-05-19</td>\n",
       "      <td>2013-05-07</td>\n",
       "      <td>-12</td>\n",
       "      <td>2013</td>\n",
       "      <td>5</td>\n",
       "      <td>6</td>\n",
       "      <td>0.000000</td>\n",
       "      <td>0.000000</td>\n",
       "      <td>4.000000</td>\n",
       "      <td>0.000000</td>\n",
       "      <td>0.000000</td>\n",
       "      <td>0.000000</td>\n",
       "      <td>4.000000</td>\n",
       "      <td>0.000000</td>\n",
       "      <td>4</td>\n",
       "      <td>1</td>\n",
       "      <td>1.000000</td>\n",
       "      <td>98.276034</td>\n",
       "      <td>-16.655570</td>\n",
       "      <td>-0.751477</td>\n",
       "      <td>237</td>\n",
       "      <td>64</td>\n",
       "      <td>128</td>\n",
       "    </tr>\n",
       "    <tr>\n",
       "      <td>4</td>\n",
       "      <td>9</td>\n",
       "      <td>8</td>\n",
       "      <td>1017</td>\n",
       "      <td>1489</td>\n",
       "      <td>0</td>\n",
       "      <td>X</td>\n",
       "      <td>2013-02-16</td>\n",
       "      <td>2013-05-04</td>\n",
       "      <td>77</td>\n",
       "      <td>2013</td>\n",
       "      <td>2</td>\n",
       "      <td>5</td>\n",
       "      <td>0.000000</td>\n",
       "      <td>0.000000</td>\n",
       "      <td>32.000000</td>\n",
       "      <td>0.000000</td>\n",
       "      <td>0.000000</td>\n",
       "      <td>0.000000</td>\n",
       "      <td>32.000000</td>\n",
       "      <td>0.000000</td>\n",
       "      <td>32</td>\n",
       "      <td>1</td>\n",
       "      <td>247.000000</td>\n",
       "      <td>120.636103</td>\n",
       "      <td>-20.524733</td>\n",
       "      <td>-0.471548</td>\n",
       "      <td>562</td>\n",
       "      <td>97</td>\n",
       "      <td>283</td>\n",
       "    </tr>\n",
       "  </tbody>\n",
       "</table>\n",
       "</div>"
      ],
      "text/plain": [
       "   id  campaign_id  coupon_id  customer_id  redemption_status campaign_type  \\\n",
       "0   1           13         27         1053                  0             X   \n",
       "1   2           13        116           48                  0             X   \n",
       "2   6            9        635          205                  0             Y   \n",
       "3   7           13        644         1050                  0             X   \n",
       "4   9            8       1017         1489                  0             X   \n",
       "\n",
       "  start_date   end_date  campaign_period campaign_Year campaign_month  \\\n",
       "0 2013-05-19 2013-05-07              -12          2013              5   \n",
       "1 2013-05-19 2013-05-07              -12          2013              5   \n",
       "2 2013-11-03 2013-12-04               31          2013             11   \n",
       "3 2013-05-19 2013-05-07              -12          2013              5   \n",
       "4 2013-02-16 2013-05-04               77          2013              2   \n",
       "\n",
       "   campaign_quarter  category_count_Food & Dairy  category_count_Garden  \\\n",
       "0                 6                     0.000000               0.000000   \n",
       "1                 6                     0.000000               0.000000   \n",
       "2                 8                     0.000000               0.000000   \n",
       "3                 6                     0.000000               0.000000   \n",
       "4                 5                     0.000000               0.000000   \n",
       "\n",
       "   category_count_Grocery  category_count_Health & Personal care  \\\n",
       "0              125.000000                               0.000000   \n",
       "1                3.000000                               0.000000   \n",
       "2                0.000000                              67.000000   \n",
       "3                4.000000                               0.000000   \n",
       "4               32.000000                               0.000000   \n",
       "\n",
       "   category_count_Meat & Fish  category_count_Miscellaneous  \\\n",
       "0                    0.000000                      0.000000   \n",
       "1                    0.000000                      0.000000   \n",
       "2                    0.000000                      0.000000   \n",
       "3                    0.000000                      0.000000   \n",
       "4                    0.000000                      0.000000   \n",
       "\n",
       "   category_count_Established  category_count_Local  coupon_item_count  \\\n",
       "0                  125.000000              0.000000                125   \n",
       "1                    0.000000              3.000000                  3   \n",
       "2                   67.000000              0.000000                 67   \n",
       "3                    4.000000              0.000000                  4   \n",
       "4                   32.000000              0.000000                 32   \n",
       "\n",
       "   coupon_unique_brand  mean_item_quantity_purchased  mean_selling_price  \\\n",
       "0                    2                    340.000000          184.260484   \n",
       "1                    1                     32.000000          234.247013   \n",
       "2                    1                      1.000000          121.094495   \n",
       "3                    1                      1.000000           98.276034   \n",
       "4                    1                    247.000000          120.636103   \n",
       "\n",
       "   mean_other_discount  mean_coupon_discount  total_item_customer_purchased  \\\n",
       "0           -33.168935             -0.287258                            310   \n",
       "1           -27.699169             -3.215039                            385   \n",
       "2           -17.795660             -2.212082                            970   \n",
       "3           -16.655570             -0.751477                            237   \n",
       "4           -20.524733             -0.471548                            562   \n",
       "\n",
       "   buying_frequency  items_with_coupon_count  \n",
       "0                80                      139  \n",
       "1                64                      210  \n",
       "2                83                      652  \n",
       "3                64                      128  \n",
       "4                97                      283  "
      ]
     },
     "execution_count": 285,
     "metadata": {},
     "output_type": "execute_result"
    }
   ],
   "source": [
    "df_final.head()"
   ]
  },
  {
   "cell_type": "code",
   "execution_count": 286,
   "metadata": {},
   "outputs": [
    {
     "data": {
      "text/plain": [
       "(78369, 29)"
      ]
     },
     "execution_count": 286,
     "metadata": {},
     "output_type": "execute_result"
    }
   ],
   "source": [
    "df_final.shape"
   ]
  },
  {
   "cell_type": "code",
   "execution_count": 287,
   "metadata": {},
   "outputs": [],
   "source": [
    "#pd.to_datetime(campaign.start_date,format=\"%d/%m/%y\")\n",
    "#pd.to_datetime(campaign.end_date,format=\"%d/%m/%y\")"
   ]
  },
  {
   "cell_type": "code",
   "execution_count": 288,
   "metadata": {},
   "outputs": [
    {
     "name": "stdout",
     "output_type": "stream",
     "text": [
      "<class 'pandas.core.frame.DataFrame'>\n",
      "Int64Index: 78369 entries, 0 to 78368\n",
      "Data columns (total 29 columns):\n",
      "id                                       78369 non-null int64\n",
      "campaign_id                              78369 non-null int64\n",
      "coupon_id                                78369 non-null int64\n",
      "customer_id                              78369 non-null int64\n",
      "redemption_status                        78369 non-null int64\n",
      "campaign_type                            78369 non-null object\n",
      "start_date                               78369 non-null datetime64[ns]\n",
      "end_date                                 78369 non-null datetime64[ns]\n",
      "campaign_period                          78369 non-null int64\n",
      "campaign_Year                            78369 non-null object\n",
      "campaign_month                           78369 non-null object\n",
      "campaign_quarter                         78369 non-null int64\n",
      "category_count_Food & Dairy              78369 non-null float64\n",
      "category_count_Garden                    78369 non-null float64\n",
      "category_count_Grocery                   78369 non-null float64\n",
      "category_count_Health & Personal care    78369 non-null float64\n",
      "category_count_Meat & Fish               78369 non-null float64\n",
      "category_count_Miscellaneous             78369 non-null float64\n",
      "category_count_Established               78369 non-null float64\n",
      "category_count_Local                     78369 non-null float64\n",
      "coupon_item_count                        78369 non-null int64\n",
      "coupon_unique_brand                      78369 non-null int64\n",
      "mean_item_quantity_purchased             78369 non-null float64\n",
      "mean_selling_price                       78369 non-null float64\n",
      "mean_other_discount                      78369 non-null float64\n",
      "mean_coupon_discount                     78369 non-null float64\n",
      "total_item_customer_purchased            78369 non-null int64\n",
      "buying_frequency                         78369 non-null int64\n",
      "items_with_coupon_count                  78369 non-null int64\n",
      "dtypes: datetime64[ns](2), float64(12), int64(12), object(3)\n",
      "memory usage: 17.9+ MB\n"
     ]
    }
   ],
   "source": [
    "df_final.info()"
   ]
  },
  {
   "cell_type": "markdown",
   "metadata": {},
   "source": [
    "### Checking null values"
   ]
  },
  {
   "cell_type": "code",
   "execution_count": 289,
   "metadata": {},
   "outputs": [
    {
     "data": {
      "text/plain": [
       "id                                       0\n",
       "campaign_id                              0\n",
       "coupon_id                                0\n",
       "customer_id                              0\n",
       "redemption_status                        0\n",
       "campaign_type                            0\n",
       "start_date                               0\n",
       "end_date                                 0\n",
       "campaign_period                          0\n",
       "campaign_Year                            0\n",
       "campaign_month                           0\n",
       "campaign_quarter                         0\n",
       "category_count_Food & Dairy              0\n",
       "category_count_Garden                    0\n",
       "category_count_Grocery                   0\n",
       "category_count_Health & Personal care    0\n",
       "category_count_Meat & Fish               0\n",
       "category_count_Miscellaneous             0\n",
       "category_count_Established               0\n",
       "category_count_Local                     0\n",
       "coupon_item_count                        0\n",
       "coupon_unique_brand                      0\n",
       "mean_item_quantity_purchased             0\n",
       "mean_selling_price                       0\n",
       "mean_other_discount                      0\n",
       "mean_coupon_discount                     0\n",
       "total_item_customer_purchased            0\n",
       "buying_frequency                         0\n",
       "items_with_coupon_count                  0\n",
       "dtype: int64"
      ]
     },
     "execution_count": 289,
     "metadata": {},
     "output_type": "execute_result"
    }
   ],
   "source": [
    "df_final.isnull().sum()"
   ]
  },
  {
   "cell_type": "code",
   "execution_count": 290,
   "metadata": {},
   "outputs": [
    {
     "data": {
      "text/plain": [
       "id                                       78369\n",
       "campaign_id                                 18\n",
       "coupon_id                                  866\n",
       "customer_id                               1428\n",
       "redemption_status                            2\n",
       "campaign_type                                2\n",
       "start_date                                  17\n",
       "end_date                                    17\n",
       "campaign_period                             16\n",
       "campaign_Year                                2\n",
       "campaign_month                               9\n",
       "campaign_quarter                             6\n",
       "category_count_Food & Dairy                 25\n",
       "category_count_Garden                        5\n",
       "category_count_Grocery                      88\n",
       "category_count_Health & Personal care       56\n",
       "category_count_Meat & Fish                  27\n",
       "category_count_Miscellaneous                 8\n",
       "category_count_Established                 102\n",
       "category_count_Local                        49\n",
       "coupon_item_count                          104\n",
       "coupon_unique_brand                         14\n",
       "mean_item_quantity_purchased               397\n",
       "mean_selling_price                        1428\n",
       "mean_other_discount                       1428\n",
       "mean_coupon_discount                      1129\n",
       "total_item_customer_purchased              964\n",
       "buying_frequency                           245\n",
       "items_with_coupon_count                    777\n",
       "dtype: int64"
      ]
     },
     "execution_count": 290,
     "metadata": {},
     "output_type": "execute_result"
    }
   ],
   "source": [
    "df_final.nunique()"
   ]
  },
  {
   "cell_type": "code",
   "execution_count": 291,
   "metadata": {},
   "outputs": [],
   "source": [
    "df_final.drop([\"id\"],axis=1,inplace=True)"
   ]
  },
  {
   "cell_type": "code",
   "execution_count": 292,
   "metadata": {},
   "outputs": [],
   "source": [
    "df_final[\"campaign_period\"]=np.abs(df_final[\"campaign_period\"])"
   ]
  },
  {
   "cell_type": "code",
   "execution_count": 293,
   "metadata": {},
   "outputs": [
    {
     "data": {
      "text/html": [
       "<div>\n",
       "<style scoped>\n",
       "    .dataframe tbody tr th:only-of-type {\n",
       "        vertical-align: middle;\n",
       "    }\n",
       "\n",
       "    .dataframe tbody tr th {\n",
       "        vertical-align: top;\n",
       "    }\n",
       "\n",
       "    .dataframe thead th {\n",
       "        text-align: right;\n",
       "    }\n",
       "</style>\n",
       "<table border=\"1\" class=\"dataframe\">\n",
       "  <thead>\n",
       "    <tr style=\"text-align: right;\">\n",
       "      <th></th>\n",
       "      <th>campaign_id</th>\n",
       "      <th>coupon_id</th>\n",
       "      <th>customer_id</th>\n",
       "      <th>redemption_status</th>\n",
       "      <th>campaign_period</th>\n",
       "      <th>campaign_quarter</th>\n",
       "      <th>category_count_Food &amp; Dairy</th>\n",
       "      <th>category_count_Garden</th>\n",
       "      <th>category_count_Grocery</th>\n",
       "      <th>category_count_Health &amp; Personal care</th>\n",
       "      <th>category_count_Meat &amp; Fish</th>\n",
       "      <th>category_count_Miscellaneous</th>\n",
       "      <th>category_count_Established</th>\n",
       "      <th>category_count_Local</th>\n",
       "      <th>coupon_item_count</th>\n",
       "      <th>coupon_unique_brand</th>\n",
       "      <th>mean_item_quantity_purchased</th>\n",
       "      <th>mean_selling_price</th>\n",
       "      <th>mean_other_discount</th>\n",
       "      <th>mean_coupon_discount</th>\n",
       "      <th>total_item_customer_purchased</th>\n",
       "      <th>buying_frequency</th>\n",
       "      <th>items_with_coupon_count</th>\n",
       "    </tr>\n",
       "  </thead>\n",
       "  <tbody>\n",
       "    <tr>\n",
       "      <td>count</td>\n",
       "      <td>78369.000000</td>\n",
       "      <td>78369.000000</td>\n",
       "      <td>78369.000000</td>\n",
       "      <td>78369.000000</td>\n",
       "      <td>78369.000000</td>\n",
       "      <td>78369.000000</td>\n",
       "      <td>78369.000000</td>\n",
       "      <td>78369.000000</td>\n",
       "      <td>78369.000000</td>\n",
       "      <td>78369.000000</td>\n",
       "      <td>78369.000000</td>\n",
       "      <td>78369.000000</td>\n",
       "      <td>78369.000000</td>\n",
       "      <td>78369.000000</td>\n",
       "      <td>78369.000000</td>\n",
       "      <td>78369.000000</td>\n",
       "      <td>78369.000000</td>\n",
       "      <td>78369.000000</td>\n",
       "      <td>78369.000000</td>\n",
       "      <td>78369.000000</td>\n",
       "      <td>78369.000000</td>\n",
       "      <td>78369.000000</td>\n",
       "      <td>78369.000000</td>\n",
       "    </tr>\n",
       "    <tr>\n",
       "      <td>mean</td>\n",
       "      <td>13.974441</td>\n",
       "      <td>566.363243</td>\n",
       "      <td>787.451888</td>\n",
       "      <td>0.009302</td>\n",
       "      <td>66.648713</td>\n",
       "      <td>5.320037</td>\n",
       "      <td>2.284755</td>\n",
       "      <td>1.956603</td>\n",
       "      <td>34.379002</td>\n",
       "      <td>29.415764</td>\n",
       "      <td>13.696092</td>\n",
       "      <td>0.196787</td>\n",
       "      <td>69.995304</td>\n",
       "      <td>11.933698</td>\n",
       "      <td>81.929003</td>\n",
       "      <td>6.880922</td>\n",
       "      <td>127.992867</td>\n",
       "      <td>116.003809</td>\n",
       "      <td>-18.273669</td>\n",
       "      <td>-0.624218</td>\n",
       "      <td>1032.534752</td>\n",
       "      <td>105.865431</td>\n",
       "      <td>600.780155</td>\n",
       "    </tr>\n",
       "    <tr>\n",
       "      <td>std</td>\n",
       "      <td>8.019215</td>\n",
       "      <td>329.966054</td>\n",
       "      <td>456.811339</td>\n",
       "      <td>0.095999</td>\n",
       "      <td>53.974676</td>\n",
       "      <td>1.175387</td>\n",
       "      <td>20.886941</td>\n",
       "      <td>37.957379</td>\n",
       "      <td>246.861920</td>\n",
       "      <td>478.321111</td>\n",
       "      <td>215.532880</td>\n",
       "      <td>2.631129</td>\n",
       "      <td>532.636986</td>\n",
       "      <td>87.957313</td>\n",
       "      <td>605.032516</td>\n",
       "      <td>64.715613</td>\n",
       "      <td>216.222073</td>\n",
       "      <td>31.576526</td>\n",
       "      <td>8.666128</td>\n",
       "      <td>1.104607</td>\n",
       "      <td>658.065148</td>\n",
       "      <td>58.294006</td>\n",
       "      <td>379.946879</td>\n",
       "    </tr>\n",
       "    <tr>\n",
       "      <td>min</td>\n",
       "      <td>1.000000</td>\n",
       "      <td>1.000000</td>\n",
       "      <td>1.000000</td>\n",
       "      <td>0.000000</td>\n",
       "      <td>12.000000</td>\n",
       "      <td>3.000000</td>\n",
       "      <td>0.000000</td>\n",
       "      <td>0.000000</td>\n",
       "      <td>0.000000</td>\n",
       "      <td>0.000000</td>\n",
       "      <td>0.000000</td>\n",
       "      <td>0.000000</td>\n",
       "      <td>0.000000</td>\n",
       "      <td>0.000000</td>\n",
       "      <td>1.000000</td>\n",
       "      <td>1.000000</td>\n",
       "      <td>1.000000</td>\n",
       "      <td>47.739190</td>\n",
       "      <td>-191.188099</td>\n",
       "      <td>-13.629081</td>\n",
       "      <td>83.000000</td>\n",
       "      <td>10.000000</td>\n",
       "      <td>38.000000</td>\n",
       "    </tr>\n",
       "    <tr>\n",
       "      <td>25%</td>\n",
       "      <td>8.000000</td>\n",
       "      <td>280.000000</td>\n",
       "      <td>399.000000</td>\n",
       "      <td>0.000000</td>\n",
       "      <td>12.000000</td>\n",
       "      <td>5.000000</td>\n",
       "      <td>0.000000</td>\n",
       "      <td>0.000000</td>\n",
       "      <td>0.000000</td>\n",
       "      <td>0.000000</td>\n",
       "      <td>0.000000</td>\n",
       "      <td>0.000000</td>\n",
       "      <td>2.000000</td>\n",
       "      <td>0.000000</td>\n",
       "      <td>5.000000</td>\n",
       "      <td>1.000000</td>\n",
       "      <td>1.000000</td>\n",
       "      <td>95.877243</td>\n",
       "      <td>-20.866231</td>\n",
       "      <td>-0.705638</td>\n",
       "      <td>557.000000</td>\n",
       "      <td>66.000000</td>\n",
       "      <td>326.000000</td>\n",
       "    </tr>\n",
       "    <tr>\n",
       "      <td>50%</td>\n",
       "      <td>13.000000</td>\n",
       "      <td>597.000000</td>\n",
       "      <td>781.000000</td>\n",
       "      <td>0.000000</td>\n",
       "      <td>77.000000</td>\n",
       "      <td>5.000000</td>\n",
       "      <td>0.000000</td>\n",
       "      <td>0.000000</td>\n",
       "      <td>6.000000</td>\n",
       "      <td>0.000000</td>\n",
       "      <td>0.000000</td>\n",
       "      <td>0.000000</td>\n",
       "      <td>8.000000</td>\n",
       "      <td>0.000000</td>\n",
       "      <td>12.000000</td>\n",
       "      <td>1.000000</td>\n",
       "      <td>40.000000</td>\n",
       "      <td>111.057371</td>\n",
       "      <td>-16.724106</td>\n",
       "      <td>-0.242455</td>\n",
       "      <td>884.000000</td>\n",
       "      <td>91.000000</td>\n",
       "      <td>514.000000</td>\n",
       "    </tr>\n",
       "    <tr>\n",
       "      <td>75%</td>\n",
       "      <td>13.000000</td>\n",
       "      <td>857.000000</td>\n",
       "      <td>1190.000000</td>\n",
       "      <td>0.000000</td>\n",
       "      <td>78.000000</td>\n",
       "      <td>6.000000</td>\n",
       "      <td>0.000000</td>\n",
       "      <td>0.000000</td>\n",
       "      <td>18.000000</td>\n",
       "      <td>0.000000</td>\n",
       "      <td>0.000000</td>\n",
       "      <td>0.000000</td>\n",
       "      <td>27.000000</td>\n",
       "      <td>0.000000</td>\n",
       "      <td>30.000000</td>\n",
       "      <td>1.000000</td>\n",
       "      <td>191.000000</td>\n",
       "      <td>130.539012</td>\n",
       "      <td>-13.897148</td>\n",
       "      <td>-0.055656</td>\n",
       "      <td>1335.000000</td>\n",
       "      <td>135.000000</td>\n",
       "      <td>801.000000</td>\n",
       "    </tr>\n",
       "    <tr>\n",
       "      <td>max</td>\n",
       "      <td>30.000000</td>\n",
       "      <td>1115.000000</td>\n",
       "      <td>1582.000000</td>\n",
       "      <td>1.000000</td>\n",
       "      <td>289.000000</td>\n",
       "      <td>8.000000</td>\n",
       "      <td>276.000000</td>\n",
       "      <td>747.000000</td>\n",
       "      <td>4127.000000</td>\n",
       "      <td>11786.000000</td>\n",
       "      <td>4340.000000</td>\n",
       "      <td>50.000000</td>\n",
       "      <td>10744.000000</td>\n",
       "      <td>1171.000000</td>\n",
       "      <td>11813.000000</td>\n",
       "      <td>1187.000000</td>\n",
       "      <td>3490.000000</td>\n",
       "      <td>387.717920</td>\n",
       "      <td>-4.674406</td>\n",
       "      <td>0.000000</td>\n",
       "      <td>4522.000000</td>\n",
       "      <td>386.000000</td>\n",
       "      <td>2613.000000</td>\n",
       "    </tr>\n",
       "  </tbody>\n",
       "</table>\n",
       "</div>"
      ],
      "text/plain": [
       "       campaign_id    coupon_id  customer_id  redemption_status  \\\n",
       "count 78369.000000 78369.000000 78369.000000       78369.000000   \n",
       "mean     13.974441   566.363243   787.451888           0.009302   \n",
       "std       8.019215   329.966054   456.811339           0.095999   \n",
       "min       1.000000     1.000000     1.000000           0.000000   \n",
       "25%       8.000000   280.000000   399.000000           0.000000   \n",
       "50%      13.000000   597.000000   781.000000           0.000000   \n",
       "75%      13.000000   857.000000  1190.000000           0.000000   \n",
       "max      30.000000  1115.000000  1582.000000           1.000000   \n",
       "\n",
       "       campaign_period  campaign_quarter  category_count_Food & Dairy  \\\n",
       "count     78369.000000      78369.000000                 78369.000000   \n",
       "mean         66.648713          5.320037                     2.284755   \n",
       "std          53.974676          1.175387                    20.886941   \n",
       "min          12.000000          3.000000                     0.000000   \n",
       "25%          12.000000          5.000000                     0.000000   \n",
       "50%          77.000000          5.000000                     0.000000   \n",
       "75%          78.000000          6.000000                     0.000000   \n",
       "max         289.000000          8.000000                   276.000000   \n",
       "\n",
       "       category_count_Garden  category_count_Grocery  \\\n",
       "count           78369.000000            78369.000000   \n",
       "mean                1.956603               34.379002   \n",
       "std                37.957379              246.861920   \n",
       "min                 0.000000                0.000000   \n",
       "25%                 0.000000                0.000000   \n",
       "50%                 0.000000                6.000000   \n",
       "75%                 0.000000               18.000000   \n",
       "max               747.000000             4127.000000   \n",
       "\n",
       "       category_count_Health & Personal care  category_count_Meat & Fish  \\\n",
       "count                           78369.000000                78369.000000   \n",
       "mean                               29.415764                   13.696092   \n",
       "std                               478.321111                  215.532880   \n",
       "min                                 0.000000                    0.000000   \n",
       "25%                                 0.000000                    0.000000   \n",
       "50%                                 0.000000                    0.000000   \n",
       "75%                                 0.000000                    0.000000   \n",
       "max                             11786.000000                 4340.000000   \n",
       "\n",
       "       category_count_Miscellaneous  category_count_Established  \\\n",
       "count                  78369.000000                78369.000000   \n",
       "mean                       0.196787                   69.995304   \n",
       "std                        2.631129                  532.636986   \n",
       "min                        0.000000                    0.000000   \n",
       "25%                        0.000000                    2.000000   \n",
       "50%                        0.000000                    8.000000   \n",
       "75%                        0.000000                   27.000000   \n",
       "max                       50.000000                10744.000000   \n",
       "\n",
       "       category_count_Local  coupon_item_count  coupon_unique_brand  \\\n",
       "count          78369.000000       78369.000000         78369.000000   \n",
       "mean              11.933698          81.929003             6.880922   \n",
       "std               87.957313         605.032516            64.715613   \n",
       "min                0.000000           1.000000             1.000000   \n",
       "25%                0.000000           5.000000             1.000000   \n",
       "50%                0.000000          12.000000             1.000000   \n",
       "75%                0.000000          30.000000             1.000000   \n",
       "max             1171.000000       11813.000000          1187.000000   \n",
       "\n",
       "       mean_item_quantity_purchased  mean_selling_price  mean_other_discount  \\\n",
       "count                  78369.000000        78369.000000         78369.000000   \n",
       "mean                     127.992867          116.003809           -18.273669   \n",
       "std                      216.222073           31.576526             8.666128   \n",
       "min                        1.000000           47.739190          -191.188099   \n",
       "25%                        1.000000           95.877243           -20.866231   \n",
       "50%                       40.000000          111.057371           -16.724106   \n",
       "75%                      191.000000          130.539012           -13.897148   \n",
       "max                     3490.000000          387.717920            -4.674406   \n",
       "\n",
       "       mean_coupon_discount  total_item_customer_purchased  buying_frequency  \\\n",
       "count          78369.000000                   78369.000000      78369.000000   \n",
       "mean              -0.624218                    1032.534752        105.865431   \n",
       "std                1.104607                     658.065148         58.294006   \n",
       "min              -13.629081                      83.000000         10.000000   \n",
       "25%               -0.705638                     557.000000         66.000000   \n",
       "50%               -0.242455                     884.000000         91.000000   \n",
       "75%               -0.055656                    1335.000000        135.000000   \n",
       "max                0.000000                    4522.000000        386.000000   \n",
       "\n",
       "       items_with_coupon_count  \n",
       "count             78369.000000  \n",
       "mean                600.780155  \n",
       "std                 379.946879  \n",
       "min                  38.000000  \n",
       "25%                 326.000000  \n",
       "50%                 514.000000  \n",
       "75%                 801.000000  \n",
       "max                2613.000000  "
      ]
     },
     "execution_count": 293,
     "metadata": {},
     "output_type": "execute_result"
    }
   ],
   "source": [
    "df_final.describe()"
   ]
  },
  {
   "cell_type": "code",
   "execution_count": 294,
   "metadata": {},
   "outputs": [
    {
     "data": {
      "text/html": [
       "<div>\n",
       "<style scoped>\n",
       "    .dataframe tbody tr th:only-of-type {\n",
       "        vertical-align: middle;\n",
       "    }\n",
       "\n",
       "    .dataframe tbody tr th {\n",
       "        vertical-align: top;\n",
       "    }\n",
       "\n",
       "    .dataframe thead th {\n",
       "        text-align: right;\n",
       "    }\n",
       "</style>\n",
       "<table border=\"1\" class=\"dataframe\">\n",
       "  <thead>\n",
       "    <tr style=\"text-align: right;\">\n",
       "      <th></th>\n",
       "      <th>campaign_type</th>\n",
       "      <th>campaign_Year</th>\n",
       "      <th>campaign_month</th>\n",
       "    </tr>\n",
       "  </thead>\n",
       "  <tbody>\n",
       "    <tr>\n",
       "      <td>count</td>\n",
       "      <td>78369</td>\n",
       "      <td>78369</td>\n",
       "      <td>78369</td>\n",
       "    </tr>\n",
       "    <tr>\n",
       "      <td>unique</td>\n",
       "      <td>2</td>\n",
       "      <td>2</td>\n",
       "      <td>9</td>\n",
       "    </tr>\n",
       "    <tr>\n",
       "      <td>top</td>\n",
       "      <td>X</td>\n",
       "      <td>2013</td>\n",
       "      <td>2</td>\n",
       "    </tr>\n",
       "    <tr>\n",
       "      <td>freq</td>\n",
       "      <td>57684</td>\n",
       "      <td>59832</td>\n",
       "      <td>24139</td>\n",
       "    </tr>\n",
       "  </tbody>\n",
       "</table>\n",
       "</div>"
      ],
      "text/plain": [
       "       campaign_type  campaign_Year  campaign_month\n",
       "count          78369          78369           78369\n",
       "unique             2              2               9\n",
       "top                X           2013               2\n",
       "freq           57684          59832           24139"
      ]
     },
     "execution_count": 294,
     "metadata": {},
     "output_type": "execute_result"
    }
   ],
   "source": [
    "df_final.describe(include=\"object\")"
   ]
  },
  {
   "cell_type": "code",
   "execution_count": 295,
   "metadata": {},
   "outputs": [
    {
     "data": {
      "text/html": [
       "<div>\n",
       "<style scoped>\n",
       "    .dataframe tbody tr th:only-of-type {\n",
       "        vertical-align: middle;\n",
       "    }\n",
       "\n",
       "    .dataframe tbody tr th {\n",
       "        vertical-align: top;\n",
       "    }\n",
       "\n",
       "    .dataframe thead th {\n",
       "        text-align: right;\n",
       "    }\n",
       "</style>\n",
       "<table border=\"1\" class=\"dataframe\">\n",
       "  <thead>\n",
       "    <tr style=\"text-align: right;\">\n",
       "      <th></th>\n",
       "      <th>campaign_id</th>\n",
       "      <th>coupon_id</th>\n",
       "      <th>customer_id</th>\n",
       "      <th>redemption_status</th>\n",
       "      <th>campaign_period</th>\n",
       "      <th>campaign_quarter</th>\n",
       "      <th>category_count_Food &amp; Dairy</th>\n",
       "      <th>category_count_Garden</th>\n",
       "      <th>category_count_Grocery</th>\n",
       "      <th>category_count_Health &amp; Personal care</th>\n",
       "      <th>category_count_Meat &amp; Fish</th>\n",
       "      <th>category_count_Miscellaneous</th>\n",
       "      <th>category_count_Established</th>\n",
       "      <th>category_count_Local</th>\n",
       "      <th>coupon_item_count</th>\n",
       "      <th>coupon_unique_brand</th>\n",
       "      <th>mean_item_quantity_purchased</th>\n",
       "      <th>mean_selling_price</th>\n",
       "      <th>mean_other_discount</th>\n",
       "      <th>mean_coupon_discount</th>\n",
       "      <th>total_item_customer_purchased</th>\n",
       "      <th>buying_frequency</th>\n",
       "      <th>items_with_coupon_count</th>\n",
       "    </tr>\n",
       "  </thead>\n",
       "  <tbody>\n",
       "    <tr>\n",
       "      <td>campaign_id</td>\n",
       "      <td>1.000000</td>\n",
       "      <td>0.102046</td>\n",
       "      <td>-0.003556</td>\n",
       "      <td>-0.007548</td>\n",
       "      <td>0.196663</td>\n",
       "      <td>-0.629057</td>\n",
       "      <td>-0.035872</td>\n",
       "      <td>-0.022595</td>\n",
       "      <td>-0.026386</td>\n",
       "      <td>-0.012635</td>\n",
       "      <td>-0.026015</td>\n",
       "      <td>-0.029768</td>\n",
       "      <td>-0.031905</td>\n",
       "      <td>-0.032467</td>\n",
       "      <td>-0.032807</td>\n",
       "      <td>-0.032445</td>\n",
       "      <td>0.005225</td>\n",
       "      <td>0.003433</td>\n",
       "      <td>-0.035629</td>\n",
       "      <td>-0.024052</td>\n",
       "      <td>-0.022684</td>\n",
       "      <td>-0.021226</td>\n",
       "      <td>-0.017897</td>\n",
       "    </tr>\n",
       "    <tr>\n",
       "      <td>coupon_id</td>\n",
       "      <td>0.102046</td>\n",
       "      <td>1.000000</td>\n",
       "      <td>0.007551</td>\n",
       "      <td>0.023334</td>\n",
       "      <td>0.155351</td>\n",
       "      <td>-0.056751</td>\n",
       "      <td>-0.148038</td>\n",
       "      <td>-0.086268</td>\n",
       "      <td>-0.120339</td>\n",
       "      <td>-0.078854</td>\n",
       "      <td>-0.097602</td>\n",
       "      <td>-0.115492</td>\n",
       "      <td>-0.143505</td>\n",
       "      <td>-0.212547</td>\n",
       "      <td>-0.157233</td>\n",
       "      <td>-0.147996</td>\n",
       "      <td>-0.000806</td>\n",
       "      <td>-0.001134</td>\n",
       "      <td>-0.003653</td>\n",
       "      <td>-0.005533</td>\n",
       "      <td>0.034097</td>\n",
       "      <td>0.015998</td>\n",
       "      <td>0.036697</td>\n",
       "    </tr>\n",
       "    <tr>\n",
       "      <td>customer_id</td>\n",
       "      <td>-0.003556</td>\n",
       "      <td>0.007551</td>\n",
       "      <td>1.000000</td>\n",
       "      <td>0.011690</td>\n",
       "      <td>0.016707</td>\n",
       "      <td>0.019728</td>\n",
       "      <td>-0.001968</td>\n",
       "      <td>-0.000199</td>\n",
       "      <td>-0.002640</td>\n",
       "      <td>-0.001777</td>\n",
       "      <td>-0.002656</td>\n",
       "      <td>-0.001071</td>\n",
       "      <td>-0.003440</td>\n",
       "      <td>-0.003337</td>\n",
       "      <td>-0.003513</td>\n",
       "      <td>-0.003380</td>\n",
       "      <td>0.004405</td>\n",
       "      <td>0.020176</td>\n",
       "      <td>-0.040155</td>\n",
       "      <td>-0.015591</td>\n",
       "      <td>0.098662</td>\n",
       "      <td>0.005993</td>\n",
       "      <td>0.108197</td>\n",
       "    </tr>\n",
       "    <tr>\n",
       "      <td>redemption_status</td>\n",
       "      <td>-0.007548</td>\n",
       "      <td>0.023334</td>\n",
       "      <td>0.011690</td>\n",
       "      <td>1.000000</td>\n",
       "      <td>-0.031185</td>\n",
       "      <td>0.012857</td>\n",
       "      <td>0.034043</td>\n",
       "      <td>0.005469</td>\n",
       "      <td>0.077629</td>\n",
       "      <td>0.013678</td>\n",
       "      <td>0.032163</td>\n",
       "      <td>0.017709</td>\n",
       "      <td>0.051521</td>\n",
       "      <td>0.070051</td>\n",
       "      <td>0.055540</td>\n",
       "      <td>0.042001</td>\n",
       "      <td>0.028401</td>\n",
       "      <td>0.007827</td>\n",
       "      <td>-0.015876</td>\n",
       "      <td>-0.097248</td>\n",
       "      <td>0.055532</td>\n",
       "      <td>0.019149</td>\n",
       "      <td>0.062166</td>\n",
       "    </tr>\n",
       "    <tr>\n",
       "      <td>campaign_period</td>\n",
       "      <td>0.196663</td>\n",
       "      <td>0.155351</td>\n",
       "      <td>0.016707</td>\n",
       "      <td>-0.031185</td>\n",
       "      <td>1.000000</td>\n",
       "      <td>-0.263925</td>\n",
       "      <td>-0.048955</td>\n",
       "      <td>-0.020051</td>\n",
       "      <td>-0.056856</td>\n",
       "      <td>-0.034296</td>\n",
       "      <td>-0.027002</td>\n",
       "      <td>-0.032754</td>\n",
       "      <td>-0.058933</td>\n",
       "      <td>-0.076627</td>\n",
       "      <td>-0.063021</td>\n",
       "      <td>-0.047976</td>\n",
       "      <td>0.013650</td>\n",
       "      <td>0.021417</td>\n",
       "      <td>-0.006983</td>\n",
       "      <td>0.000314</td>\n",
       "      <td>0.044776</td>\n",
       "      <td>0.016096</td>\n",
       "      <td>0.050209</td>\n",
       "    </tr>\n",
       "    <tr>\n",
       "      <td>campaign_quarter</td>\n",
       "      <td>-0.629057</td>\n",
       "      <td>-0.056751</td>\n",
       "      <td>0.019728</td>\n",
       "      <td>0.012857</td>\n",
       "      <td>-0.263925</td>\n",
       "      <td>1.000000</td>\n",
       "      <td>0.044796</td>\n",
       "      <td>0.006999</td>\n",
       "      <td>0.023766</td>\n",
       "      <td>0.031020</td>\n",
       "      <td>0.010252</td>\n",
       "      <td>0.015594</td>\n",
       "      <td>0.038897</td>\n",
       "      <td>0.039094</td>\n",
       "      <td>0.039926</td>\n",
       "      <td>0.021825</td>\n",
       "      <td>0.019541</td>\n",
       "      <td>0.022427</td>\n",
       "      <td>0.029131</td>\n",
       "      <td>-0.004671</td>\n",
       "      <td>0.055735</td>\n",
       "      <td>0.037505</td>\n",
       "      <td>0.054821</td>\n",
       "    </tr>\n",
       "    <tr>\n",
       "      <td>category_count_Food &amp; Dairy</td>\n",
       "      <td>-0.035872</td>\n",
       "      <td>-0.148038</td>\n",
       "      <td>-0.001968</td>\n",
       "      <td>0.034043</td>\n",
       "      <td>-0.048955</td>\n",
       "      <td>0.044796</td>\n",
       "      <td>1.000000</td>\n",
       "      <td>0.642366</td>\n",
       "      <td>0.571303</td>\n",
       "      <td>0.141182</td>\n",
       "      <td>0.088945</td>\n",
       "      <td>0.615718</td>\n",
       "      <td>0.436652</td>\n",
       "      <td>0.478033</td>\n",
       "      <td>0.453898</td>\n",
       "      <td>0.314931</td>\n",
       "      <td>0.000571</td>\n",
       "      <td>0.000345</td>\n",
       "      <td>-0.001480</td>\n",
       "      <td>-0.005370</td>\n",
       "      <td>-0.007850</td>\n",
       "      <td>-0.007929</td>\n",
       "      <td>-0.007239</td>\n",
       "    </tr>\n",
       "    <tr>\n",
       "      <td>category_count_Garden</td>\n",
       "      <td>-0.022595</td>\n",
       "      <td>-0.086268</td>\n",
       "      <td>-0.000199</td>\n",
       "      <td>0.005469</td>\n",
       "      <td>-0.020051</td>\n",
       "      <td>0.006999</td>\n",
       "      <td>0.642366</td>\n",
       "      <td>1.000000</td>\n",
       "      <td>-0.002536</td>\n",
       "      <td>0.218832</td>\n",
       "      <td>-0.001854</td>\n",
       "      <td>0.941501</td>\n",
       "      <td>0.278305</td>\n",
       "      <td>0.105306</td>\n",
       "      <td>0.260313</td>\n",
       "      <td>0.293436</td>\n",
       "      <td>0.001544</td>\n",
       "      <td>0.003097</td>\n",
       "      <td>0.000381</td>\n",
       "      <td>-0.002778</td>\n",
       "      <td>-0.003581</td>\n",
       "      <td>-0.005819</td>\n",
       "      <td>-0.003605</td>\n",
       "    </tr>\n",
       "    <tr>\n",
       "      <td>category_count_Grocery</td>\n",
       "      <td>-0.026386</td>\n",
       "      <td>-0.120339</td>\n",
       "      <td>-0.002640</td>\n",
       "      <td>0.077629</td>\n",
       "      <td>-0.056856</td>\n",
       "      <td>0.023766</td>\n",
       "      <td>0.571303</td>\n",
       "      <td>-0.002536</td>\n",
       "      <td>1.000000</td>\n",
       "      <td>-0.005245</td>\n",
       "      <td>0.092922</td>\n",
       "      <td>0.024151</td>\n",
       "      <td>0.386705</td>\n",
       "      <td>0.799341</td>\n",
       "      <td>0.456638</td>\n",
       "      <td>0.182817</td>\n",
       "      <td>-0.000854</td>\n",
       "      <td>-0.004918</td>\n",
       "      <td>-0.004127</td>\n",
       "      <td>-0.003662</td>\n",
       "      <td>-0.005665</td>\n",
       "      <td>-0.005600</td>\n",
       "      <td>-0.005045</td>\n",
       "    </tr>\n",
       "    <tr>\n",
       "      <td>category_count_Health &amp; Personal care</td>\n",
       "      <td>-0.012635</td>\n",
       "      <td>-0.078854</td>\n",
       "      <td>-0.001777</td>\n",
       "      <td>0.013678</td>\n",
       "      <td>-0.034296</td>\n",
       "      <td>0.031020</td>\n",
       "      <td>0.141182</td>\n",
       "      <td>0.218832</td>\n",
       "      <td>-0.005245</td>\n",
       "      <td>1.000000</td>\n",
       "      <td>-0.001979</td>\n",
       "      <td>0.278709</td>\n",
       "      <td>0.836876</td>\n",
       "      <td>0.487021</td>\n",
       "      <td>0.807540</td>\n",
       "      <td>0.371495</td>\n",
       "      <td>-0.000094</td>\n",
       "      <td>0.000337</td>\n",
       "      <td>0.004758</td>\n",
       "      <td>-0.000791</td>\n",
       "      <td>0.003192</td>\n",
       "      <td>0.005248</td>\n",
       "      <td>0.001610</td>\n",
       "    </tr>\n",
       "    <tr>\n",
       "      <td>category_count_Meat &amp; Fish</td>\n",
       "      <td>-0.026015</td>\n",
       "      <td>-0.097602</td>\n",
       "      <td>-0.002656</td>\n",
       "      <td>0.032163</td>\n",
       "      <td>-0.027002</td>\n",
       "      <td>0.010252</td>\n",
       "      <td>0.088945</td>\n",
       "      <td>-0.001854</td>\n",
       "      <td>0.092922</td>\n",
       "      <td>-0.001979</td>\n",
       "      <td>1.000000</td>\n",
       "      <td>0.320766</td>\n",
       "      <td>0.399332</td>\n",
       "      <td>0.312168</td>\n",
       "      <td>0.396932</td>\n",
       "      <td>0.894339</td>\n",
       "      <td>0.002154</td>\n",
       "      <td>-0.003063</td>\n",
       "      <td>-0.004462</td>\n",
       "      <td>-0.002462</td>\n",
       "      <td>0.001957</td>\n",
       "      <td>0.008679</td>\n",
       "      <td>0.002061</td>\n",
       "    </tr>\n",
       "    <tr>\n",
       "      <td>category_count_Miscellaneous</td>\n",
       "      <td>-0.029768</td>\n",
       "      <td>-0.115492</td>\n",
       "      <td>-0.001071</td>\n",
       "      <td>0.017709</td>\n",
       "      <td>-0.032754</td>\n",
       "      <td>0.015594</td>\n",
       "      <td>0.615718</td>\n",
       "      <td>0.941501</td>\n",
       "      <td>0.024151</td>\n",
       "      <td>0.278709</td>\n",
       "      <td>0.320766</td>\n",
       "      <td>1.000000</td>\n",
       "      <td>0.447962</td>\n",
       "      <td>0.239175</td>\n",
       "      <td>0.429131</td>\n",
       "      <td>0.589445</td>\n",
       "      <td>0.001922</td>\n",
       "      <td>0.001790</td>\n",
       "      <td>-0.000842</td>\n",
       "      <td>-0.003746</td>\n",
       "      <td>-0.001957</td>\n",
       "      <td>-0.002077</td>\n",
       "      <td>-0.001982</td>\n",
       "    </tr>\n",
       "    <tr>\n",
       "      <td>category_count_Established</td>\n",
       "      <td>-0.031905</td>\n",
       "      <td>-0.143505</td>\n",
       "      <td>-0.003440</td>\n",
       "      <td>0.051521</td>\n",
       "      <td>-0.058933</td>\n",
       "      <td>0.038897</td>\n",
       "      <td>0.436652</td>\n",
       "      <td>0.278305</td>\n",
       "      <td>0.386705</td>\n",
       "      <td>0.836876</td>\n",
       "      <td>0.399332</td>\n",
       "      <td>0.447962</td>\n",
       "      <td>1.000000</td>\n",
       "      <td>0.796444</td>\n",
       "      <td>0.996128</td>\n",
       "      <td>0.725822</td>\n",
       "      <td>0.000498</td>\n",
       "      <td>-0.002398</td>\n",
       "      <td>0.000855</td>\n",
       "      <td>-0.003321</td>\n",
       "      <td>0.001242</td>\n",
       "      <td>0.005059</td>\n",
       "      <td>0.000262</td>\n",
       "    </tr>\n",
       "    <tr>\n",
       "      <td>category_count_Local</td>\n",
       "      <td>-0.032467</td>\n",
       "      <td>-0.212547</td>\n",
       "      <td>-0.003337</td>\n",
       "      <td>0.070051</td>\n",
       "      <td>-0.076627</td>\n",
       "      <td>0.039094</td>\n",
       "      <td>0.478033</td>\n",
       "      <td>0.105306</td>\n",
       "      <td>0.799341</td>\n",
       "      <td>0.487021</td>\n",
       "      <td>0.312168</td>\n",
       "      <td>0.239175</td>\n",
       "      <td>0.796444</td>\n",
       "      <td>1.000000</td>\n",
       "      <td>0.846521</td>\n",
       "      <td>0.548580</td>\n",
       "      <td>0.000216</td>\n",
       "      <td>-0.003483</td>\n",
       "      <td>-0.002030</td>\n",
       "      <td>-0.003091</td>\n",
       "      <td>-0.004732</td>\n",
       "      <td>-0.001009</td>\n",
       "      <td>-0.005275</td>\n",
       "    </tr>\n",
       "    <tr>\n",
       "      <td>coupon_item_count</td>\n",
       "      <td>-0.032807</td>\n",
       "      <td>-0.157233</td>\n",
       "      <td>-0.003513</td>\n",
       "      <td>0.055540</td>\n",
       "      <td>-0.063021</td>\n",
       "      <td>0.039926</td>\n",
       "      <td>0.453898</td>\n",
       "      <td>0.260313</td>\n",
       "      <td>0.456638</td>\n",
       "      <td>0.807540</td>\n",
       "      <td>0.396932</td>\n",
       "      <td>0.429131</td>\n",
       "      <td>0.996128</td>\n",
       "      <td>0.846521</td>\n",
       "      <td>1.000000</td>\n",
       "      <td>0.718723</td>\n",
       "      <td>0.000470</td>\n",
       "      <td>-0.002617</td>\n",
       "      <td>0.000457</td>\n",
       "      <td>-0.003373</td>\n",
       "      <td>0.000405</td>\n",
       "      <td>0.004307</td>\n",
       "      <td>-0.000536</td>\n",
       "    </tr>\n",
       "    <tr>\n",
       "      <td>coupon_unique_brand</td>\n",
       "      <td>-0.032445</td>\n",
       "      <td>-0.147996</td>\n",
       "      <td>-0.003380</td>\n",
       "      <td>0.042001</td>\n",
       "      <td>-0.047976</td>\n",
       "      <td>0.021825</td>\n",
       "      <td>0.314931</td>\n",
       "      <td>0.293436</td>\n",
       "      <td>0.182817</td>\n",
       "      <td>0.371495</td>\n",
       "      <td>0.894339</td>\n",
       "      <td>0.589445</td>\n",
       "      <td>0.725822</td>\n",
       "      <td>0.548580</td>\n",
       "      <td>0.718723</td>\n",
       "      <td>1.000000</td>\n",
       "      <td>0.002116</td>\n",
       "      <td>-0.002377</td>\n",
       "      <td>-0.002660</td>\n",
       "      <td>-0.003239</td>\n",
       "      <td>0.001093</td>\n",
       "      <td>0.007411</td>\n",
       "      <td>0.000673</td>\n",
       "    </tr>\n",
       "    <tr>\n",
       "      <td>mean_item_quantity_purchased</td>\n",
       "      <td>0.005225</td>\n",
       "      <td>-0.000806</td>\n",
       "      <td>0.004405</td>\n",
       "      <td>0.028401</td>\n",
       "      <td>0.013650</td>\n",
       "      <td>0.019541</td>\n",
       "      <td>0.000571</td>\n",
       "      <td>0.001544</td>\n",
       "      <td>-0.000854</td>\n",
       "      <td>-0.000094</td>\n",
       "      <td>0.002154</td>\n",
       "      <td>0.001922</td>\n",
       "      <td>0.000498</td>\n",
       "      <td>0.000216</td>\n",
       "      <td>0.000470</td>\n",
       "      <td>0.002116</td>\n",
       "      <td>1.000000</td>\n",
       "      <td>0.625520</td>\n",
       "      <td>-0.087645</td>\n",
       "      <td>-0.108660</td>\n",
       "      <td>0.063688</td>\n",
       "      <td>0.228941</td>\n",
       "      <td>0.050654</td>\n",
       "    </tr>\n",
       "    <tr>\n",
       "      <td>mean_selling_price</td>\n",
       "      <td>0.003433</td>\n",
       "      <td>-0.001134</td>\n",
       "      <td>0.020176</td>\n",
       "      <td>0.007827</td>\n",
       "      <td>0.021417</td>\n",
       "      <td>0.022427</td>\n",
       "      <td>0.000345</td>\n",
       "      <td>0.003097</td>\n",
       "      <td>-0.004918</td>\n",
       "      <td>0.000337</td>\n",
       "      <td>-0.003063</td>\n",
       "      <td>0.001790</td>\n",
       "      <td>-0.002398</td>\n",
       "      <td>-0.003483</td>\n",
       "      <td>-0.002617</td>\n",
       "      <td>-0.002377</td>\n",
       "      <td>0.625520</td>\n",
       "      <td>1.000000</td>\n",
       "      <td>-0.278038</td>\n",
       "      <td>-0.146160</td>\n",
       "      <td>-0.028764</td>\n",
       "      <td>0.042995</td>\n",
       "      <td>-0.044439</td>\n",
       "    </tr>\n",
       "    <tr>\n",
       "      <td>mean_other_discount</td>\n",
       "      <td>-0.035629</td>\n",
       "      <td>-0.003653</td>\n",
       "      <td>-0.040155</td>\n",
       "      <td>-0.015876</td>\n",
       "      <td>-0.006983</td>\n",
       "      <td>0.029131</td>\n",
       "      <td>-0.001480</td>\n",
       "      <td>0.000381</td>\n",
       "      <td>-0.004127</td>\n",
       "      <td>0.004758</td>\n",
       "      <td>-0.004462</td>\n",
       "      <td>-0.000842</td>\n",
       "      <td>0.000855</td>\n",
       "      <td>-0.002030</td>\n",
       "      <td>0.000457</td>\n",
       "      <td>-0.002660</td>\n",
       "      <td>-0.087645</td>\n",
       "      <td>-0.278038</td>\n",
       "      <td>1.000000</td>\n",
       "      <td>0.449083</td>\n",
       "      <td>0.074968</td>\n",
       "      <td>0.060520</td>\n",
       "      <td>0.047346</td>\n",
       "    </tr>\n",
       "    <tr>\n",
       "      <td>mean_coupon_discount</td>\n",
       "      <td>-0.024052</td>\n",
       "      <td>-0.005533</td>\n",
       "      <td>-0.015591</td>\n",
       "      <td>-0.097248</td>\n",
       "      <td>0.000314</td>\n",
       "      <td>-0.004671</td>\n",
       "      <td>-0.005370</td>\n",
       "      <td>-0.002778</td>\n",
       "      <td>-0.003662</td>\n",
       "      <td>-0.000791</td>\n",
       "      <td>-0.002462</td>\n",
       "      <td>-0.003746</td>\n",
       "      <td>-0.003321</td>\n",
       "      <td>-0.003091</td>\n",
       "      <td>-0.003373</td>\n",
       "      <td>-0.003239</td>\n",
       "      <td>-0.108660</td>\n",
       "      <td>-0.146160</td>\n",
       "      <td>0.449083</td>\n",
       "      <td>1.000000</td>\n",
       "      <td>-0.035479</td>\n",
       "      <td>-0.002971</td>\n",
       "      <td>-0.054054</td>\n",
       "    </tr>\n",
       "    <tr>\n",
       "      <td>total_item_customer_purchased</td>\n",
       "      <td>-0.022684</td>\n",
       "      <td>0.034097</td>\n",
       "      <td>0.098662</td>\n",
       "      <td>0.055532</td>\n",
       "      <td>0.044776</td>\n",
       "      <td>0.055735</td>\n",
       "      <td>-0.007850</td>\n",
       "      <td>-0.003581</td>\n",
       "      <td>-0.005665</td>\n",
       "      <td>0.003192</td>\n",
       "      <td>0.001957</td>\n",
       "      <td>-0.001957</td>\n",
       "      <td>0.001242</td>\n",
       "      <td>-0.004732</td>\n",
       "      <td>0.000405</td>\n",
       "      <td>0.001093</td>\n",
       "      <td>0.063688</td>\n",
       "      <td>-0.028764</td>\n",
       "      <td>0.074968</td>\n",
       "      <td>-0.035479</td>\n",
       "      <td>1.000000</td>\n",
       "      <td>0.653755</td>\n",
       "      <td>0.982667</td>\n",
       "    </tr>\n",
       "    <tr>\n",
       "      <td>buying_frequency</td>\n",
       "      <td>-0.021226</td>\n",
       "      <td>0.015998</td>\n",
       "      <td>0.005993</td>\n",
       "      <td>0.019149</td>\n",
       "      <td>0.016096</td>\n",
       "      <td>0.037505</td>\n",
       "      <td>-0.007929</td>\n",
       "      <td>-0.005819</td>\n",
       "      <td>-0.005600</td>\n",
       "      <td>0.005248</td>\n",
       "      <td>0.008679</td>\n",
       "      <td>-0.002077</td>\n",
       "      <td>0.005059</td>\n",
       "      <td>-0.001009</td>\n",
       "      <td>0.004307</td>\n",
       "      <td>0.007411</td>\n",
       "      <td>0.228941</td>\n",
       "      <td>0.042995</td>\n",
       "      <td>0.060520</td>\n",
       "      <td>-0.002971</td>\n",
       "      <td>0.653755</td>\n",
       "      <td>1.000000</td>\n",
       "      <td>0.607286</td>\n",
       "    </tr>\n",
       "    <tr>\n",
       "      <td>items_with_coupon_count</td>\n",
       "      <td>-0.017897</td>\n",
       "      <td>0.036697</td>\n",
       "      <td>0.108197</td>\n",
       "      <td>0.062166</td>\n",
       "      <td>0.050209</td>\n",
       "      <td>0.054821</td>\n",
       "      <td>-0.007239</td>\n",
       "      <td>-0.003605</td>\n",
       "      <td>-0.005045</td>\n",
       "      <td>0.001610</td>\n",
       "      <td>0.002061</td>\n",
       "      <td>-0.001982</td>\n",
       "      <td>0.000262</td>\n",
       "      <td>-0.005275</td>\n",
       "      <td>-0.000536</td>\n",
       "      <td>0.000673</td>\n",
       "      <td>0.050654</td>\n",
       "      <td>-0.044439</td>\n",
       "      <td>0.047346</td>\n",
       "      <td>-0.054054</td>\n",
       "      <td>0.982667</td>\n",
       "      <td>0.607286</td>\n",
       "      <td>1.000000</td>\n",
       "    </tr>\n",
       "  </tbody>\n",
       "</table>\n",
       "</div>"
      ],
      "text/plain": [
       "                                       campaign_id  coupon_id  customer_id  \\\n",
       "campaign_id                               1.000000   0.102046    -0.003556   \n",
       "coupon_id                                 0.102046   1.000000     0.007551   \n",
       "customer_id                              -0.003556   0.007551     1.000000   \n",
       "redemption_status                        -0.007548   0.023334     0.011690   \n",
       "campaign_period                           0.196663   0.155351     0.016707   \n",
       "campaign_quarter                         -0.629057  -0.056751     0.019728   \n",
       "category_count_Food & Dairy              -0.035872  -0.148038    -0.001968   \n",
       "category_count_Garden                    -0.022595  -0.086268    -0.000199   \n",
       "category_count_Grocery                   -0.026386  -0.120339    -0.002640   \n",
       "category_count_Health & Personal care    -0.012635  -0.078854    -0.001777   \n",
       "category_count_Meat & Fish               -0.026015  -0.097602    -0.002656   \n",
       "category_count_Miscellaneous             -0.029768  -0.115492    -0.001071   \n",
       "category_count_Established               -0.031905  -0.143505    -0.003440   \n",
       "category_count_Local                     -0.032467  -0.212547    -0.003337   \n",
       "coupon_item_count                        -0.032807  -0.157233    -0.003513   \n",
       "coupon_unique_brand                      -0.032445  -0.147996    -0.003380   \n",
       "mean_item_quantity_purchased              0.005225  -0.000806     0.004405   \n",
       "mean_selling_price                        0.003433  -0.001134     0.020176   \n",
       "mean_other_discount                      -0.035629  -0.003653    -0.040155   \n",
       "mean_coupon_discount                     -0.024052  -0.005533    -0.015591   \n",
       "total_item_customer_purchased            -0.022684   0.034097     0.098662   \n",
       "buying_frequency                         -0.021226   0.015998     0.005993   \n",
       "items_with_coupon_count                  -0.017897   0.036697     0.108197   \n",
       "\n",
       "                                       redemption_status  campaign_period  \\\n",
       "campaign_id                                    -0.007548         0.196663   \n",
       "coupon_id                                       0.023334         0.155351   \n",
       "customer_id                                     0.011690         0.016707   \n",
       "redemption_status                               1.000000        -0.031185   \n",
       "campaign_period                                -0.031185         1.000000   \n",
       "campaign_quarter                                0.012857        -0.263925   \n",
       "category_count_Food & Dairy                     0.034043        -0.048955   \n",
       "category_count_Garden                           0.005469        -0.020051   \n",
       "category_count_Grocery                          0.077629        -0.056856   \n",
       "category_count_Health & Personal care           0.013678        -0.034296   \n",
       "category_count_Meat & Fish                      0.032163        -0.027002   \n",
       "category_count_Miscellaneous                    0.017709        -0.032754   \n",
       "category_count_Established                      0.051521        -0.058933   \n",
       "category_count_Local                            0.070051        -0.076627   \n",
       "coupon_item_count                               0.055540        -0.063021   \n",
       "coupon_unique_brand                             0.042001        -0.047976   \n",
       "mean_item_quantity_purchased                    0.028401         0.013650   \n",
       "mean_selling_price                              0.007827         0.021417   \n",
       "mean_other_discount                            -0.015876        -0.006983   \n",
       "mean_coupon_discount                           -0.097248         0.000314   \n",
       "total_item_customer_purchased                   0.055532         0.044776   \n",
       "buying_frequency                                0.019149         0.016096   \n",
       "items_with_coupon_count                         0.062166         0.050209   \n",
       "\n",
       "                                       campaign_quarter  \\\n",
       "campaign_id                                   -0.629057   \n",
       "coupon_id                                     -0.056751   \n",
       "customer_id                                    0.019728   \n",
       "redemption_status                              0.012857   \n",
       "campaign_period                               -0.263925   \n",
       "campaign_quarter                               1.000000   \n",
       "category_count_Food & Dairy                    0.044796   \n",
       "category_count_Garden                          0.006999   \n",
       "category_count_Grocery                         0.023766   \n",
       "category_count_Health & Personal care          0.031020   \n",
       "category_count_Meat & Fish                     0.010252   \n",
       "category_count_Miscellaneous                   0.015594   \n",
       "category_count_Established                     0.038897   \n",
       "category_count_Local                           0.039094   \n",
       "coupon_item_count                              0.039926   \n",
       "coupon_unique_brand                            0.021825   \n",
       "mean_item_quantity_purchased                   0.019541   \n",
       "mean_selling_price                             0.022427   \n",
       "mean_other_discount                            0.029131   \n",
       "mean_coupon_discount                          -0.004671   \n",
       "total_item_customer_purchased                  0.055735   \n",
       "buying_frequency                               0.037505   \n",
       "items_with_coupon_count                        0.054821   \n",
       "\n",
       "                                       category_count_Food & Dairy  \\\n",
       "campaign_id                                              -0.035872   \n",
       "coupon_id                                                -0.148038   \n",
       "customer_id                                              -0.001968   \n",
       "redemption_status                                         0.034043   \n",
       "campaign_period                                          -0.048955   \n",
       "campaign_quarter                                          0.044796   \n",
       "category_count_Food & Dairy                               1.000000   \n",
       "category_count_Garden                                     0.642366   \n",
       "category_count_Grocery                                    0.571303   \n",
       "category_count_Health & Personal care                     0.141182   \n",
       "category_count_Meat & Fish                                0.088945   \n",
       "category_count_Miscellaneous                              0.615718   \n",
       "category_count_Established                                0.436652   \n",
       "category_count_Local                                      0.478033   \n",
       "coupon_item_count                                         0.453898   \n",
       "coupon_unique_brand                                       0.314931   \n",
       "mean_item_quantity_purchased                              0.000571   \n",
       "mean_selling_price                                        0.000345   \n",
       "mean_other_discount                                      -0.001480   \n",
       "mean_coupon_discount                                     -0.005370   \n",
       "total_item_customer_purchased                            -0.007850   \n",
       "buying_frequency                                         -0.007929   \n",
       "items_with_coupon_count                                  -0.007239   \n",
       "\n",
       "                                       category_count_Garden  \\\n",
       "campaign_id                                        -0.022595   \n",
       "coupon_id                                          -0.086268   \n",
       "customer_id                                        -0.000199   \n",
       "redemption_status                                   0.005469   \n",
       "campaign_period                                    -0.020051   \n",
       "campaign_quarter                                    0.006999   \n",
       "category_count_Food & Dairy                         0.642366   \n",
       "category_count_Garden                               1.000000   \n",
       "category_count_Grocery                             -0.002536   \n",
       "category_count_Health & Personal care               0.218832   \n",
       "category_count_Meat & Fish                         -0.001854   \n",
       "category_count_Miscellaneous                        0.941501   \n",
       "category_count_Established                          0.278305   \n",
       "category_count_Local                                0.105306   \n",
       "coupon_item_count                                   0.260313   \n",
       "coupon_unique_brand                                 0.293436   \n",
       "mean_item_quantity_purchased                        0.001544   \n",
       "mean_selling_price                                  0.003097   \n",
       "mean_other_discount                                 0.000381   \n",
       "mean_coupon_discount                               -0.002778   \n",
       "total_item_customer_purchased                      -0.003581   \n",
       "buying_frequency                                   -0.005819   \n",
       "items_with_coupon_count                            -0.003605   \n",
       "\n",
       "                                       category_count_Grocery  \\\n",
       "campaign_id                                         -0.026386   \n",
       "coupon_id                                           -0.120339   \n",
       "customer_id                                         -0.002640   \n",
       "redemption_status                                    0.077629   \n",
       "campaign_period                                     -0.056856   \n",
       "campaign_quarter                                     0.023766   \n",
       "category_count_Food & Dairy                          0.571303   \n",
       "category_count_Garden                               -0.002536   \n",
       "category_count_Grocery                               1.000000   \n",
       "category_count_Health & Personal care               -0.005245   \n",
       "category_count_Meat & Fish                           0.092922   \n",
       "category_count_Miscellaneous                         0.024151   \n",
       "category_count_Established                           0.386705   \n",
       "category_count_Local                                 0.799341   \n",
       "coupon_item_count                                    0.456638   \n",
       "coupon_unique_brand                                  0.182817   \n",
       "mean_item_quantity_purchased                        -0.000854   \n",
       "mean_selling_price                                  -0.004918   \n",
       "mean_other_discount                                 -0.004127   \n",
       "mean_coupon_discount                                -0.003662   \n",
       "total_item_customer_purchased                       -0.005665   \n",
       "buying_frequency                                    -0.005600   \n",
       "items_with_coupon_count                             -0.005045   \n",
       "\n",
       "                                       category_count_Health & Personal care  \\\n",
       "campaign_id                                                        -0.012635   \n",
       "coupon_id                                                          -0.078854   \n",
       "customer_id                                                        -0.001777   \n",
       "redemption_status                                                   0.013678   \n",
       "campaign_period                                                    -0.034296   \n",
       "campaign_quarter                                                    0.031020   \n",
       "category_count_Food & Dairy                                         0.141182   \n",
       "category_count_Garden                                               0.218832   \n",
       "category_count_Grocery                                             -0.005245   \n",
       "category_count_Health & Personal care                               1.000000   \n",
       "category_count_Meat & Fish                                         -0.001979   \n",
       "category_count_Miscellaneous                                        0.278709   \n",
       "category_count_Established                                          0.836876   \n",
       "category_count_Local                                                0.487021   \n",
       "coupon_item_count                                                   0.807540   \n",
       "coupon_unique_brand                                                 0.371495   \n",
       "mean_item_quantity_purchased                                       -0.000094   \n",
       "mean_selling_price                                                  0.000337   \n",
       "mean_other_discount                                                 0.004758   \n",
       "mean_coupon_discount                                               -0.000791   \n",
       "total_item_customer_purchased                                       0.003192   \n",
       "buying_frequency                                                    0.005248   \n",
       "items_with_coupon_count                                             0.001610   \n",
       "\n",
       "                                       category_count_Meat & Fish  \\\n",
       "campaign_id                                             -0.026015   \n",
       "coupon_id                                               -0.097602   \n",
       "customer_id                                             -0.002656   \n",
       "redemption_status                                        0.032163   \n",
       "campaign_period                                         -0.027002   \n",
       "campaign_quarter                                         0.010252   \n",
       "category_count_Food & Dairy                              0.088945   \n",
       "category_count_Garden                                   -0.001854   \n",
       "category_count_Grocery                                   0.092922   \n",
       "category_count_Health & Personal care                   -0.001979   \n",
       "category_count_Meat & Fish                               1.000000   \n",
       "category_count_Miscellaneous                             0.320766   \n",
       "category_count_Established                               0.399332   \n",
       "category_count_Local                                     0.312168   \n",
       "coupon_item_count                                        0.396932   \n",
       "coupon_unique_brand                                      0.894339   \n",
       "mean_item_quantity_purchased                             0.002154   \n",
       "mean_selling_price                                      -0.003063   \n",
       "mean_other_discount                                     -0.004462   \n",
       "mean_coupon_discount                                    -0.002462   \n",
       "total_item_customer_purchased                            0.001957   \n",
       "buying_frequency                                         0.008679   \n",
       "items_with_coupon_count                                  0.002061   \n",
       "\n",
       "                                       category_count_Miscellaneous  \\\n",
       "campaign_id                                               -0.029768   \n",
       "coupon_id                                                 -0.115492   \n",
       "customer_id                                               -0.001071   \n",
       "redemption_status                                          0.017709   \n",
       "campaign_period                                           -0.032754   \n",
       "campaign_quarter                                           0.015594   \n",
       "category_count_Food & Dairy                                0.615718   \n",
       "category_count_Garden                                      0.941501   \n",
       "category_count_Grocery                                     0.024151   \n",
       "category_count_Health & Personal care                      0.278709   \n",
       "category_count_Meat & Fish                                 0.320766   \n",
       "category_count_Miscellaneous                               1.000000   \n",
       "category_count_Established                                 0.447962   \n",
       "category_count_Local                                       0.239175   \n",
       "coupon_item_count                                          0.429131   \n",
       "coupon_unique_brand                                        0.589445   \n",
       "mean_item_quantity_purchased                               0.001922   \n",
       "mean_selling_price                                         0.001790   \n",
       "mean_other_discount                                       -0.000842   \n",
       "mean_coupon_discount                                      -0.003746   \n",
       "total_item_customer_purchased                             -0.001957   \n",
       "buying_frequency                                          -0.002077   \n",
       "items_with_coupon_count                                   -0.001982   \n",
       "\n",
       "                                       category_count_Established  \\\n",
       "campaign_id                                             -0.031905   \n",
       "coupon_id                                               -0.143505   \n",
       "customer_id                                             -0.003440   \n",
       "redemption_status                                        0.051521   \n",
       "campaign_period                                         -0.058933   \n",
       "campaign_quarter                                         0.038897   \n",
       "category_count_Food & Dairy                              0.436652   \n",
       "category_count_Garden                                    0.278305   \n",
       "category_count_Grocery                                   0.386705   \n",
       "category_count_Health & Personal care                    0.836876   \n",
       "category_count_Meat & Fish                               0.399332   \n",
       "category_count_Miscellaneous                             0.447962   \n",
       "category_count_Established                               1.000000   \n",
       "category_count_Local                                     0.796444   \n",
       "coupon_item_count                                        0.996128   \n",
       "coupon_unique_brand                                      0.725822   \n",
       "mean_item_quantity_purchased                             0.000498   \n",
       "mean_selling_price                                      -0.002398   \n",
       "mean_other_discount                                      0.000855   \n",
       "mean_coupon_discount                                    -0.003321   \n",
       "total_item_customer_purchased                            0.001242   \n",
       "buying_frequency                                         0.005059   \n",
       "items_with_coupon_count                                  0.000262   \n",
       "\n",
       "                                       category_count_Local  \\\n",
       "campaign_id                                       -0.032467   \n",
       "coupon_id                                         -0.212547   \n",
       "customer_id                                       -0.003337   \n",
       "redemption_status                                  0.070051   \n",
       "campaign_period                                   -0.076627   \n",
       "campaign_quarter                                   0.039094   \n",
       "category_count_Food & Dairy                        0.478033   \n",
       "category_count_Garden                              0.105306   \n",
       "category_count_Grocery                             0.799341   \n",
       "category_count_Health & Personal care              0.487021   \n",
       "category_count_Meat & Fish                         0.312168   \n",
       "category_count_Miscellaneous                       0.239175   \n",
       "category_count_Established                         0.796444   \n",
       "category_count_Local                               1.000000   \n",
       "coupon_item_count                                  0.846521   \n",
       "coupon_unique_brand                                0.548580   \n",
       "mean_item_quantity_purchased                       0.000216   \n",
       "mean_selling_price                                -0.003483   \n",
       "mean_other_discount                               -0.002030   \n",
       "mean_coupon_discount                              -0.003091   \n",
       "total_item_customer_purchased                     -0.004732   \n",
       "buying_frequency                                  -0.001009   \n",
       "items_with_coupon_count                           -0.005275   \n",
       "\n",
       "                                       coupon_item_count  coupon_unique_brand  \\\n",
       "campaign_id                                    -0.032807            -0.032445   \n",
       "coupon_id                                      -0.157233            -0.147996   \n",
       "customer_id                                    -0.003513            -0.003380   \n",
       "redemption_status                               0.055540             0.042001   \n",
       "campaign_period                                -0.063021            -0.047976   \n",
       "campaign_quarter                                0.039926             0.021825   \n",
       "category_count_Food & Dairy                     0.453898             0.314931   \n",
       "category_count_Garden                           0.260313             0.293436   \n",
       "category_count_Grocery                          0.456638             0.182817   \n",
       "category_count_Health & Personal care           0.807540             0.371495   \n",
       "category_count_Meat & Fish                      0.396932             0.894339   \n",
       "category_count_Miscellaneous                    0.429131             0.589445   \n",
       "category_count_Established                      0.996128             0.725822   \n",
       "category_count_Local                            0.846521             0.548580   \n",
       "coupon_item_count                               1.000000             0.718723   \n",
       "coupon_unique_brand                             0.718723             1.000000   \n",
       "mean_item_quantity_purchased                    0.000470             0.002116   \n",
       "mean_selling_price                             -0.002617            -0.002377   \n",
       "mean_other_discount                             0.000457            -0.002660   \n",
       "mean_coupon_discount                           -0.003373            -0.003239   \n",
       "total_item_customer_purchased                   0.000405             0.001093   \n",
       "buying_frequency                                0.004307             0.007411   \n",
       "items_with_coupon_count                        -0.000536             0.000673   \n",
       "\n",
       "                                       mean_item_quantity_purchased  \\\n",
       "campaign_id                                                0.005225   \n",
       "coupon_id                                                 -0.000806   \n",
       "customer_id                                                0.004405   \n",
       "redemption_status                                          0.028401   \n",
       "campaign_period                                            0.013650   \n",
       "campaign_quarter                                           0.019541   \n",
       "category_count_Food & Dairy                                0.000571   \n",
       "category_count_Garden                                      0.001544   \n",
       "category_count_Grocery                                    -0.000854   \n",
       "category_count_Health & Personal care                     -0.000094   \n",
       "category_count_Meat & Fish                                 0.002154   \n",
       "category_count_Miscellaneous                               0.001922   \n",
       "category_count_Established                                 0.000498   \n",
       "category_count_Local                                       0.000216   \n",
       "coupon_item_count                                          0.000470   \n",
       "coupon_unique_brand                                        0.002116   \n",
       "mean_item_quantity_purchased                               1.000000   \n",
       "mean_selling_price                                         0.625520   \n",
       "mean_other_discount                                       -0.087645   \n",
       "mean_coupon_discount                                      -0.108660   \n",
       "total_item_customer_purchased                              0.063688   \n",
       "buying_frequency                                           0.228941   \n",
       "items_with_coupon_count                                    0.050654   \n",
       "\n",
       "                                       mean_selling_price  \\\n",
       "campaign_id                                      0.003433   \n",
       "coupon_id                                       -0.001134   \n",
       "customer_id                                      0.020176   \n",
       "redemption_status                                0.007827   \n",
       "campaign_period                                  0.021417   \n",
       "campaign_quarter                                 0.022427   \n",
       "category_count_Food & Dairy                      0.000345   \n",
       "category_count_Garden                            0.003097   \n",
       "category_count_Grocery                          -0.004918   \n",
       "category_count_Health & Personal care            0.000337   \n",
       "category_count_Meat & Fish                      -0.003063   \n",
       "category_count_Miscellaneous                     0.001790   \n",
       "category_count_Established                      -0.002398   \n",
       "category_count_Local                            -0.003483   \n",
       "coupon_item_count                               -0.002617   \n",
       "coupon_unique_brand                             -0.002377   \n",
       "mean_item_quantity_purchased                     0.625520   \n",
       "mean_selling_price                               1.000000   \n",
       "mean_other_discount                             -0.278038   \n",
       "mean_coupon_discount                            -0.146160   \n",
       "total_item_customer_purchased                   -0.028764   \n",
       "buying_frequency                                 0.042995   \n",
       "items_with_coupon_count                         -0.044439   \n",
       "\n",
       "                                       mean_other_discount  \\\n",
       "campaign_id                                      -0.035629   \n",
       "coupon_id                                        -0.003653   \n",
       "customer_id                                      -0.040155   \n",
       "redemption_status                                -0.015876   \n",
       "campaign_period                                  -0.006983   \n",
       "campaign_quarter                                  0.029131   \n",
       "category_count_Food & Dairy                      -0.001480   \n",
       "category_count_Garden                             0.000381   \n",
       "category_count_Grocery                           -0.004127   \n",
       "category_count_Health & Personal care             0.004758   \n",
       "category_count_Meat & Fish                       -0.004462   \n",
       "category_count_Miscellaneous                     -0.000842   \n",
       "category_count_Established                        0.000855   \n",
       "category_count_Local                             -0.002030   \n",
       "coupon_item_count                                 0.000457   \n",
       "coupon_unique_brand                              -0.002660   \n",
       "mean_item_quantity_purchased                     -0.087645   \n",
       "mean_selling_price                               -0.278038   \n",
       "mean_other_discount                               1.000000   \n",
       "mean_coupon_discount                              0.449083   \n",
       "total_item_customer_purchased                     0.074968   \n",
       "buying_frequency                                  0.060520   \n",
       "items_with_coupon_count                           0.047346   \n",
       "\n",
       "                                       mean_coupon_discount  \\\n",
       "campaign_id                                       -0.024052   \n",
       "coupon_id                                         -0.005533   \n",
       "customer_id                                       -0.015591   \n",
       "redemption_status                                 -0.097248   \n",
       "campaign_period                                    0.000314   \n",
       "campaign_quarter                                  -0.004671   \n",
       "category_count_Food & Dairy                       -0.005370   \n",
       "category_count_Garden                             -0.002778   \n",
       "category_count_Grocery                            -0.003662   \n",
       "category_count_Health & Personal care             -0.000791   \n",
       "category_count_Meat & Fish                        -0.002462   \n",
       "category_count_Miscellaneous                      -0.003746   \n",
       "category_count_Established                        -0.003321   \n",
       "category_count_Local                              -0.003091   \n",
       "coupon_item_count                                 -0.003373   \n",
       "coupon_unique_brand                               -0.003239   \n",
       "mean_item_quantity_purchased                      -0.108660   \n",
       "mean_selling_price                                -0.146160   \n",
       "mean_other_discount                                0.449083   \n",
       "mean_coupon_discount                               1.000000   \n",
       "total_item_customer_purchased                     -0.035479   \n",
       "buying_frequency                                  -0.002971   \n",
       "items_with_coupon_count                           -0.054054   \n",
       "\n",
       "                                       total_item_customer_purchased  \\\n",
       "campaign_id                                                -0.022684   \n",
       "coupon_id                                                   0.034097   \n",
       "customer_id                                                 0.098662   \n",
       "redemption_status                                           0.055532   \n",
       "campaign_period                                             0.044776   \n",
       "campaign_quarter                                            0.055735   \n",
       "category_count_Food & Dairy                                -0.007850   \n",
       "category_count_Garden                                      -0.003581   \n",
       "category_count_Grocery                                     -0.005665   \n",
       "category_count_Health & Personal care                       0.003192   \n",
       "category_count_Meat & Fish                                  0.001957   \n",
       "category_count_Miscellaneous                               -0.001957   \n",
       "category_count_Established                                  0.001242   \n",
       "category_count_Local                                       -0.004732   \n",
       "coupon_item_count                                           0.000405   \n",
       "coupon_unique_brand                                         0.001093   \n",
       "mean_item_quantity_purchased                                0.063688   \n",
       "mean_selling_price                                         -0.028764   \n",
       "mean_other_discount                                         0.074968   \n",
       "mean_coupon_discount                                       -0.035479   \n",
       "total_item_customer_purchased                               1.000000   \n",
       "buying_frequency                                            0.653755   \n",
       "items_with_coupon_count                                     0.982667   \n",
       "\n",
       "                                       buying_frequency  \\\n",
       "campaign_id                                   -0.021226   \n",
       "coupon_id                                      0.015998   \n",
       "customer_id                                    0.005993   \n",
       "redemption_status                              0.019149   \n",
       "campaign_period                                0.016096   \n",
       "campaign_quarter                               0.037505   \n",
       "category_count_Food & Dairy                   -0.007929   \n",
       "category_count_Garden                         -0.005819   \n",
       "category_count_Grocery                        -0.005600   \n",
       "category_count_Health & Personal care          0.005248   \n",
       "category_count_Meat & Fish                     0.008679   \n",
       "category_count_Miscellaneous                  -0.002077   \n",
       "category_count_Established                     0.005059   \n",
       "category_count_Local                          -0.001009   \n",
       "coupon_item_count                              0.004307   \n",
       "coupon_unique_brand                            0.007411   \n",
       "mean_item_quantity_purchased                   0.228941   \n",
       "mean_selling_price                             0.042995   \n",
       "mean_other_discount                            0.060520   \n",
       "mean_coupon_discount                          -0.002971   \n",
       "total_item_customer_purchased                  0.653755   \n",
       "buying_frequency                               1.000000   \n",
       "items_with_coupon_count                        0.607286   \n",
       "\n",
       "                                       items_with_coupon_count  \n",
       "campaign_id                                          -0.017897  \n",
       "coupon_id                                             0.036697  \n",
       "customer_id                                           0.108197  \n",
       "redemption_status                                     0.062166  \n",
       "campaign_period                                       0.050209  \n",
       "campaign_quarter                                      0.054821  \n",
       "category_count_Food & Dairy                          -0.007239  \n",
       "category_count_Garden                                -0.003605  \n",
       "category_count_Grocery                               -0.005045  \n",
       "category_count_Health & Personal care                 0.001610  \n",
       "category_count_Meat & Fish                            0.002061  \n",
       "category_count_Miscellaneous                         -0.001982  \n",
       "category_count_Established                            0.000262  \n",
       "category_count_Local                                 -0.005275  \n",
       "coupon_item_count                                    -0.000536  \n",
       "coupon_unique_brand                                   0.000673  \n",
       "mean_item_quantity_purchased                          0.050654  \n",
       "mean_selling_price                                   -0.044439  \n",
       "mean_other_discount                                   0.047346  \n",
       "mean_coupon_discount                                 -0.054054  \n",
       "total_item_customer_purchased                         0.982667  \n",
       "buying_frequency                                      0.607286  \n",
       "items_with_coupon_count                               1.000000  "
      ]
     },
     "execution_count": 295,
     "metadata": {},
     "output_type": "execute_result"
    }
   ],
   "source": [
    "df_final.corr()"
   ]
  },
  {
   "cell_type": "code",
   "execution_count": 141,
   "metadata": {},
   "outputs": [
    {
     "data": {
      "image/png": "[encoded data removed]",
      "text/plain": [
       "<Figure size 1440x864 with 2 Axes>"
      ]
     },
     "metadata": {
      "needs_background": "light"
     },
     "output_type": "display_data"
    }
   ],
   "source": [
    "plt.figure(figsize=(20,12))\n",
    "sns.heatmap(df_final.corr(),square=True,cmap=\"BuPu\")\n",
    "plt.show()"
   ]
  },
  {
   "cell_type": "markdown",
   "metadata": {},
   "source": [
    "### Encoding"
   ]
  },
  {
   "cell_type": "code",
   "execution_count": 142,
   "metadata": {},
   "outputs": [],
   "source": [
    "df_final.drop([\"start_date\",\"end_date\"],axis=1,inplace=True)"
   ]
  },
  {
   "cell_type": "code",
   "execution_count": 143,
   "metadata": {},
   "outputs": [
    {
     "data": {
      "text/html": [
       "<div>\n",
       "<style scoped>\n",
       "    .dataframe tbody tr th:only-of-type {\n",
       "        vertical-align: middle;\n",
       "    }\n",
       "\n",
       "    .dataframe tbody tr th {\n",
       "        vertical-align: top;\n",
       "    }\n",
       "\n",
       "    .dataframe thead th {\n",
       "        text-align: right;\n",
       "    }\n",
       "</style>\n",
       "<table border=\"1\" class=\"dataframe\">\n",
       "  <thead>\n",
       "    <tr style=\"text-align: right;\">\n",
       "      <th></th>\n",
       "      <th>campaign_id</th>\n",
       "      <th>coupon_id</th>\n",
       "      <th>customer_id</th>\n",
       "      <th>redemption_status</th>\n",
       "      <th>campaign_period</th>\n",
       "      <th>campaign_quarter</th>\n",
       "      <th>category_count_Food &amp; Dairy</th>\n",
       "      <th>category_count_Garden</th>\n",
       "      <th>category_count_Grocery</th>\n",
       "      <th>category_count_Health &amp; Personal care</th>\n",
       "      <th>category_count_Meat &amp; Fish</th>\n",
       "      <th>category_count_Miscellaneous</th>\n",
       "      <th>category_count_Established</th>\n",
       "      <th>category_count_Local</th>\n",
       "      <th>coupon_item_count</th>\n",
       "      <th>coupon_unique_brand</th>\n",
       "      <th>mean_item_quantity_purchased</th>\n",
       "      <th>mean_selling_price</th>\n",
       "      <th>mean_other_discount</th>\n",
       "      <th>mean_coupon_discount</th>\n",
       "      <th>total_item_customer_purchased</th>\n",
       "      <th>buying_frequency</th>\n",
       "      <th>items_with_coupon_count</th>\n",
       "      <th>campaign_type_Y</th>\n",
       "      <th>campaign_Year_2013</th>\n",
       "      <th>campaign_month_2</th>\n",
       "      <th>campaign_month_4</th>\n",
       "      <th>campaign_month_5</th>\n",
       "      <th>campaign_month_7</th>\n",
       "      <th>campaign_month_8</th>\n",
       "      <th>campaign_month_9</th>\n",
       "      <th>campaign_month_11</th>\n",
       "      <th>campaign_month_12</th>\n",
       "    </tr>\n",
       "  </thead>\n",
       "  <tbody>\n",
       "    <tr>\n",
       "      <td>0</td>\n",
       "      <td>13</td>\n",
       "      <td>27</td>\n",
       "      <td>1053</td>\n",
       "      <td>0</td>\n",
       "      <td>12</td>\n",
       "      <td>6</td>\n",
       "      <td>0.000000</td>\n",
       "      <td>0.000000</td>\n",
       "      <td>125.000000</td>\n",
       "      <td>0.000000</td>\n",
       "      <td>0.000000</td>\n",
       "      <td>0.000000</td>\n",
       "      <td>125.000000</td>\n",
       "      <td>0.000000</td>\n",
       "      <td>125</td>\n",
       "      <td>2</td>\n",
       "      <td>340.000000</td>\n",
       "      <td>184.260484</td>\n",
       "      <td>-33.168935</td>\n",
       "      <td>-0.287258</td>\n",
       "      <td>310</td>\n",
       "      <td>80</td>\n",
       "      <td>139</td>\n",
       "      <td>0</td>\n",
       "      <td>1</td>\n",
       "      <td>0</td>\n",
       "      <td>0</td>\n",
       "      <td>1</td>\n",
       "      <td>0</td>\n",
       "      <td>0</td>\n",
       "      <td>0</td>\n",
       "      <td>0</td>\n",
       "      <td>0</td>\n",
       "    </tr>\n",
       "    <tr>\n",
       "      <td>1</td>\n",
       "      <td>13</td>\n",
       "      <td>116</td>\n",
       "      <td>48</td>\n",
       "      <td>0</td>\n",
       "      <td>12</td>\n",
       "      <td>6</td>\n",
       "      <td>0.000000</td>\n",
       "      <td>0.000000</td>\n",
       "      <td>3.000000</td>\n",
       "      <td>0.000000</td>\n",
       "      <td>0.000000</td>\n",
       "      <td>0.000000</td>\n",
       "      <td>0.000000</td>\n",
       "      <td>3.000000</td>\n",
       "      <td>3</td>\n",
       "      <td>1</td>\n",
       "      <td>32.000000</td>\n",
       "      <td>234.247013</td>\n",
       "      <td>-27.699169</td>\n",
       "      <td>-3.215039</td>\n",
       "      <td>385</td>\n",
       "      <td>64</td>\n",
       "      <td>210</td>\n",
       "      <td>0</td>\n",
       "      <td>1</td>\n",
       "      <td>0</td>\n",
       "      <td>0</td>\n",
       "      <td>1</td>\n",
       "      <td>0</td>\n",
       "      <td>0</td>\n",
       "      <td>0</td>\n",
       "      <td>0</td>\n",
       "      <td>0</td>\n",
       "    </tr>\n",
       "    <tr>\n",
       "      <td>2</td>\n",
       "      <td>9</td>\n",
       "      <td>635</td>\n",
       "      <td>205</td>\n",
       "      <td>0</td>\n",
       "      <td>31</td>\n",
       "      <td>8</td>\n",
       "      <td>0.000000</td>\n",
       "      <td>0.000000</td>\n",
       "      <td>0.000000</td>\n",
       "      <td>67.000000</td>\n",
       "      <td>0.000000</td>\n",
       "      <td>0.000000</td>\n",
       "      <td>67.000000</td>\n",
       "      <td>0.000000</td>\n",
       "      <td>67</td>\n",
       "      <td>1</td>\n",
       "      <td>1.000000</td>\n",
       "      <td>121.094495</td>\n",
       "      <td>-17.795660</td>\n",
       "      <td>-2.212082</td>\n",
       "      <td>970</td>\n",
       "      <td>83</td>\n",
       "      <td>652</td>\n",
       "      <td>1</td>\n",
       "      <td>1</td>\n",
       "      <td>0</td>\n",
       "      <td>0</td>\n",
       "      <td>0</td>\n",
       "      <td>0</td>\n",
       "      <td>0</td>\n",
       "      <td>0</td>\n",
       "      <td>1</td>\n",
       "      <td>0</td>\n",
       "    </tr>\n",
       "    <tr>\n",
       "      <td>3</td>\n",
       "      <td>13</td>\n",
       "      <td>644</td>\n",
       "      <td>1050</td>\n",
       "      <td>0</td>\n",
       "      <td>12</td>\n",
       "      <td>6</td>\n",
       "      <td>0.000000</td>\n",
       "      <td>0.000000</td>\n",
       "      <td>4.000000</td>\n",
       "      <td>0.000000</td>\n",
       "      <td>0.000000</td>\n",
       "      <td>0.000000</td>\n",
       "      <td>4.000000</td>\n",
       "      <td>0.000000</td>\n",
       "      <td>4</td>\n",
       "      <td>1</td>\n",
       "      <td>1.000000</td>\n",
       "      <td>98.276034</td>\n",
       "      <td>-16.655570</td>\n",
       "      <td>-0.751477</td>\n",
       "      <td>237</td>\n",
       "      <td>64</td>\n",
       "      <td>128</td>\n",
       "      <td>0</td>\n",
       "      <td>1</td>\n",
       "      <td>0</td>\n",
       "      <td>0</td>\n",
       "      <td>1</td>\n",
       "      <td>0</td>\n",
       "      <td>0</td>\n",
       "      <td>0</td>\n",
       "      <td>0</td>\n",
       "      <td>0</td>\n",
       "    </tr>\n",
       "    <tr>\n",
       "      <td>4</td>\n",
       "      <td>8</td>\n",
       "      <td>1017</td>\n",
       "      <td>1489</td>\n",
       "      <td>0</td>\n",
       "      <td>77</td>\n",
       "      <td>5</td>\n",
       "      <td>0.000000</td>\n",
       "      <td>0.000000</td>\n",
       "      <td>32.000000</td>\n",
       "      <td>0.000000</td>\n",
       "      <td>0.000000</td>\n",
       "      <td>0.000000</td>\n",
       "      <td>32.000000</td>\n",
       "      <td>0.000000</td>\n",
       "      <td>32</td>\n",
       "      <td>1</td>\n",
       "      <td>247.000000</td>\n",
       "      <td>120.636103</td>\n",
       "      <td>-20.524733</td>\n",
       "      <td>-0.471548</td>\n",
       "      <td>562</td>\n",
       "      <td>97</td>\n",
       "      <td>283</td>\n",
       "      <td>0</td>\n",
       "      <td>1</td>\n",
       "      <td>1</td>\n",
       "      <td>0</td>\n",
       "      <td>0</td>\n",
       "      <td>0</td>\n",
       "      <td>0</td>\n",
       "      <td>0</td>\n",
       "      <td>0</td>\n",
       "      <td>0</td>\n",
       "    </tr>\n",
       "  </tbody>\n",
       "</table>\n",
       "</div>"
      ],
      "text/plain": [
       "   campaign_id  coupon_id  customer_id  redemption_status  campaign_period  \\\n",
       "0           13         27         1053                  0               12   \n",
       "1           13        116           48                  0               12   \n",
       "2            9        635          205                  0               31   \n",
       "3           13        644         1050                  0               12   \n",
       "4            8       1017         1489                  0               77   \n",
       "\n",
       "   campaign_quarter  category_count_Food & Dairy  category_count_Garden  \\\n",
       "0                 6                     0.000000               0.000000   \n",
       "1                 6                     0.000000               0.000000   \n",
       "2                 8                     0.000000               0.000000   \n",
       "3                 6                     0.000000               0.000000   \n",
       "4                 5                     0.000000               0.000000   \n",
       "\n",
       "   category_count_Grocery  category_count_Health & Personal care  \\\n",
       "0              125.000000                               0.000000   \n",
       "1                3.000000                               0.000000   \n",
       "2                0.000000                              67.000000   \n",
       "3                4.000000                               0.000000   \n",
       "4               32.000000                               0.000000   \n",
       "\n",
       "   category_count_Meat & Fish  category_count_Miscellaneous  \\\n",
       "0                    0.000000                      0.000000   \n",
       "1                    0.000000                      0.000000   \n",
       "2                    0.000000                      0.000000   \n",
       "3                    0.000000                      0.000000   \n",
       "4                    0.000000                      0.000000   \n",
       "\n",
       "   category_count_Established  category_count_Local  coupon_item_count  \\\n",
       "0                  125.000000              0.000000                125   \n",
       "1                    0.000000              3.000000                  3   \n",
       "2                   67.000000              0.000000                 67   \n",
       "3                    4.000000              0.000000                  4   \n",
       "4                   32.000000              0.000000                 32   \n",
       "\n",
       "   coupon_unique_brand  mean_item_quantity_purchased  mean_selling_price  \\\n",
       "0                    2                    340.000000          184.260484   \n",
       "1                    1                     32.000000          234.247013   \n",
       "2                    1                      1.000000          121.094495   \n",
       "3                    1                      1.000000           98.276034   \n",
       "4                    1                    247.000000          120.636103   \n",
       "\n",
       "   mean_other_discount  mean_coupon_discount  total_item_customer_purchased  \\\n",
       "0           -33.168935             -0.287258                            310   \n",
       "1           -27.699169             -3.215039                            385   \n",
       "2           -17.795660             -2.212082                            970   \n",
       "3           -16.655570             -0.751477                            237   \n",
       "4           -20.524733             -0.471548                            562   \n",
       "\n",
       "   buying_frequency  items_with_coupon_count  campaign_type_Y  \\\n",
       "0                80                      139                0   \n",
       "1                64                      210                0   \n",
       "2                83                      652                1   \n",
       "3                64                      128                0   \n",
       "4                97                      283                0   \n",
       "\n",
       "   campaign_Year_2013  campaign_month_2  campaign_month_4  campaign_month_5  \\\n",
       "0                   1                 0                 0                 1   \n",
       "1                   1                 0                 0                 1   \n",
       "2                   1                 0                 0                 0   \n",
       "3                   1                 0                 0                 1   \n",
       "4                   1                 1                 0                 0   \n",
       "\n",
       "   campaign_month_7  campaign_month_8  campaign_month_9  campaign_month_11  \\\n",
       "0                 0                 0                 0                  0   \n",
       "1                 0                 0                 0                  0   \n",
       "2                 0                 0                 0                  1   \n",
       "3                 0                 0                 0                  0   \n",
       "4                 0                 0                 0                  0   \n",
       "\n",
       "   campaign_month_12  \n",
       "0                  0  \n",
       "1                  0  \n",
       "2                  0  \n",
       "3                  0  \n",
       "4                  0  "
      ]
     },
     "execution_count": 143,
     "metadata": {},
     "output_type": "execute_result"
    }
   ],
   "source": [
    "df_final=pd.get_dummies(df_final,columns=[\"campaign_type\",\"campaign_Year\",\"campaign_month\"],drop_first=True)\n",
    "df_final.head()"
   ]
  },
  {
   "cell_type": "code",
   "execution_count": 144,
   "metadata": {},
   "outputs": [
    {
     "data": {
      "text/plain": [
       "(78369, 33)"
      ]
     },
     "execution_count": 144,
     "metadata": {},
     "output_type": "execute_result"
    }
   ],
   "source": [
    "df_final.shape"
   ]
  },
  {
   "cell_type": "code",
   "execution_count": 145,
   "metadata": {},
   "outputs": [
    {
     "data": {
      "text/plain": [
       "Index(['campaign_id', 'coupon_id', 'customer_id', 'redemption_status',\n",
       "       'campaign_period', 'campaign_quarter', 'category_count_Food & Dairy',\n",
       "       'category_count_Garden', 'category_count_Grocery',\n",
       "       'category_count_Health & Personal care', 'category_count_Meat & Fish',\n",
       "       'category_count_Miscellaneous', 'category_count_Established',\n",
       "       'category_count_Local', 'coupon_item_count', 'coupon_unique_brand',\n",
       "       'mean_item_quantity_purchased', 'mean_selling_price',\n",
       "       'mean_other_discount', 'mean_coupon_discount',\n",
       "       'total_item_customer_purchased', 'buying_frequency',\n",
       "       'items_with_coupon_count', 'campaign_type_Y', 'campaign_Year_2013',\n",
       "       'campaign_month_2', 'campaign_month_4', 'campaign_month_5',\n",
       "       'campaign_month_7', 'campaign_month_8', 'campaign_month_9',\n",
       "       'campaign_month_11', 'campaign_month_12'],\n",
       "      dtype='object')"
      ]
     },
     "execution_count": 145,
     "metadata": {},
     "output_type": "execute_result"
    }
   ],
   "source": [
    "df_final.columns"
   ]
  },
  {
   "cell_type": "markdown",
   "metadata": {},
   "source": [
    "### Outlier "
   ]
  },
  {
   "cell_type": "code",
   "execution_count": 146,
   "metadata": {},
   "outputs": [],
   "source": [
    "num_list=['campaign_period','campaign_quarter','coupon_item_count','coupon_unique_brand','mean_item_quantity_purchased', 'mean_selling_price',\n",
    "       'mean_other_discount', 'mean_coupon_discount','total_item_customer_purchased', 'buying_frequency','items_with_coupon_count']"
   ]
  },
  {
   "cell_type": "code",
   "execution_count": 147,
   "metadata": {},
   "outputs": [
    {
     "data": {
      "image/png": "[encoded data removed]",
      "text/plain": [
       "<Figure size 432x288 with 1 Axes>"
      ]
     },
     "metadata": {
      "needs_background": "light"
     },
     "output_type": "display_data"
    },
    {
     "data": {
      "image/png": "[encoded data removed]",
      "text/plain": [
       "<Figure size 432x288 with 1 Axes>"
      ]
     },
     "metadata": {
      "needs_background": "light"
     },
     "output_type": "display_data"
    },
    {
     "data": {
      "image/png": "[encoded data removed]",
      "text/plain": [
       "<Figure size 432x288 with 1 Axes>"
      ]
     },
     "metadata": {
      "needs_background": "light"
     },
     "output_type": "display_data"
    },
    {
     "data": {
      "image/png": "[encoded data removed]",
      "text/plain": [
       "<Figure size 432x288 with 1 Axes>"
      ]
     },
     "metadata": {
      "needs_background": "light"
     },
     "output_type": "display_data"
    },
    {
     "data": {
      "image/png": "[encoded data removed]",
      "text/plain": [
       "<Figure size 432x288 with 1 Axes>"
      ]
     },
     "metadata": {
      "needs_background": "light"
     },
     "output_type": "display_data"
    },
    {
     "data": {
      "image/png": "[encoded data removed]",
      "text/plain": [
       "<Figure size 432x288 with 1 Axes>"
      ]
     },
     "metadata": {
      "needs_background": "light"
     },
     "output_type": "display_data"
    },
    {
     "data": {
      "image/png": "[encoded data removed]",
      "text/plain": [
       "<Figure size 432x288 with 1 Axes>"
      ]
     },
     "metadata": {
      "needs_background": "light"
     },
     "output_type": "display_data"
    },
    {
     "data": {
      "image/png": "[encoded data removed]",
      "text/plain": [
       "<Figure size 432x288 with 1 Axes>"
      ]
     },
     "metadata": {
      "needs_background": "light"
     },
     "output_type": "display_data"
    },
    {
     "data": {
      "image/png": "[encoded data removed]",
      "text/plain": [
       "<Figure size 432x288 with 1 Axes>"
      ]
     },
     "metadata": {
      "needs_background": "light"
     },
     "output_type": "display_data"
    },
    {
     "data": {
      "image/png": "[encoded data removed]",
      "text/plain": [
       "<Figure size 432x288 with 1 Axes>"
      ]
     },
     "metadata": {
      "needs_background": "light"
     },
     "output_type": "display_data"
    },
    {
     "data": {
      "image/png": "[encoded data removed]",
      "text/plain": [
       "<Figure size 432x288 with 1 Axes>"
      ]
     },
     "metadata": {
      "needs_background": "light"
     },
     "output_type": "display_data"
    }
   ],
   "source": [
    "for i in num_list:\n",
    "    sns.boxplot(df_final[i])\n",
    "    plt.show()"
   ]
  },
  {
   "cell_type": "code",
   "execution_count": null,
   "metadata": {},
   "outputs": [],
   "source": []
  },
  {
   "cell_type": "markdown",
   "metadata": {},
   "source": [
    "### Data Distribution"
   ]
  },
  {
   "cell_type": "code",
   "execution_count": 148,
   "metadata": {
    "scrolled": false
   },
   "outputs": [
    {
     "data": {
      "image/png": "[encoded data removed]",
      "text/plain": [
       "<Figure size 432x288 with 1 Axes>"
      ]
     },
     "metadata": {
      "needs_background": "light"
     },
     "output_type": "display_data"
    },
    {
     "data": {
      "image/png": "[encoded data removed]",
      "text/plain": [
       "<Figure size 432x288 with 1 Axes>"
      ]
     },
     "metadata": {
      "needs_background": "light"
     },
     "output_type": "display_data"
    },
    {
     "data": {
      "image/png": "[encoded data removed]",
      "text/plain": [
       "<Figure size 432x288 with 1 Axes>"
      ]
     },
     "metadata": {
      "needs_background": "light"
     },
     "output_type": "display_data"
    },
    {
     "data": {
      "image/png": "[encoded data removed]",
      "text/plain": [
       "<Figure size 432x288 with 1 Axes>"
      ]
     },
     "metadata": {
      "needs_background": "light"
     },
     "output_type": "display_data"
    },
    {
     "data": {
      "image/png": "[encoded data removed]",
      "text/plain": [
       "<Figure size 432x288 with 1 Axes>"
      ]
     },
     "metadata": {
      "needs_background": "light"
     },
     "output_type": "display_data"
    },
    {
     "data": {
      "image/png": "[encoded data removed]",
      "text/plain": [
       "<Figure size 432x288 with 1 Axes>"
      ]
     },
     "metadata": {
      "needs_background": "light"
     },
     "output_type": "display_data"
    },
    {
     "data": {
      "image/png": "[encoded data removed]",
      "text/plain": [
       "<Figure size 432x288 with 1 Axes>"
      ]
     },
     "metadata": {
      "needs_background": "light"
     },
     "output_type": "display_data"
    },
    {
     "data": {
      "image/png": "[encoded data removed]",
      "text/plain": [
       "<Figure size 432x288 with 1 Axes>"
      ]
     },
     "metadata": {
      "needs_background": "light"
     },
     "output_type": "display_data"
    },
    {
     "data": {
      "image/png": "[encoded data removed]",
      "text/plain": [
       "<Figure size 432x288 with 1 Axes>"
      ]
     },
     "metadata": {
      "needs_background": "light"
     },
     "output_type": "display_data"
    },
    {
     "data": {
      "image/png": "[encoded data removed]",
      "text/plain": [
       "<Figure size 432x288 with 1 Axes>"
      ]
     },
     "metadata": {
      "needs_background": "light"
     },
     "output_type": "display_data"
    },
    {
     "data": {
      "image/png": "[encoded data removed]",
      "text/plain": [
       "<Figure size 432x288 with 1 Axes>"
      ]
     },
     "metadata": {
      "needs_background": "light"
     },
     "output_type": "display_data"
    }
   ],
   "source": [
    "for i in num_list:\n",
    "    sns.distplot(df_final[i])\n",
    "    plt.show()"
   ]
  },
  {
   "cell_type": "code",
   "execution_count": null,
   "metadata": {},
   "outputs": [],
   "source": []
  },
  {
   "cell_type": "markdown",
   "metadata": {},
   "source": [
    "### Model"
   ]
  },
  {
   "cell_type": "code",
   "execution_count": 149,
   "metadata": {},
   "outputs": [],
   "source": [
    "x= df_final.drop(\"redemption_status\",axis=1)\n",
    "y=df_final[\"redemption_status\"]"
   ]
  },
  {
   "cell_type": "code",
   "execution_count": 150,
   "metadata": {},
   "outputs": [],
   "source": [
    "rf=RandomForestClassifier()"
   ]
  },
  {
   "cell_type": "code",
   "execution_count": 151,
   "metadata": {},
   "outputs": [],
   "source": [
    "cv=cross_val_score(rf,x,y,cv=5,scoring=\"roc_auc\")"
   ]
  },
  {
   "cell_type": "code",
   "execution_count": 152,
   "metadata": {},
   "outputs": [
    {
     "data": {
      "text/plain": [
       "array([0.87255722, 0.87651207, 0.87106919, 0.88165766, 0.84709357])"
      ]
     },
     "execution_count": 152,
     "metadata": {},
     "output_type": "execute_result"
    }
   ],
   "source": [
    "cv"
   ]
  },
  {
   "cell_type": "code",
   "execution_count": 153,
   "metadata": {},
   "outputs": [
    {
     "data": {
      "text/plain": [
       "0.8697779414796001"
      ]
     },
     "execution_count": 153,
     "metadata": {},
     "output_type": "execute_result"
    }
   ],
   "source": [
    "cv.mean()"
   ]
  },
  {
   "cell_type": "code",
   "execution_count": 154,
   "metadata": {},
   "outputs": [
    {
     "data": {
      "text/plain": [
       "0.13022205852039992"
      ]
     },
     "execution_count": 154,
     "metadata": {},
     "output_type": "execute_result"
    }
   ],
   "source": [
    "1-cv.mean()"
   ]
  },
  {
   "cell_type": "code",
   "execution_count": 155,
   "metadata": {},
   "outputs": [
    {
     "data": {
      "text/plain": [
       "0.013327120727352102"
      ]
     },
     "execution_count": 155,
     "metadata": {},
     "output_type": "execute_result"
    }
   ],
   "source": [
    "np.std(cv,ddof=1)"
   ]
  },
  {
   "cell_type": "code",
   "execution_count": null,
   "metadata": {},
   "outputs": [],
   "source": []
  },
  {
   "cell_type": "code",
   "execution_count": null,
   "metadata": {},
   "outputs": [],
   "source": []
  },
  {
   "cell_type": "code",
   "execution_count": null,
   "metadata": {},
   "outputs": [],
   "source": []
  },
  {
   "cell_type": "code",
   "execution_count": null,
   "metadata": {},
   "outputs": [],
   "source": []
  },
  {
   "cell_type": "code",
   "execution_count": 297,
   "metadata": {},
   "outputs": [
    {
     "data": {
      "text/html": [
       "<div>\n",
       "<style scoped>\n",
       "    .dataframe tbody tr th:only-of-type {\n",
       "        vertical-align: middle;\n",
       "    }\n",
       "\n",
       "    .dataframe tbody tr th {\n",
       "        vertical-align: top;\n",
       "    }\n",
       "\n",
       "    .dataframe thead th {\n",
       "        text-align: right;\n",
       "    }\n",
       "</style>\n",
       "<table border=\"1\" class=\"dataframe\">\n",
       "  <thead>\n",
       "    <tr style=\"text-align: right;\">\n",
       "      <th></th>\n",
       "      <th>campaign_id</th>\n",
       "      <th>coupon_id</th>\n",
       "      <th>customer_id</th>\n",
       "      <th>redemption_status</th>\n",
       "      <th>campaign_type</th>\n",
       "      <th>start_date</th>\n",
       "      <th>end_date</th>\n",
       "      <th>campaign_period</th>\n",
       "      <th>campaign_Year</th>\n",
       "      <th>campaign_month</th>\n",
       "      <th>campaign_quarter</th>\n",
       "      <th>category_count_Food &amp; Dairy</th>\n",
       "      <th>category_count_Garden</th>\n",
       "      <th>category_count_Grocery</th>\n",
       "      <th>category_count_Health &amp; Personal care</th>\n",
       "      <th>category_count_Meat &amp; Fish</th>\n",
       "      <th>category_count_Miscellaneous</th>\n",
       "      <th>category_count_Established</th>\n",
       "      <th>category_count_Local</th>\n",
       "      <th>coupon_item_count</th>\n",
       "      <th>coupon_unique_brand</th>\n",
       "      <th>mean_item_quantity_purchased</th>\n",
       "      <th>mean_selling_price</th>\n",
       "      <th>mean_other_discount</th>\n",
       "      <th>mean_coupon_discount</th>\n",
       "      <th>total_item_customer_purchased</th>\n",
       "      <th>buying_frequency</th>\n",
       "      <th>items_with_coupon_count</th>\n",
       "    </tr>\n",
       "  </thead>\n",
       "  <tbody>\n",
       "    <tr>\n",
       "      <td>0</td>\n",
       "      <td>13</td>\n",
       "      <td>27</td>\n",
       "      <td>1053</td>\n",
       "      <td>0</td>\n",
       "      <td>X</td>\n",
       "      <td>2013-05-19</td>\n",
       "      <td>2013-05-07</td>\n",
       "      <td>12</td>\n",
       "      <td>2013</td>\n",
       "      <td>5</td>\n",
       "      <td>6</td>\n",
       "      <td>0.000000</td>\n",
       "      <td>0.000000</td>\n",
       "      <td>125.000000</td>\n",
       "      <td>0.000000</td>\n",
       "      <td>0.000000</td>\n",
       "      <td>0.000000</td>\n",
       "      <td>125.000000</td>\n",
       "      <td>0.000000</td>\n",
       "      <td>125</td>\n",
       "      <td>2</td>\n",
       "      <td>340.000000</td>\n",
       "      <td>184.260484</td>\n",
       "      <td>-33.168935</td>\n",
       "      <td>-0.287258</td>\n",
       "      <td>310</td>\n",
       "      <td>80</td>\n",
       "      <td>139</td>\n",
       "    </tr>\n",
       "    <tr>\n",
       "      <td>1</td>\n",
       "      <td>13</td>\n",
       "      <td>116</td>\n",
       "      <td>48</td>\n",
       "      <td>0</td>\n",
       "      <td>X</td>\n",
       "      <td>2013-05-19</td>\n",
       "      <td>2013-05-07</td>\n",
       "      <td>12</td>\n",
       "      <td>2013</td>\n",
       "      <td>5</td>\n",
       "      <td>6</td>\n",
       "      <td>0.000000</td>\n",
       "      <td>0.000000</td>\n",
       "      <td>3.000000</td>\n",
       "      <td>0.000000</td>\n",
       "      <td>0.000000</td>\n",
       "      <td>0.000000</td>\n",
       "      <td>0.000000</td>\n",
       "      <td>3.000000</td>\n",
       "      <td>3</td>\n",
       "      <td>1</td>\n",
       "      <td>32.000000</td>\n",
       "      <td>234.247013</td>\n",
       "      <td>-27.699169</td>\n",
       "      <td>-3.215039</td>\n",
       "      <td>385</td>\n",
       "      <td>64</td>\n",
       "      <td>210</td>\n",
       "    </tr>\n",
       "    <tr>\n",
       "      <td>2</td>\n",
       "      <td>9</td>\n",
       "      <td>635</td>\n",
       "      <td>205</td>\n",
       "      <td>0</td>\n",
       "      <td>Y</td>\n",
       "      <td>2013-11-03</td>\n",
       "      <td>2013-12-04</td>\n",
       "      <td>31</td>\n",
       "      <td>2013</td>\n",
       "      <td>11</td>\n",
       "      <td>8</td>\n",
       "      <td>0.000000</td>\n",
       "      <td>0.000000</td>\n",
       "      <td>0.000000</td>\n",
       "      <td>67.000000</td>\n",
       "      <td>0.000000</td>\n",
       "      <td>0.000000</td>\n",
       "      <td>67.000000</td>\n",
       "      <td>0.000000</td>\n",
       "      <td>67</td>\n",
       "      <td>1</td>\n",
       "      <td>1.000000</td>\n",
       "      <td>121.094495</td>\n",
       "      <td>-17.795660</td>\n",
       "      <td>-2.212082</td>\n",
       "      <td>970</td>\n",
       "      <td>83</td>\n",
       "      <td>652</td>\n",
       "    </tr>\n",
       "    <tr>\n",
       "      <td>3</td>\n",
       "      <td>13</td>\n",
       "      <td>644</td>\n",
       "      <td>1050</td>\n",
       "      <td>0</td>\n",
       "      <td>X</td>\n",
       "      <td>2013-05-19</td>\n",
       "      <td>2013-05-07</td>\n",
       "      <td>12</td>\n",
       "      <td>2013</td>\n",
       "      <td>5</td>\n",
       "      <td>6</td>\n",
       "      <td>0.000000</td>\n",
       "      <td>0.000000</td>\n",
       "      <td>4.000000</td>\n",
       "      <td>0.000000</td>\n",
       "      <td>0.000000</td>\n",
       "      <td>0.000000</td>\n",
       "      <td>4.000000</td>\n",
       "      <td>0.000000</td>\n",
       "      <td>4</td>\n",
       "      <td>1</td>\n",
       "      <td>1.000000</td>\n",
       "      <td>98.276034</td>\n",
       "      <td>-16.655570</td>\n",
       "      <td>-0.751477</td>\n",
       "      <td>237</td>\n",
       "      <td>64</td>\n",
       "      <td>128</td>\n",
       "    </tr>\n",
       "    <tr>\n",
       "      <td>4</td>\n",
       "      <td>8</td>\n",
       "      <td>1017</td>\n",
       "      <td>1489</td>\n",
       "      <td>0</td>\n",
       "      <td>X</td>\n",
       "      <td>2013-02-16</td>\n",
       "      <td>2013-05-04</td>\n",
       "      <td>77</td>\n",
       "      <td>2013</td>\n",
       "      <td>2</td>\n",
       "      <td>5</td>\n",
       "      <td>0.000000</td>\n",
       "      <td>0.000000</td>\n",
       "      <td>32.000000</td>\n",
       "      <td>0.000000</td>\n",
       "      <td>0.000000</td>\n",
       "      <td>0.000000</td>\n",
       "      <td>32.000000</td>\n",
       "      <td>0.000000</td>\n",
       "      <td>32</td>\n",
       "      <td>1</td>\n",
       "      <td>247.000000</td>\n",
       "      <td>120.636103</td>\n",
       "      <td>-20.524733</td>\n",
       "      <td>-0.471548</td>\n",
       "      <td>562</td>\n",
       "      <td>97</td>\n",
       "      <td>283</td>\n",
       "    </tr>\n",
       "  </tbody>\n",
       "</table>\n",
       "</div>"
      ],
      "text/plain": [
       "   campaign_id  coupon_id  customer_id  redemption_status campaign_type  \\\n",
       "0           13         27         1053                  0             X   \n",
       "1           13        116           48                  0             X   \n",
       "2            9        635          205                  0             Y   \n",
       "3           13        644         1050                  0             X   \n",
       "4            8       1017         1489                  0             X   \n",
       "\n",
       "  start_date   end_date  campaign_period campaign_Year campaign_month  \\\n",
       "0 2013-05-19 2013-05-07               12          2013              5   \n",
       "1 2013-05-19 2013-05-07               12          2013              5   \n",
       "2 2013-11-03 2013-12-04               31          2013             11   \n",
       "3 2013-05-19 2013-05-07               12          2013              5   \n",
       "4 2013-02-16 2013-05-04               77          2013              2   \n",
       "\n",
       "   campaign_quarter  category_count_Food & Dairy  category_count_Garden  \\\n",
       "0                 6                     0.000000               0.000000   \n",
       "1                 6                     0.000000               0.000000   \n",
       "2                 8                     0.000000               0.000000   \n",
       "3                 6                     0.000000               0.000000   \n",
       "4                 5                     0.000000               0.000000   \n",
       "\n",
       "   category_count_Grocery  category_count_Health & Personal care  \\\n",
       "0              125.000000                               0.000000   \n",
       "1                3.000000                               0.000000   \n",
       "2                0.000000                              67.000000   \n",
       "3                4.000000                               0.000000   \n",
       "4               32.000000                               0.000000   \n",
       "\n",
       "   category_count_Meat & Fish  category_count_Miscellaneous  \\\n",
       "0                    0.000000                      0.000000   \n",
       "1                    0.000000                      0.000000   \n",
       "2                    0.000000                      0.000000   \n",
       "3                    0.000000                      0.000000   \n",
       "4                    0.000000                      0.000000   \n",
       "\n",
       "   category_count_Established  category_count_Local  coupon_item_count  \\\n",
       "0                  125.000000              0.000000                125   \n",
       "1                    0.000000              3.000000                  3   \n",
       "2                   67.000000              0.000000                 67   \n",
       "3                    4.000000              0.000000                  4   \n",
       "4                   32.000000              0.000000                 32   \n",
       "\n",
       "   coupon_unique_brand  mean_item_quantity_purchased  mean_selling_price  \\\n",
       "0                    2                    340.000000          184.260484   \n",
       "1                    1                     32.000000          234.247013   \n",
       "2                    1                      1.000000          121.094495   \n",
       "3                    1                      1.000000           98.276034   \n",
       "4                    1                    247.000000          120.636103   \n",
       "\n",
       "   mean_other_discount  mean_coupon_discount  total_item_customer_purchased  \\\n",
       "0           -33.168935             -0.287258                            310   \n",
       "1           -27.699169             -3.215039                            385   \n",
       "2           -17.795660             -2.212082                            970   \n",
       "3           -16.655570             -0.751477                            237   \n",
       "4           -20.524733             -0.471548                            562   \n",
       "\n",
       "   buying_frequency  items_with_coupon_count  \n",
       "0                80                      139  \n",
       "1                64                      210  \n",
       "2                83                      652  \n",
       "3                64                      128  \n",
       "4                97                      283  "
      ]
     },
     "execution_count": 297,
     "metadata": {},
     "output_type": "execute_result"
    }
   ],
   "source": [
    "df_final.head()"
   ]
  },
  {
   "cell_type": "code",
   "execution_count": 301,
   "metadata": {},
   "outputs": [
    {
     "data": {
      "text/plain": [
       "(78369, 28)"
      ]
     },
     "execution_count": 301,
     "metadata": {},
     "output_type": "execute_result"
    }
   ],
   "source": [
    "df_final.shape"
   ]
  },
  {
   "cell_type": "code",
   "execution_count": 298,
   "metadata": {},
   "outputs": [
    {
     "data": {
      "text/plain": [
       "Index(['campaign_id', 'coupon_id', 'customer_id', 'redemption_status',\n",
       "       'campaign_type', 'start_date', 'end_date', 'campaign_period',\n",
       "       'campaign_Year', 'campaign_month', 'campaign_quarter',\n",
       "       'category_count_Food & Dairy', 'category_count_Garden',\n",
       "       'category_count_Grocery', 'category_count_Health & Personal care',\n",
       "       'category_count_Meat & Fish', 'category_count_Miscellaneous',\n",
       "       'category_count_Established', 'category_count_Local',\n",
       "       'coupon_item_count', 'coupon_unique_brand',\n",
       "       'mean_item_quantity_purchased', 'mean_selling_price',\n",
       "       'mean_other_discount', 'mean_coupon_discount',\n",
       "       'total_item_customer_purchased', 'buying_frequency',\n",
       "       'items_with_coupon_count'],\n",
       "      dtype='object')"
      ]
     },
     "execution_count": 298,
     "metadata": {},
     "output_type": "execute_result"
    }
   ],
   "source": [
    "df_final.columns"
   ]
  }
 ],
 "metadata": {
  "kernelspec": {
   "display_name": "Python 3",
   "language": "python",
   "name": "python3"
  },
  "language_info": {
   "codemirror_mode": {
    "name": "ipython",
    "version": 3
   },
   "file_extension": ".py",
   "mimetype": "text/x-python",
   "name": "python",
   "nbconvert_exporter": "python",
   "pygments_lexer": "ipython3",
   "version": "3.7.4"
  }
 },
 "nbformat": 4,
 "nbformat_minor": 2
}
